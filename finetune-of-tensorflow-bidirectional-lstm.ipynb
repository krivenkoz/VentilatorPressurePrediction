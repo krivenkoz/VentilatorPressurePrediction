{
 "cells": [
  {
   "cell_type": "code",
   "execution_count": 1,
   "id": "d7d1a020",
   "metadata": {
    "_cell_guid": "3e5a0bd1-3e22-4b2c-a565-68985e55f95e",
    "_uuid": "e331dbcc-0346-4019-9ff6-b890154a878b",
    "execution": {
     "iopub.execute_input": "2021-09-30T02:13:28.126459Z",
     "iopub.status.busy": "2021-09-30T02:13:28.120983Z",
     "iopub.status.idle": "2021-09-30T02:13:36.374309Z",
     "shell.execute_reply": "2021-09-30T02:13:36.375016Z",
     "shell.execute_reply.started": "2021-09-29T05:29:00.057824Z"
    },
    "jupyter": {
     "outputs_hidden": false
    },
    "papermill": {
     "duration": 8.28138,
     "end_time": "2021-09-30T02:13:36.375423",
     "exception": false,
     "start_time": "2021-09-30T02:13:28.094043",
     "status": "completed"
    },
    "tags": []
   },
   "outputs": [],
   "source": [
    "import numpy as np\n",
    "import pandas as pd\n",
    "\n",
    "import optuna\n",
    "\n",
    "import tensorflow as tf\n",
    "from tensorflow import keras\n",
    "from tensorflow.keras.callbacks import EarlyStopping, ModelCheckpoint\n",
    "from tensorflow.keras.callbacks import LearningRateScheduler, ReduceLROnPlateau\n",
    "from tensorflow.keras.optimizers.schedules import ExponentialDecay\n",
    "\n",
    "from sklearn.metrics import mean_absolute_error as mae\n",
    "from sklearn.preprocessing import RobustScaler, normalize\n",
    "from sklearn.model_selection import train_test_split, GroupKFold, KFold\n",
    "\n",
    "from IPython.display import display"
   ]
  },
  {
   "cell_type": "code",
   "execution_count": 2,
   "id": "fde8ac08",
   "metadata": {
    "_cell_guid": "89eb257e-0ed2-4f8b-94d6-462a5e995eb1",
    "_uuid": "ca71d87d-6594-4f31-906d-0b53cd4c1374",
    "execution": {
     "iopub.execute_input": "2021-09-30T02:13:36.420810Z",
     "iopub.status.busy": "2021-09-30T02:13:36.419671Z",
     "iopub.status.idle": "2021-09-30T02:13:52.450161Z",
     "shell.execute_reply": "2021-09-30T02:13:52.449376Z",
     "shell.execute_reply.started": "2021-09-29T05:29:05.464098Z"
    },
    "jupyter": {
     "outputs_hidden": false
    },
    "papermill": {
     "duration": 16.054886,
     "end_time": "2021-09-30T02:13:52.450333",
     "exception": false,
     "start_time": "2021-09-30T02:13:36.395447",
     "status": "completed"
    },
    "tags": []
   },
   "outputs": [],
   "source": [
    "DEBUG = True\n",
    "\n",
    "path_to_data = 'e:\\\\Krivenko\\\\Kaggle\\\\2021\\\\New20211005\\\\'\n",
    "\n",
    "train = pd.read_csv(path_to_data + 'train.csv')\n",
    "test = pd.read_csv(path_to_data + 'test.csv')\n",
    "submission = pd.read_csv(path_to_data + 'sample_submission.csv')\n",
    "\n",
    "if DEBUG:\n",
    "    train = train[:80*1000]"
   ]
  },
  {
   "cell_type": "code",
   "execution_count": 3,
   "id": "c40d4ada",
   "metadata": {
    "execution": {
     "iopub.execute_input": "2021-09-30T02:13:52.490198Z",
     "iopub.status.busy": "2021-09-30T02:13:52.489127Z",
     "iopub.status.idle": "2021-09-30T02:13:52.492308Z",
     "shell.execute_reply": "2021-09-30T02:13:52.491781Z",
     "shell.execute_reply.started": "2021-09-29T05:29:22.027134Z"
    },
    "papermill": {
     "duration": 0.025892,
     "end_time": "2021-09-30T02:13:52.492465",
     "exception": false,
     "start_time": "2021-09-30T02:13:52.466573",
     "status": "completed"
    },
    "tags": []
   },
   "outputs": [],
   "source": [
    "# def add_features(df):\n",
    "#     # rewritten calculation of lag features from this notebook: https://www.kaggle.com/patrick0302/add-lag-u-in-as-new-feat\n",
    "#     # some of ideas from this notebook: https://www.kaggle.com/mst8823/google-brain-lightgbm-baseline\n",
    "#     df['last_value_u_in'] = df.groupby('breath_id')['u_in'].transform('last')\n",
    "#     df['u_in_lag1'] = df.groupby('breath_id')['u_in'].shift(1)\n",
    "#     df['u_out_lag1'] = df.groupby('breath_id')['u_out'].shift(1)\n",
    "#     df['u_in_lag_back1'] = df.groupby('breath_id')['u_in'].shift(-1)\n",
    "#     df['u_out_lag_back1'] = df.groupby('breath_id')['u_out'].shift(-1)\n",
    "#     df['u_in_lag2'] = df.groupby('breath_id')['u_in'].shift(2)\n",
    "#     df['u_out_lag2'] = df.groupby('breath_id')['u_out'].shift(2)\n",
    "#     df['u_in_lag_back2'] = df.groupby('breath_id')['u_in'].shift(-2)\n",
    "#     df['u_out_lag_back2'] = df.groupby('breath_id')['u_out'].shift(-2)\n",
    "#     df['u_in_lag3'] = df.groupby('breath_id')['u_in'].shift(3)\n",
    "#     df['u_out_lag3'] = df.groupby('breath_id')['u_out'].shift(3)\n",
    "#     df['u_in_lag_back3'] = df.groupby('breath_id')['u_in'].shift(-3)\n",
    "#     df['u_out_lag_back3'] = df.groupby('breath_id')['u_out'].shift(-3)\n",
    "#     df = df.fillna(0)\n",
    "\n",
    "\n",
    "#     df['R__C'] = df[\"R\"].astype(str) + '__' + df[\"C\"].astype(str)\n",
    "\n",
    "#     # max value of u_in and u_out for each breath\n",
    "#     df['breath_id__u_in__max'] = df.groupby(['breath_id'])['u_in'].transform('max')\n",
    "#     df['breath_id__u_out__max'] = df.groupby(['breath_id'])['u_out'].transform('max')\n",
    "\n",
    "#     # difference between consequitive values\n",
    "#     df['u_in_diff1'] = df['u_in'] - df['u_in_lag1']\n",
    "#     df['u_out_diff1'] = df['u_out'] - df['u_out_lag1']\n",
    "#     df['u_in_diff2'] = df['u_in'] - df['u_in_lag2']\n",
    "#     df['u_out_diff2'] = df['u_out'] - df['u_out_lag2']\n",
    "#     # from here: https://www.kaggle.com/yasufuminakama/ventilator-pressure-lstm-starter\n",
    "#     df.loc[df['time_step'] == 0, 'u_in_diff'] = 0\n",
    "#     df.loc[df['time_step'] == 0, 'u_out_diff'] = 0\n",
    "\n",
    "#     # difference between the current value of u_in and the max value within the breath\n",
    "#     df['breath_id__u_in__diffmax'] = df.groupby(['breath_id'])['u_in'].transform('max') - df['u_in']\n",
    "#     df['breath_id__u_in__diffmean'] = df.groupby(['breath_id'])['u_in'].transform('mean') - df['u_in']\n",
    "\n",
    "#     # OHE\n",
    "#     df = df.merge(pd.get_dummies(df['R'], prefix='R'), left_index=True, right_index=True).drop(['R'], axis=1)\n",
    "#     df = df.merge(pd.get_dummies(df['C'], prefix='C'), left_index=True, right_index=True).drop(['C'], axis=1)\n",
    "#     df = df.merge(pd.get_dummies(df['R__C'], prefix='R__C'), left_index=True, right_index=True).drop(['R__C'], axis=1)\n",
    "\n",
    "#     # https://www.kaggle.com/c/ventilator-pressure-prediction/discussion/273974\n",
    "#     df['u_in_cumsum'] = df.groupby(['breath_id'])['u_in'].cumsum()\n",
    "#     df['time_step_cumsum'] = df.groupby(['breath_id'])['time_step'].cumsum()\n",
    "#     return df"
   ]
  },
  {
   "cell_type": "code",
   "execution_count": 4,
   "id": "d9aff903",
   "metadata": {
    "_cell_guid": "13a36b46-7067-4b29-aad3-7e3b15e8415b",
    "_uuid": "dc41dbf2-f199-4b9d-bbd9-bf6084162b47",
    "execution": {
     "iopub.execute_input": "2021-09-30T02:13:52.546220Z",
     "iopub.status.busy": "2021-09-30T02:13:52.545367Z",
     "iopub.status.idle": "2021-09-30T02:14:53.756237Z",
     "shell.execute_reply": "2021-09-30T02:14:53.756815Z",
     "shell.execute_reply.started": "2021-09-29T05:29:22.035227Z"
    },
    "jupyter": {
     "outputs_hidden": false
    },
    "papermill": {
     "duration": 61.248246,
     "end_time": "2021-09-30T02:14:53.757067",
     "exception": false,
     "start_time": "2021-09-30T02:13:52.508821",
     "status": "completed"
    },
    "tags": []
   },
   "outputs": [],
   "source": [
    "def add_features(df):\n",
    "    df['area'] = df['time_step'] * df['u_in']\n",
    "    df['area'] = df.groupby('breath_id')['area'].cumsum()\n",
    "    \n",
    "    df['u_in_cumsum'] = (df['u_in']).groupby(df['breath_id']).cumsum()\n",
    "    \n",
    "    df['u_in_lag1'] = df.groupby('breath_id')['u_in'].shift(1)\n",
    "    df['u_out_lag1'] = df.groupby('breath_id')['u_out'].shift(1)\n",
    "    df['u_in_lag_back1'] = df.groupby('breath_id')['u_in'].shift(-1)\n",
    "    df['u_out_lag_back1'] = df.groupby('breath_id')['u_out'].shift(-1)\n",
    "    df['u_in_lag2'] = df.groupby('breath_id')['u_in'].shift(2)\n",
    "    df['u_out_lag2'] = df.groupby('breath_id')['u_out'].shift(2)\n",
    "    df['u_in_lag_back2'] = df.groupby('breath_id')['u_in'].shift(-2)\n",
    "    df['u_out_lag_back2'] = df.groupby('breath_id')['u_out'].shift(-2)\n",
    "    df['u_in_lag3'] = df.groupby('breath_id')['u_in'].shift(3)\n",
    "    df['u_out_lag3'] = df.groupby('breath_id')['u_out'].shift(3)\n",
    "    df['u_in_lag_back3'] = df.groupby('breath_id')['u_in'].shift(-3)\n",
    "    df['u_out_lag_back3'] = df.groupby('breath_id')['u_out'].shift(-3)\n",
    "    df['u_in_lag4'] = df.groupby('breath_id')['u_in'].shift(4)\n",
    "    df['u_out_lag4'] = df.groupby('breath_id')['u_out'].shift(4)\n",
    "    df['u_in_lag_back4'] = df.groupby('breath_id')['u_in'].shift(-4)\n",
    "    df['u_out_lag_back4'] = df.groupby('breath_id')['u_out'].shift(-4)\n",
    "    df = df.fillna(0)\n",
    "    \n",
    "    df['breath_id__u_in__max'] = df.groupby(['breath_id'])['u_in'].transform('max')\n",
    "    df['breath_id__u_out__max'] = df.groupby(['breath_id'])['u_out'].transform('max')\n",
    "    \n",
    "    df['u_in_diff1'] = df['u_in'] - df['u_in_lag1']\n",
    "    df['u_out_diff1'] = df['u_out'] - df['u_out_lag1']\n",
    "    df['u_in_diff2'] = df['u_in'] - df['u_in_lag2']\n",
    "    df['u_out_diff2'] = df['u_out'] - df['u_out_lag2']\n",
    "    \n",
    "    df['breath_id__u_in__diffmax'] = df.groupby(['breath_id'])['u_in'].transform('max') - df['u_in']\n",
    "    df['breath_id__u_in__diffmean'] = df.groupby(['breath_id'])['u_in'].transform('mean') - df['u_in']\n",
    "    \n",
    "    df['breath_id__u_in__diffmax'] = df.groupby(['breath_id'])['u_in'].transform('max') - df['u_in']\n",
    "    df['breath_id__u_in__diffmean'] = df.groupby(['breath_id'])['u_in'].transform('mean') - df['u_in']\n",
    "    \n",
    "    df['u_in_diff3'] = df['u_in'] - df['u_in_lag3']\n",
    "    df['u_out_diff3'] = df['u_out'] - df['u_out_lag3']\n",
    "    df['u_in_diff4'] = df['u_in'] - df['u_in_lag4']\n",
    "    df['u_out_diff4'] = df['u_out'] - df['u_out_lag4']\n",
    "    df['cross']= df['u_in']*df['u_out']\n",
    "    df['cross2']= df['time_step']*df['u_out']\n",
    "    \n",
    "    df['R'] = df['R'].astype(str)\n",
    "    df['C'] = df['C'].astype(str)\n",
    "    df['R__C'] = df[\"R\"].astype(str) + '__' + df[\"C\"].astype(str)\n",
    "    df = pd.get_dummies(df)\n",
    "    return df\n",
    "\n",
    "train = add_features(train)\n",
    "test = add_features(test)"
   ]
  },
  {
   "cell_type": "code",
   "execution_count": 5,
   "id": "7c399772",
   "metadata": {
    "execution": {
     "iopub.execute_input": "2021-09-30T02:14:53.799347Z",
     "iopub.status.busy": "2021-09-30T02:14:53.798565Z",
     "iopub.status.idle": "2021-09-30T02:14:53.823435Z",
     "shell.execute_reply": "2021-09-30T02:14:53.824001Z",
     "shell.execute_reply.started": "2021-09-29T05:30:13.217304Z"
    },
    "papermill": {
     "duration": 0.050091,
     "end_time": "2021-09-30T02:14:53.824208",
     "exception": false,
     "start_time": "2021-09-30T02:14:53.774117",
     "status": "completed"
    },
    "tags": []
   },
   "outputs": [
    {
     "data": {
      "text/html": [
       "<div>\n",
       "<style scoped>\n",
       "    .dataframe tbody tr th:only-of-type {\n",
       "        vertical-align: middle;\n",
       "    }\n",
       "\n",
       "    .dataframe tbody tr th {\n",
       "        vertical-align: top;\n",
       "    }\n",
       "\n",
       "    .dataframe thead th {\n",
       "        text-align: right;\n",
       "    }\n",
       "</style>\n",
       "<table border=\"1\" class=\"dataframe\">\n",
       "  <thead>\n",
       "    <tr style=\"text-align: right;\">\n",
       "      <th></th>\n",
       "      <th>id</th>\n",
       "      <th>breath_id</th>\n",
       "      <th>time_step</th>\n",
       "      <th>u_in</th>\n",
       "      <th>u_out</th>\n",
       "      <th>pressure</th>\n",
       "      <th>area</th>\n",
       "      <th>u_in_cumsum</th>\n",
       "      <th>u_in_lag1</th>\n",
       "      <th>u_out_lag1</th>\n",
       "      <th>...</th>\n",
       "      <th>C_50</th>\n",
       "      <th>R__C_20__10</th>\n",
       "      <th>R__C_20__20</th>\n",
       "      <th>R__C_20__50</th>\n",
       "      <th>R__C_50__10</th>\n",
       "      <th>R__C_50__20</th>\n",
       "      <th>R__C_50__50</th>\n",
       "      <th>R__C_5__10</th>\n",
       "      <th>R__C_5__20</th>\n",
       "      <th>R__C_5__50</th>\n",
       "    </tr>\n",
       "  </thead>\n",
       "  <tbody>\n",
       "    <tr>\n",
       "      <th>0</th>\n",
       "      <td>1</td>\n",
       "      <td>1</td>\n",
       "      <td>0.000000</td>\n",
       "      <td>0.083334</td>\n",
       "      <td>0</td>\n",
       "      <td>5.837492</td>\n",
       "      <td>0.000000</td>\n",
       "      <td>0.083334</td>\n",
       "      <td>0.000000</td>\n",
       "      <td>0.0</td>\n",
       "      <td>...</td>\n",
       "      <td>1</td>\n",
       "      <td>0</td>\n",
       "      <td>0</td>\n",
       "      <td>1</td>\n",
       "      <td>0</td>\n",
       "      <td>0</td>\n",
       "      <td>0</td>\n",
       "      <td>0</td>\n",
       "      <td>0</td>\n",
       "      <td>0</td>\n",
       "    </tr>\n",
       "    <tr>\n",
       "      <th>1</th>\n",
       "      <td>2</td>\n",
       "      <td>1</td>\n",
       "      <td>0.033652</td>\n",
       "      <td>18.383041</td>\n",
       "      <td>0</td>\n",
       "      <td>5.907794</td>\n",
       "      <td>0.618632</td>\n",
       "      <td>18.466375</td>\n",
       "      <td>0.083334</td>\n",
       "      <td>0.0</td>\n",
       "      <td>...</td>\n",
       "      <td>1</td>\n",
       "      <td>0</td>\n",
       "      <td>0</td>\n",
       "      <td>1</td>\n",
       "      <td>0</td>\n",
       "      <td>0</td>\n",
       "      <td>0</td>\n",
       "      <td>0</td>\n",
       "      <td>0</td>\n",
       "      <td>0</td>\n",
       "    </tr>\n",
       "    <tr>\n",
       "      <th>2</th>\n",
       "      <td>3</td>\n",
       "      <td>1</td>\n",
       "      <td>0.067514</td>\n",
       "      <td>22.509278</td>\n",
       "      <td>0</td>\n",
       "      <td>7.876254</td>\n",
       "      <td>2.138333</td>\n",
       "      <td>40.975653</td>\n",
       "      <td>18.383041</td>\n",
       "      <td>0.0</td>\n",
       "      <td>...</td>\n",
       "      <td>1</td>\n",
       "      <td>0</td>\n",
       "      <td>0</td>\n",
       "      <td>1</td>\n",
       "      <td>0</td>\n",
       "      <td>0</td>\n",
       "      <td>0</td>\n",
       "      <td>0</td>\n",
       "      <td>0</td>\n",
       "      <td>0</td>\n",
       "    </tr>\n",
       "    <tr>\n",
       "      <th>3</th>\n",
       "      <td>4</td>\n",
       "      <td>1</td>\n",
       "      <td>0.101542</td>\n",
       "      <td>22.808822</td>\n",
       "      <td>0</td>\n",
       "      <td>11.742872</td>\n",
       "      <td>4.454391</td>\n",
       "      <td>63.784476</td>\n",
       "      <td>22.509278</td>\n",
       "      <td>0.0</td>\n",
       "      <td>...</td>\n",
       "      <td>1</td>\n",
       "      <td>0</td>\n",
       "      <td>0</td>\n",
       "      <td>1</td>\n",
       "      <td>0</td>\n",
       "      <td>0</td>\n",
       "      <td>0</td>\n",
       "      <td>0</td>\n",
       "      <td>0</td>\n",
       "      <td>0</td>\n",
       "    </tr>\n",
       "    <tr>\n",
       "      <th>4</th>\n",
       "      <td>5</td>\n",
       "      <td>1</td>\n",
       "      <td>0.135756</td>\n",
       "      <td>25.355850</td>\n",
       "      <td>0</td>\n",
       "      <td>12.234987</td>\n",
       "      <td>7.896588</td>\n",
       "      <td>89.140326</td>\n",
       "      <td>22.808822</td>\n",
       "      <td>0.0</td>\n",
       "      <td>...</td>\n",
       "      <td>1</td>\n",
       "      <td>0</td>\n",
       "      <td>0</td>\n",
       "      <td>1</td>\n",
       "      <td>0</td>\n",
       "      <td>0</td>\n",
       "      <td>0</td>\n",
       "      <td>0</td>\n",
       "      <td>0</td>\n",
       "      <td>0</td>\n",
       "    </tr>\n",
       "  </tbody>\n",
       "</table>\n",
       "<p>5 rows × 53 columns</p>\n",
       "</div>"
      ],
      "text/plain": [
       "   id  breath_id  time_step       u_in  u_out   pressure      area  \\\n",
       "0   1          1   0.000000   0.083334      0   5.837492  0.000000   \n",
       "1   2          1   0.033652  18.383041      0   5.907794  0.618632   \n",
       "2   3          1   0.067514  22.509278      0   7.876254  2.138333   \n",
       "3   4          1   0.101542  22.808822      0  11.742872  4.454391   \n",
       "4   5          1   0.135756  25.355850      0  12.234987  7.896588   \n",
       "\n",
       "   u_in_cumsum  u_in_lag1  u_out_lag1  ...  C_50  R__C_20__10  R__C_20__20  \\\n",
       "0     0.083334   0.000000         0.0  ...     1            0            0   \n",
       "1    18.466375   0.083334         0.0  ...     1            0            0   \n",
       "2    40.975653  18.383041         0.0  ...     1            0            0   \n",
       "3    63.784476  22.509278         0.0  ...     1            0            0   \n",
       "4    89.140326  22.808822         0.0  ...     1            0            0   \n",
       "\n",
       "   R__C_20__50  R__C_50__10  R__C_50__20  R__C_50__50  R__C_5__10  R__C_5__20  \\\n",
       "0            1            0            0            0           0           0   \n",
       "1            1            0            0            0           0           0   \n",
       "2            1            0            0            0           0           0   \n",
       "3            1            0            0            0           0           0   \n",
       "4            1            0            0            0           0           0   \n",
       "\n",
       "   R__C_5__50  \n",
       "0           0  \n",
       "1           0  \n",
       "2           0  \n",
       "3           0  \n",
       "4           0  \n",
       "\n",
       "[5 rows x 53 columns]"
      ]
     },
     "execution_count": 5,
     "metadata": {},
     "output_type": "execute_result"
    }
   ],
   "source": [
    "train.head()"
   ]
  },
  {
   "cell_type": "code",
   "execution_count": 6,
   "id": "7b689c6b",
   "metadata": {
    "execution": {
     "iopub.execute_input": "2021-09-30T02:14:53.862589Z",
     "iopub.status.busy": "2021-09-30T02:14:53.861916Z",
     "iopub.status.idle": "2021-09-30T02:14:53.867084Z",
     "shell.execute_reply": "2021-09-30T02:14:53.867611Z",
     "shell.execute_reply.started": "2021-09-29T05:30:13.245732Z"
    },
    "papermill": {
     "duration": 0.026298,
     "end_time": "2021-09-30T02:14:53.867914",
     "exception": false,
     "start_time": "2021-09-30T02:14:53.841616",
     "status": "completed"
    },
    "tags": []
   },
   "outputs": [
    {
     "data": {
      "text/plain": [
       "(80000, 53)"
      ]
     },
     "execution_count": 6,
     "metadata": {},
     "output_type": "execute_result"
    }
   ],
   "source": [
    "train.shape"
   ]
  },
  {
   "cell_type": "code",
   "execution_count": 7,
   "id": "2fbab0b4",
   "metadata": {
    "_cell_guid": "01328860-fa2a-421c-9e5f-ea0048246f98",
    "_uuid": "346bf2c0-96d2-4da5-8837-c0f820294a85",
    "execution": {
     "iopub.execute_input": "2021-09-30T02:14:53.913701Z",
     "iopub.status.busy": "2021-09-30T02:14:53.909328Z",
     "iopub.status.idle": "2021-09-30T02:14:59.809426Z",
     "shell.execute_reply": "2021-09-30T02:14:59.808806Z",
     "shell.execute_reply.started": "2021-09-29T05:30:13.252812Z"
    },
    "jupyter": {
     "outputs_hidden": false
    },
    "papermill": {
     "duration": 5.923465,
     "end_time": "2021-09-30T02:14:59.809600",
     "exception": false,
     "start_time": "2021-09-30T02:14:53.886135",
     "status": "completed"
    },
    "tags": []
   },
   "outputs": [],
   "source": [
    "targets = train[['pressure']].to_numpy().reshape(-1, 80)\n",
    "train.drop(['pressure', 'id', 'breath_id'], axis=1, inplace=True)\n",
    "test = test.drop(['id', 'breath_id'], axis=1)"
   ]
  },
  {
   "cell_type": "code",
   "execution_count": 8,
   "id": "7ae3aaa0",
   "metadata": {
    "execution": {
     "iopub.execute_input": "2021-09-30T02:14:59.852103Z",
     "iopub.status.busy": "2021-09-30T02:14:59.851263Z",
     "iopub.status.idle": "2021-09-30T02:15:15.805309Z",
     "shell.execute_reply": "2021-09-30T02:15:15.804691Z",
     "shell.execute_reply.started": "2021-09-29T05:30:16.661361Z"
    },
    "papermill": {
     "duration": 15.978388,
     "end_time": "2021-09-30T02:15:15.805484",
     "exception": false,
     "start_time": "2021-09-30T02:14:59.827096",
     "status": "completed"
    },
    "tags": []
   },
   "outputs": [],
   "source": [
    "RS = RobustScaler()\n",
    "train = RS.fit_transform(train)\n",
    "test = RS.transform(test)"
   ]
  },
  {
   "cell_type": "code",
   "execution_count": 9,
   "id": "d49e5e08",
   "metadata": {
    "execution": {
     "iopub.execute_input": "2021-09-30T02:15:15.845860Z",
     "iopub.status.busy": "2021-09-30T02:15:15.844950Z",
     "iopub.status.idle": "2021-09-30T02:15:15.847979Z",
     "shell.execute_reply": "2021-09-30T02:15:15.847319Z",
     "shell.execute_reply.started": "2021-09-29T05:30:27.508467Z"
    },
    "papermill": {
     "duration": 0.025345,
     "end_time": "2021-09-30T02:15:15.848139",
     "exception": false,
     "start_time": "2021-09-30T02:15:15.822794",
     "status": "completed"
    },
    "tags": []
   },
   "outputs": [],
   "source": [
    "train = train.reshape(-1, 80, train.shape[-1])\n",
    "test = test.reshape(-1, 80, train.shape[-1])"
   ]
  },
  {
   "cell_type": "code",
   "execution_count": 10,
   "id": "e5d607e0",
   "metadata": {
    "execution": {
     "iopub.execute_input": "2021-09-30T02:15:15.895521Z",
     "iopub.status.busy": "2021-09-30T02:15:15.894159Z",
     "iopub.status.idle": "2021-09-30T02:15:15.897328Z",
     "shell.execute_reply": "2021-09-30T02:15:15.896763Z",
     "shell.execute_reply.started": "2021-09-29T05:30:27.514304Z"
    },
    "papermill": {
     "duration": 0.03223,
     "end_time": "2021-09-30T02:15:15.897484",
     "exception": false,
     "start_time": "2021-09-30T02:15:15.865254",
     "status": "completed"
    },
    "tags": []
   },
   "outputs": [],
   "source": [
    "from tensorflow.keras.callbacks import Callback\n",
    "import tensorflow.keras.backend as K\n",
    "class WarmupExponentialDecay(Callback):\n",
    "    def __init__(self,lr_base=0.0002,lr_min=0.0,decay=0,warmup_epochs=0):\n",
    "        self.num_passed_batchs = 0   #一个计数器\n",
    "        self.warmup_epochs=warmup_epochs  \n",
    "        self.lr=lr_base #learning_rate_base\n",
    "        self.lr_min=lr_min #最小的起始学习率,此代码尚未实现\n",
    "        self.decay=decay  #指数衰减率\n",
    "        self.steps_per_epoch=0 #也是一个计数器\n",
    "        \n",
    "    def on_batch_begin(self, batch, logs=None):\n",
    "        # params是模型自动传递给Callback的一些参数\n",
    "        if self.steps_per_epoch==0:\n",
    "            #防止跑验证集的时候呗更改了\n",
    "            if self.params['steps'] == None:\n",
    "                self.steps_per_epoch = np.ceil(1. * self.params['samples'] / self.params['batch_size'])\n",
    "            else:\n",
    "                self.steps_per_epoch = self.params['steps']\n",
    "        if self.num_passed_batchs < self.steps_per_epoch * self.warmup_epochs:\n",
    "            K.set_value(self.model.optimizer.lr,\n",
    "                        self.lr*(self.num_passed_batchs + 1) / self.steps_per_epoch / self.warmup_epochs)\n",
    "        else:\n",
    "            K.set_value(self.model.optimizer.lr,\n",
    "                        self.lr*((1-self.decay)**(self.num_passed_batchs-self.steps_per_epoch*self.warmup_epochs)))\n",
    "        self.num_passed_batchs += 1\n",
    "        \n",
    "    def on_epoch_begin(self,epoch,logs=None):\n",
    "        #用来输出学习率的,可以删除\n",
    "        print(\"learning_rate:\",K.get_value(self.model.optimizer.lr))"
   ]
  },
  {
   "cell_type": "code",
   "execution_count": 14,
   "id": "660ac1b1",
   "metadata": {
    "execution": {
     "iopub.execute_input": "2021-09-30T02:15:16.024610Z",
     "iopub.status.busy": "2021-09-30T02:15:15.956461Z",
     "iopub.status.idle": "2021-09-30T07:37:16.867269Z",
     "shell.execute_reply": "2021-09-30T07:37:16.866435Z",
     "shell.execute_reply.started": "2021-09-29T05:30:27.529413Z"
    },
    "papermill": {
     "duration": 19320.9537,
     "end_time": "2021-09-30T07:37:16.868460",
     "exception": false,
     "start_time": "2021-09-30T02:15:15.914760",
     "status": "completed"
    },
    "tags": []
   },
   "outputs": [
    {
     "name": "stdout",
     "output_type": "stream",
     "text": [
      "--------------- > Fold 1 < ---------------\n",
      "Epoch 1/300\n",
      "1/1 [==============================] - 141s 141s/step - loss: 11.2834 - val_loss: 6.7231\n",
      "\n",
      "Epoch 00001: val_loss improved from inf to 6.72307, saving model to folds0.hdf5\n",
      "Epoch 2/300\n",
      "1/1 [==============================] - 112s 112s/step - loss: 6.9471 - val_loss: 5.8166\n",
      "\n",
      "Epoch 00002: val_loss improved from 6.72307 to 5.81658, saving model to folds0.hdf5\n",
      "Epoch 3/300\n"
     ]
    },
    {
     "ename": "KeyboardInterrupt",
     "evalue": "",
     "output_type": "error",
     "traceback": [
      "\u001b[1;31m---------------------------------------------------------------------------\u001b[0m",
      "\u001b[1;31mKeyboardInterrupt\u001b[0m                         Traceback (most recent call last)",
      "\u001b[1;32m<ipython-input-14-511044b55dcc>\u001b[0m in \u001b[0;36m<module>\u001b[1;34m\u001b[0m\n\u001b[0;32m     42\u001b[0m         )\n\u001b[0;32m     43\u001b[0m \u001b[1;33m\u001b[0m\u001b[0m\n\u001b[1;32m---> 44\u001b[1;33m         \u001b[0mmodel\u001b[0m\u001b[1;33m.\u001b[0m\u001b[0mfit\u001b[0m\u001b[1;33m(\u001b[0m\u001b[0mX_train\u001b[0m\u001b[1;33m,\u001b[0m \u001b[0my_train\u001b[0m\u001b[1;33m,\u001b[0m \u001b[0mvalidation_data\u001b[0m\u001b[1;33m=\u001b[0m\u001b[1;33m(\u001b[0m\u001b[0mX_valid\u001b[0m\u001b[1;33m,\u001b[0m \u001b[0my_valid\u001b[0m\u001b[1;33m)\u001b[0m\u001b[1;33m,\u001b[0m \u001b[0mepochs\u001b[0m\u001b[1;33m=\u001b[0m\u001b[0mEPOCH\u001b[0m\u001b[1;33m,\u001b[0m \u001b[0mbatch_size\u001b[0m\u001b[1;33m=\u001b[0m\u001b[0mBATCH_SIZE\u001b[0m\u001b[1;33m,\u001b[0m \u001b[0mcallbacks\u001b[0m\u001b[1;33m=\u001b[0m\u001b[1;33m[\u001b[0m\u001b[0mlr\u001b[0m\u001b[1;33m,\u001b[0m \u001b[0mes\u001b[0m\u001b[1;33m,\u001b[0m \u001b[0msv\u001b[0m\u001b[1;33m]\u001b[0m\u001b[1;33m)\u001b[0m\u001b[1;33m\u001b[0m\u001b[1;33m\u001b[0m\u001b[0m\n\u001b[0m\u001b[0;32m     45\u001b[0m         \u001b[1;31m#model.save(f'Fold{fold+1} RNN Weights')\u001b[0m\u001b[1;33m\u001b[0m\u001b[1;33m\u001b[0m\u001b[1;33m\u001b[0m\u001b[0m\n\u001b[0;32m     46\u001b[0m         \u001b[0mtest_preds\u001b[0m\u001b[1;33m.\u001b[0m\u001b[0mappend\u001b[0m\u001b[1;33m(\u001b[0m\u001b[0mmodel\u001b[0m\u001b[1;33m.\u001b[0m\u001b[0mpredict\u001b[0m\u001b[1;33m(\u001b[0m\u001b[0mtest\u001b[0m\u001b[1;33m)\u001b[0m\u001b[1;33m.\u001b[0m\u001b[0msqueeze\u001b[0m\u001b[1;33m(\u001b[0m\u001b[1;33m)\u001b[0m\u001b[1;33m.\u001b[0m\u001b[0mreshape\u001b[0m\u001b[1;33m(\u001b[0m\u001b[1;33m-\u001b[0m\u001b[1;36m1\u001b[0m\u001b[1;33m,\u001b[0m \u001b[1;36m1\u001b[0m\u001b[1;33m)\u001b[0m\u001b[1;33m.\u001b[0m\u001b[0msqueeze\u001b[0m\u001b[1;33m(\u001b[0m\u001b[1;33m)\u001b[0m\u001b[1;33m)\u001b[0m\u001b[1;33m\u001b[0m\u001b[1;33m\u001b[0m\u001b[0m\n",
      "\u001b[1;32mc:\\pythons\\p376\\lib\\site-packages\\keras\\engine\\training.py\u001b[0m in \u001b[0;36mfit\u001b[1;34m(self, x, y, batch_size, epochs, verbose, callbacks, validation_split, validation_data, shuffle, class_weight, sample_weight, initial_epoch, steps_per_epoch, validation_steps, validation_batch_size, validation_freq, max_queue_size, workers, use_multiprocessing)\u001b[0m\n\u001b[0;32m   1182\u001b[0m                 _r=1):\n\u001b[0;32m   1183\u001b[0m               \u001b[0mcallbacks\u001b[0m\u001b[1;33m.\u001b[0m\u001b[0mon_train_batch_begin\u001b[0m\u001b[1;33m(\u001b[0m\u001b[0mstep\u001b[0m\u001b[1;33m)\u001b[0m\u001b[1;33m\u001b[0m\u001b[1;33m\u001b[0m\u001b[0m\n\u001b[1;32m-> 1184\u001b[1;33m               \u001b[0mtmp_logs\u001b[0m \u001b[1;33m=\u001b[0m \u001b[0mself\u001b[0m\u001b[1;33m.\u001b[0m\u001b[0mtrain_function\u001b[0m\u001b[1;33m(\u001b[0m\u001b[0miterator\u001b[0m\u001b[1;33m)\u001b[0m\u001b[1;33m\u001b[0m\u001b[1;33m\u001b[0m\u001b[0m\n\u001b[0m\u001b[0;32m   1185\u001b[0m               \u001b[1;32mif\u001b[0m \u001b[0mdata_handler\u001b[0m\u001b[1;33m.\u001b[0m\u001b[0mshould_sync\u001b[0m\u001b[1;33m:\u001b[0m\u001b[1;33m\u001b[0m\u001b[1;33m\u001b[0m\u001b[0m\n\u001b[0;32m   1186\u001b[0m                 \u001b[0mcontext\u001b[0m\u001b[1;33m.\u001b[0m\u001b[0masync_wait\u001b[0m\u001b[1;33m(\u001b[0m\u001b[1;33m)\u001b[0m\u001b[1;33m\u001b[0m\u001b[1;33m\u001b[0m\u001b[0m\n",
      "\u001b[1;32mc:\\pythons\\p376\\lib\\site-packages\\tensorflow\\python\\eager\\def_function.py\u001b[0m in \u001b[0;36m__call__\u001b[1;34m(self, *args, **kwds)\u001b[0m\n\u001b[0;32m    883\u001b[0m \u001b[1;33m\u001b[0m\u001b[0m\n\u001b[0;32m    884\u001b[0m       \u001b[1;32mwith\u001b[0m \u001b[0mOptionalXlaContext\u001b[0m\u001b[1;33m(\u001b[0m\u001b[0mself\u001b[0m\u001b[1;33m.\u001b[0m\u001b[0m_jit_compile\u001b[0m\u001b[1;33m)\u001b[0m\u001b[1;33m:\u001b[0m\u001b[1;33m\u001b[0m\u001b[1;33m\u001b[0m\u001b[0m\n\u001b[1;32m--> 885\u001b[1;33m         \u001b[0mresult\u001b[0m \u001b[1;33m=\u001b[0m \u001b[0mself\u001b[0m\u001b[1;33m.\u001b[0m\u001b[0m_call\u001b[0m\u001b[1;33m(\u001b[0m\u001b[1;33m*\u001b[0m\u001b[0margs\u001b[0m\u001b[1;33m,\u001b[0m \u001b[1;33m**\u001b[0m\u001b[0mkwds\u001b[0m\u001b[1;33m)\u001b[0m\u001b[1;33m\u001b[0m\u001b[1;33m\u001b[0m\u001b[0m\n\u001b[0m\u001b[0;32m    886\u001b[0m \u001b[1;33m\u001b[0m\u001b[0m\n\u001b[0;32m    887\u001b[0m       \u001b[0mnew_tracing_count\u001b[0m \u001b[1;33m=\u001b[0m \u001b[0mself\u001b[0m\u001b[1;33m.\u001b[0m\u001b[0mexperimental_get_tracing_count\u001b[0m\u001b[1;33m(\u001b[0m\u001b[1;33m)\u001b[0m\u001b[1;33m\u001b[0m\u001b[1;33m\u001b[0m\u001b[0m\n",
      "\u001b[1;32mc:\\pythons\\p376\\lib\\site-packages\\tensorflow\\python\\eager\\def_function.py\u001b[0m in \u001b[0;36m_call\u001b[1;34m(self, *args, **kwds)\u001b[0m\n\u001b[0;32m    915\u001b[0m       \u001b[1;31m# In this case we have created variables on the first call, so we run the\u001b[0m\u001b[1;33m\u001b[0m\u001b[1;33m\u001b[0m\u001b[1;33m\u001b[0m\u001b[0m\n\u001b[0;32m    916\u001b[0m       \u001b[1;31m# defunned version which is guaranteed to never create variables.\u001b[0m\u001b[1;33m\u001b[0m\u001b[1;33m\u001b[0m\u001b[1;33m\u001b[0m\u001b[0m\n\u001b[1;32m--> 917\u001b[1;33m       \u001b[1;32mreturn\u001b[0m \u001b[0mself\u001b[0m\u001b[1;33m.\u001b[0m\u001b[0m_stateless_fn\u001b[0m\u001b[1;33m(\u001b[0m\u001b[1;33m*\u001b[0m\u001b[0margs\u001b[0m\u001b[1;33m,\u001b[0m \u001b[1;33m**\u001b[0m\u001b[0mkwds\u001b[0m\u001b[1;33m)\u001b[0m  \u001b[1;31m# pylint: disable=not-callable\u001b[0m\u001b[1;33m\u001b[0m\u001b[1;33m\u001b[0m\u001b[0m\n\u001b[0m\u001b[0;32m    918\u001b[0m     \u001b[1;32melif\u001b[0m \u001b[0mself\u001b[0m\u001b[1;33m.\u001b[0m\u001b[0m_stateful_fn\u001b[0m \u001b[1;32mis\u001b[0m \u001b[1;32mnot\u001b[0m \u001b[1;32mNone\u001b[0m\u001b[1;33m:\u001b[0m\u001b[1;33m\u001b[0m\u001b[1;33m\u001b[0m\u001b[0m\n\u001b[0;32m    919\u001b[0m       \u001b[1;31m# Release the lock early so that multiple threads can perform the call\u001b[0m\u001b[1;33m\u001b[0m\u001b[1;33m\u001b[0m\u001b[1;33m\u001b[0m\u001b[0m\n",
      "\u001b[1;32mc:\\pythons\\p376\\lib\\site-packages\\tensorflow\\python\\eager\\function.py\u001b[0m in \u001b[0;36m__call__\u001b[1;34m(self, *args, **kwargs)\u001b[0m\n\u001b[0;32m   3038\u001b[0m        filtered_flat_args) = self._maybe_define_function(args, kwargs)\n\u001b[0;32m   3039\u001b[0m     return graph_function._call_flat(\n\u001b[1;32m-> 3040\u001b[1;33m         filtered_flat_args, captured_inputs=graph_function.captured_inputs)  # pylint: disable=protected-access\n\u001b[0m\u001b[0;32m   3041\u001b[0m \u001b[1;33m\u001b[0m\u001b[0m\n\u001b[0;32m   3042\u001b[0m   \u001b[1;33m@\u001b[0m\u001b[0mproperty\u001b[0m\u001b[1;33m\u001b[0m\u001b[1;33m\u001b[0m\u001b[0m\n",
      "\u001b[1;32mc:\\pythons\\p376\\lib\\site-packages\\tensorflow\\python\\eager\\function.py\u001b[0m in \u001b[0;36m_call_flat\u001b[1;34m(self, args, captured_inputs, cancellation_manager)\u001b[0m\n\u001b[0;32m   1962\u001b[0m       \u001b[1;31m# No tape is watching; skip to running the function.\u001b[0m\u001b[1;33m\u001b[0m\u001b[1;33m\u001b[0m\u001b[1;33m\u001b[0m\u001b[0m\n\u001b[0;32m   1963\u001b[0m       return self._build_call_outputs(self._inference_function.call(\n\u001b[1;32m-> 1964\u001b[1;33m           ctx, args, cancellation_manager=cancellation_manager))\n\u001b[0m\u001b[0;32m   1965\u001b[0m     forward_backward = self._select_forward_and_backward_functions(\n\u001b[0;32m   1966\u001b[0m         \u001b[0margs\u001b[0m\u001b[1;33m,\u001b[0m\u001b[1;33m\u001b[0m\u001b[1;33m\u001b[0m\u001b[0m\n",
      "\u001b[1;32mc:\\pythons\\p376\\lib\\site-packages\\tensorflow\\python\\eager\\function.py\u001b[0m in \u001b[0;36mcall\u001b[1;34m(self, ctx, args, cancellation_manager)\u001b[0m\n\u001b[0;32m    594\u001b[0m               \u001b[0minputs\u001b[0m\u001b[1;33m=\u001b[0m\u001b[0margs\u001b[0m\u001b[1;33m,\u001b[0m\u001b[1;33m\u001b[0m\u001b[1;33m\u001b[0m\u001b[0m\n\u001b[0;32m    595\u001b[0m               \u001b[0mattrs\u001b[0m\u001b[1;33m=\u001b[0m\u001b[0mattrs\u001b[0m\u001b[1;33m,\u001b[0m\u001b[1;33m\u001b[0m\u001b[1;33m\u001b[0m\u001b[0m\n\u001b[1;32m--> 596\u001b[1;33m               ctx=ctx)\n\u001b[0m\u001b[0;32m    597\u001b[0m         \u001b[1;32melse\u001b[0m\u001b[1;33m:\u001b[0m\u001b[1;33m\u001b[0m\u001b[1;33m\u001b[0m\u001b[0m\n\u001b[0;32m    598\u001b[0m           outputs = execute.execute_with_cancellation(\n",
      "\u001b[1;32mc:\\pythons\\p376\\lib\\site-packages\\tensorflow\\python\\eager\\execute.py\u001b[0m in \u001b[0;36mquick_execute\u001b[1;34m(op_name, num_outputs, inputs, attrs, ctx, name)\u001b[0m\n\u001b[0;32m     58\u001b[0m     \u001b[0mctx\u001b[0m\u001b[1;33m.\u001b[0m\u001b[0mensure_initialized\u001b[0m\u001b[1;33m(\u001b[0m\u001b[1;33m)\u001b[0m\u001b[1;33m\u001b[0m\u001b[1;33m\u001b[0m\u001b[0m\n\u001b[0;32m     59\u001b[0m     tensors = pywrap_tfe.TFE_Py_Execute(ctx._handle, device_name, op_name,\n\u001b[1;32m---> 60\u001b[1;33m                                         inputs, attrs, num_outputs)\n\u001b[0m\u001b[0;32m     61\u001b[0m   \u001b[1;32mexcept\u001b[0m \u001b[0mcore\u001b[0m\u001b[1;33m.\u001b[0m\u001b[0m_NotOkStatusException\u001b[0m \u001b[1;32mas\u001b[0m \u001b[0me\u001b[0m\u001b[1;33m:\u001b[0m\u001b[1;33m\u001b[0m\u001b[1;33m\u001b[0m\u001b[0m\n\u001b[0;32m     62\u001b[0m     \u001b[1;32mif\u001b[0m \u001b[0mname\u001b[0m \u001b[1;32mis\u001b[0m \u001b[1;32mnot\u001b[0m \u001b[1;32mNone\u001b[0m\u001b[1;33m:\u001b[0m\u001b[1;33m\u001b[0m\u001b[1;33m\u001b[0m\u001b[0m\n",
      "\u001b[1;31mKeyboardInterrupt\u001b[0m: "
     ]
    }
   ],
   "source": [
    "EPOCH = 300\n",
    "BATCH_SIZE = 1024\n",
    "NUM_FOLDS = 10\n",
    "\n",
    "# detect and init the TPU\n",
    "#tpu = tf.distribute.cluster_resolver.TPUClusterResolver.connect()\n",
    "\n",
    "# instantiate a distribution strategy\n",
    "#tpu_strategy = tf.distribute.experimental.TPUStrategy(tpu)\n",
    "\n",
    "if 1:\n",
    "    kf = KFold(n_splits=NUM_FOLDS, shuffle=True, random_state=2021)\n",
    "    test_preds = []\n",
    "    for fold, (train_idx, test_idx) in enumerate(kf.split(train, targets)):\n",
    "        print('-'*15, '>', f'Fold {fold+1}', '<', '-'*15)\n",
    "        X_train, X_valid = train[train_idx], train[test_idx]\n",
    "        y_train, y_valid = targets[train_idx], targets[test_idx]\n",
    "        model = keras.models.Sequential([\n",
    "            keras.layers.Input(shape=train.shape[-2:]),\n",
    "            keras.layers.Bidirectional(keras.layers.LSTM(1024, return_sequences=True)),\n",
    "            keras.layers.Bidirectional(keras.layers.LSTM(512, return_sequences=True)),\n",
    "            keras.layers.Bidirectional(keras.layers.LSTM(256, return_sequences=True)),\n",
    "            keras.layers.Bidirectional(keras.layers.LSTM(128, return_sequences=True)),\n",
    "#             keras.layers.Bidirectional(keras.layers.LSTM(128, return_sequences=True)),\n",
    "            keras.layers.Dense(128, activation='selu'),\n",
    "#             keras.layers.Dropout(0.1),\n",
    "            keras.layers.Dense(1),\n",
    "        ])\n",
    "        model.compile(optimizer=\"adam\", loss=\"mae\")\n",
    "\n",
    "#         scheduler = ExponentialDecay(1e-3, 40*((len(train)*0.8)/BATCH_SIZE), 1e-5)\n",
    "#         lr = LearningRateScheduler(scheduler, verbose=1)\n",
    "        lr = ReduceLROnPlateau(monitor=\"val_loss\", factor=0.5, patience=10, verbose=1)\n",
    "#         lr = WarmupExponentialDecay(lr_base=1e-3, decay=1e-5, warmup_epochs=30)\n",
    "        es = EarlyStopping(monitor=\"val_loss\", patience=60, verbose=1, mode=\"min\", restore_best_weights=True)\n",
    "    \n",
    "        checkpoint_filepath = f\"folds{fold}.hdf5\"\n",
    "        sv = keras.callbacks.ModelCheckpoint(\n",
    "            checkpoint_filepath, monitor='val_loss', verbose=1, save_best_only=True,\n",
    "            save_weights_only=False, mode='auto', save_freq='epoch',\n",
    "            options=None\n",
    "        )\n",
    "\n",
    "        model.fit(X_train, y_train, validation_data=(X_valid, y_valid), epochs=EPOCH, batch_size=BATCH_SIZE, callbacks=[lr, es, sv])\n",
    "        #model.save(f'Fold{fold+1} RNN Weights')\n",
    "        test_preds.append(model.predict(test).squeeze().reshape(-1, 1).squeeze())"
   ]
  },
  {
   "cell_type": "code",
   "execution_count": 12,
   "id": "f8e44fa6",
   "metadata": {
    "execution": {
     "iopub.execute_input": "2021-09-30T07:38:35.436245Z",
     "iopub.status.busy": "2021-09-30T07:38:35.435480Z",
     "iopub.status.idle": "2021-09-30T07:38:36.544284Z",
     "shell.execute_reply": "2021-09-30T07:38:36.544855Z",
     "shell.execute_reply.started": "2021-09-29T05:34:05.394247Z"
    },
    "papermill": {
     "duration": 40.661652,
     "end_time": "2021-09-30T07:38:36.545044",
     "exception": false,
     "start_time": "2021-09-30T07:37:55.883392",
     "status": "completed"
    },
    "tags": []
   },
   "outputs": [
    {
     "name": "stdout",
     "output_type": "stream",
     "text": [
      "__notebook__.ipynb  folds2.hdf5  folds5.hdf5  folds8.hdf5\r\n",
      "folds0.hdf5\t    folds3.hdf5  folds6.hdf5  folds9.hdf5\r\n",
      "folds1.hdf5\t    folds4.hdf5  folds7.hdf5\r\n"
     ]
    }
   ],
   "source": [
    "!ls ./"
   ]
  },
  {
   "cell_type": "code",
   "execution_count": 13,
   "id": "fb57b0f8",
   "metadata": {
    "execution": {
     "iopub.execute_input": "2021-09-30T07:39:54.964159Z",
     "iopub.status.busy": "2021-09-30T07:39:54.962927Z",
     "iopub.status.idle": "2021-09-30T07:40:07.485201Z",
     "shell.execute_reply": "2021-09-30T07:40:07.485986Z",
     "shell.execute_reply.started": "2021-09-29T05:34:06.191133Z"
    },
    "papermill": {
     "duration": 52.075109,
     "end_time": "2021-09-30T07:40:07.486186",
     "exception": false,
     "start_time": "2021-09-30T07:39:15.411077",
     "status": "completed"
    },
    "tags": []
   },
   "outputs": [],
   "source": [
    "submission[\"pressure\"] = sum(test_preds)/NUM_FOLDS\n",
    "submission.to_csv('submission.csv', index=False)"
   ]
  },
  {
   "cell_type": "code",
   "execution_count": null,
   "id": "5f9c8772",
   "metadata": {
    "papermill": {
     "duration": 39.268761,
     "end_time": "2021-09-30T07:41:25.694298",
     "exception": false,
     "start_time": "2021-09-30T07:40:46.425537",
     "status": "completed"
    },
    "tags": []
   },
   "outputs": [],
   "source": []
  },
  {
   "cell_type": "code",
   "execution_count": null,
   "id": "f04bb3db",
   "metadata": {
    "papermill": {
     "duration": 39.104082,
     "end_time": "2021-09-30T07:42:44.044449",
     "exception": false,
     "start_time": "2021-09-30T07:42:04.940367",
     "status": "completed"
    },
    "tags": []
   },
   "outputs": [],
   "source": []
  },
  {
   "cell_type": "code",
   "execution_count": null,
   "id": "a265db02",
   "metadata": {
    "papermill": {
     "duration": 39.986824,
     "end_time": "2021-09-30T07:44:03.649458",
     "exception": false,
     "start_time": "2021-09-30T07:43:23.662634",
     "status": "completed"
    },
    "tags": []
   },
   "outputs": [],
   "source": []
  },
  {
   "cell_type": "code",
   "execution_count": null,
   "id": "9416e003",
   "metadata": {
    "papermill": {
     "duration": 39.453178,
     "end_time": "2021-09-30T07:45:22.370533",
     "exception": false,
     "start_time": "2021-09-30T07:44:42.917355",
     "status": "completed"
    },
    "tags": []
   },
   "outputs": [],
   "source": []
  },
  {
   "cell_type": "code",
   "execution_count": null,
   "id": "2c4a7fb7",
   "metadata": {
    "papermill": {
     "duration": 39.103994,
     "end_time": "2021-09-30T07:46:40.593828",
     "exception": false,
     "start_time": "2021-09-30T07:46:01.489834",
     "status": "completed"
    },
    "tags": []
   },
   "outputs": [],
   "source": []
  }
 ],
 "metadata": {
  "kernelspec": {
   "display_name": "Python 3",
   "language": "python",
   "name": "python3"
  },
  "language_info": {
   "codemirror_mode": {
    "name": "ipython",
    "version": 3
   },
   "file_extension": ".py",
   "mimetype": "text/x-python",
   "name": "python",
   "nbconvert_exporter": "python",
   "pygments_lexer": "ipython3",
   "version": "3.7.6"
  },
  "papermill": {
   "default_parameters": {},
   "duration": 20043.947576,
   "end_time": "2021-09-30T07:47:22.917581",
   "environment_variables": {},
   "exception": null,
   "input_path": "__notebook__.ipynb",
   "output_path": "__notebook__.ipynb",
   "parameters": {},
   "start_time": "2021-09-30T02:13:18.970005",
   "version": "2.3.3"
  }
 },
 "nbformat": 4,
 "nbformat_minor": 5
}
