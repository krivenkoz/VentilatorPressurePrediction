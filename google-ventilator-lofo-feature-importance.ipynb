{
 "cells": [
  {
   "cell_type": "markdown",
   "id": "b312055b",
   "metadata": {
    "papermill": {
     "duration": 0.007257,
     "end_time": "2021-10-13T07:12:30.712135",
     "exception": false,
     "start_time": "2021-10-13T07:12:30.704878",
     "status": "completed"
    },
    "tags": []
   },
   "source": [
    "# Google Ventilator Feature Importance with LOFO\n",
    "\n",
    "![](https://raw.githubusercontent.com/aerdem4/lofo-importance/master/docs/lofo_logo.png)\n",
    "\n",
    "**LOFO** (Leave One Feature Out) Importance calculates the importances of a set of features based on **a metric of choice**, for **a model of choice**, by **iteratively removing each feature from the set**, and **evaluating the performance** of the model, with **a validation scheme of choice**, based on the chosen metric.\n",
    "\n",
    "LOFO first evaluates the performance of the model with all the input features included, then iteratively removes one feature at a time, retrains the model, and evaluates its performance on a validation set. The mean and standard deviation (across the folds) of the importance of each feature is then reported.\n",
    "\n",
    "While other feature importance methods usually calculate how much a feature is used by the model, LOFO estimates how much a feature can make a difference by itself given that we have the other features. Here are some advantages of LOFO:\n",
    "* It generalises well to unseen test sets since it uses a validation scheme.\n",
    "* It is model agnostic.\n",
    "* It gives negative importance to features that hurt performance upon inclusion.\n",
    "* It can group the features. Especially useful for high dimensional features like TFIDF or OHE features. It is also good practice to group very correlated features to avoid misleading results.\n",
    "* It can automatically group highly correlated features to avoid underestimating their importance.\n",
    "\n",
    "https://github.com/aerdem4/lofo-importance"
   ]
  },
  {
   "cell_type": "code",
   "execution_count": 1,
   "id": "e1f3428a",
   "metadata": {
    "_cell_guid": "b1076dfc-b9ad-4769-8c92-a6c4dae69d19",
    "_uuid": "8f2839f25d086af736a60e9eeb907d3b93b6e0e5",
    "execution": {
     "iopub.execute_input": "2021-10-13T07:12:30.728459Z",
     "iopub.status.busy": "2021-10-13T07:12:30.727448Z",
     "iopub.status.idle": "2021-10-13T07:12:38.867819Z",
     "shell.execute_reply": "2021-10-13T07:12:38.867088Z",
     "shell.execute_reply.started": "2021-10-13T06:56:11.904861Z"
    },
    "papermill": {
     "duration": 8.149357,
     "end_time": "2021-10-13T07:12:38.867989",
     "exception": false,
     "start_time": "2021-10-13T07:12:30.718632",
     "status": "completed"
    },
    "tags": []
   },
   "outputs": [
    {
     "name": "stdout",
     "output_type": "stream",
     "text": [
      "Collecting lofo-importance"
     ]
    },
    {
     "name": "stderr",
     "output_type": "stream",
     "text": [
      "WARNING: You are using pip version 21.2.4; however, version 21.3 is available."
     ]
    },
    {
     "name": "stdout",
     "output_type": "stream",
     "text": [
      "\n",
      "  Downloading lofo_importance-0.3.1-py3-none-any.whl (11 kB)\n",
      "Requirement already satisfied: pandas in c:\\pythons\\p376\\lib\\site-packages (from lofo-importance) (1.3.3)\n",
      "Requirement already satisfied: tqdm in c:\\pythons\\p376\\lib\\site-packages (from lofo-importance) (4.60.0)\n",
      "Requirement already satisfied: lightgbm in c:\\pythons\\p376\\lib\\site-packages (from lofo-importance) (2.3.1)\n",
      "Requirement already satisfied: numpy>=1.17.3 in c:\\pythons\\p376\\lib\\site-packages (from lofo-importance) (1.19.5)\n",
      "Requirement already satisfied: scikit-learn>=0.20.3 in c:\\pythons\\p376\\lib\\site-packages (from lofo-importance) (1.0)\n",
      "Requirement already satisfied: scipy in c:\\pythons\\p376\\lib\\site-packages (from lofo-importance) (1.5.4)\n",
      "Requirement already satisfied: threadpoolctl>=2.0.0 in c:\\pythons\\p376\\lib\\site-packages (from scikit-learn>=0.20.3->lofo-importance) (2.1.0)\n",
      "Requirement already satisfied: joblib>=0.11 in c:\\pythons\\p376\\lib\\site-packages (from scikit-learn>=0.20.3->lofo-importance) (1.0.1)\n",
      "Requirement already satisfied: python-dateutil>=2.7.3 in c:\\pythons\\p376\\lib\\site-packages (from pandas->lofo-importance) (2.8.1)\n",
      "Requirement already satisfied: pytz>=2017.3 in c:\\pythons\\p376\\lib\\site-packages (from pandas->lofo-importance) (2021.1)\n",
      "Requirement already satisfied: six>=1.5 in c:\\pythons\\p376\\lib\\site-packages (from python-dateutil>=2.7.3->pandas->lofo-importance) (1.15.0)\n",
      "Installing collected packages: lofo-importance\n",
      "Successfully installed lofo-importance-0.3.1\n"
     ]
    },
    {
     "name": "stderr",
     "output_type": "stream",
     "text": [
      "\n",
      "You should consider upgrading via the 'c:\\pythons\\p376\\python.exe -m pip install --upgrade pip' command.\n"
     ]
    }
   ],
   "source": [
    "!pip install lofo-importance"
   ]
  },
  {
   "cell_type": "code",
   "execution_count": 36,
   "id": "6c2acb60",
   "metadata": {
    "execution": {
     "iopub.execute_input": "2021-10-13T07:12:38.889429Z",
     "iopub.status.busy": "2021-10-13T07:12:38.888792Z",
     "iopub.status.idle": "2021-10-13T07:12:48.103014Z",
     "shell.execute_reply": "2021-10-13T07:12:48.102574Z",
     "shell.execute_reply.started": "2021-10-13T06:56:22.238291Z"
    },
    "papermill": {
     "duration": 9.2272,
     "end_time": "2021-10-13T07:12:48.103159",
     "exception": false,
     "start_time": "2021-10-13T07:12:38.875959",
     "status": "completed"
    },
    "tags": []
   },
   "outputs": [
    {
     "name": "stdout",
     "output_type": "stream",
     "text": [
      "(6036000, 8)\n"
     ]
    },
    {
     "data": {
      "text/html": [
       "<div>\n",
       "<style scoped>\n",
       "    .dataframe tbody tr th:only-of-type {\n",
       "        vertical-align: middle;\n",
       "    }\n",
       "\n",
       "    .dataframe tbody tr th {\n",
       "        vertical-align: top;\n",
       "    }\n",
       "\n",
       "    .dataframe thead th {\n",
       "        text-align: right;\n",
       "    }\n",
       "</style>\n",
       "<table border=\"1\" class=\"dataframe\">\n",
       "  <thead>\n",
       "    <tr style=\"text-align: right;\">\n",
       "      <th></th>\n",
       "      <th>id</th>\n",
       "      <th>breath_id</th>\n",
       "      <th>R</th>\n",
       "      <th>C</th>\n",
       "      <th>time_step</th>\n",
       "      <th>u_in</th>\n",
       "      <th>u_out</th>\n",
       "      <th>pressure</th>\n",
       "    </tr>\n",
       "  </thead>\n",
       "  <tbody>\n",
       "    <tr>\n",
       "      <th>0</th>\n",
       "      <td>1</td>\n",
       "      <td>1</td>\n",
       "      <td>20</td>\n",
       "      <td>50</td>\n",
       "      <td>0.000000</td>\n",
       "      <td>0.083334</td>\n",
       "      <td>0</td>\n",
       "      <td>5.837492</td>\n",
       "    </tr>\n",
       "    <tr>\n",
       "      <th>1</th>\n",
       "      <td>2</td>\n",
       "      <td>1</td>\n",
       "      <td>20</td>\n",
       "      <td>50</td>\n",
       "      <td>0.033652</td>\n",
       "      <td>18.383041</td>\n",
       "      <td>0</td>\n",
       "      <td>5.907794</td>\n",
       "    </tr>\n",
       "    <tr>\n",
       "      <th>2</th>\n",
       "      <td>3</td>\n",
       "      <td>1</td>\n",
       "      <td>20</td>\n",
       "      <td>50</td>\n",
       "      <td>0.067514</td>\n",
       "      <td>22.509278</td>\n",
       "      <td>0</td>\n",
       "      <td>7.876254</td>\n",
       "    </tr>\n",
       "    <tr>\n",
       "      <th>3</th>\n",
       "      <td>4</td>\n",
       "      <td>1</td>\n",
       "      <td>20</td>\n",
       "      <td>50</td>\n",
       "      <td>0.101542</td>\n",
       "      <td>22.808822</td>\n",
       "      <td>0</td>\n",
       "      <td>11.742872</td>\n",
       "    </tr>\n",
       "    <tr>\n",
       "      <th>4</th>\n",
       "      <td>5</td>\n",
       "      <td>1</td>\n",
       "      <td>20</td>\n",
       "      <td>50</td>\n",
       "      <td>0.135756</td>\n",
       "      <td>25.355850</td>\n",
       "      <td>0</td>\n",
       "      <td>12.234987</td>\n",
       "    </tr>\n",
       "  </tbody>\n",
       "</table>\n",
       "</div>"
      ],
      "text/plain": [
       "   id  breath_id   R   C  time_step       u_in  u_out   pressure\n",
       "0   1          1  20  50   0.000000   0.083334      0   5.837492\n",
       "1   2          1  20  50   0.033652  18.383041      0   5.907794\n",
       "2   3          1  20  50   0.067514  22.509278      0   7.876254\n",
       "3   4          1  20  50   0.101542  22.808822      0  11.742872\n",
       "4   5          1  20  50   0.135756  25.355850      0  12.234987"
      ]
     },
     "execution_count": 36,
     "metadata": {},
     "output_type": "execute_result"
    }
   ],
   "source": [
    "import numpy as np\n",
    "import pandas as pd\n",
    "from tqdm import tqdm\n",
    "import os, sys\n",
    "import torch\n",
    "\n",
    "PATH = 'e:\\\\Krivenko\\\\Kaggle\\\\2021\\\\New20211005\\\\'\n",
    "\n",
    "\n",
    "df = pd.read_csv(f\"{PATH}/train.csv\")\n",
    "print(df.shape)\n",
    "df.head()"
   ]
  },
  {
   "cell_type": "code",
   "execution_count": 37,
   "id": "07cc1ae4",
   "metadata": {
    "execution": {
     "iopub.execute_input": "2021-10-13T07:12:48.123093Z",
     "iopub.status.busy": "2021-10-13T07:12:48.122462Z",
     "iopub.status.idle": "2021-10-13T07:13:02.150349Z",
     "shell.execute_reply": "2021-10-13T07:13:02.150859Z",
     "shell.execute_reply.started": "2021-10-13T06:56:32.812997Z"
    },
    "papermill": {
     "duration": 14.039616,
     "end_time": "2021-10-13T07:13:02.151044",
     "exception": false,
     "start_time": "2021-10-13T07:12:48.111428",
     "status": "completed"
    },
    "tags": []
   },
   "outputs": [],
   "source": [
    "def engineer_features(df):\n",
    "    df[\"u_in_sum\"] = df.groupby(\"breath_id\")[\"u_in\"].transform(\"sum\")\n",
    "    df[\"u_in_cumsum\"] = df.groupby(\"breath_id\")[\"u_in\"].cumsum()\n",
    "    df[\"u_in_std\"] = df.groupby(\"breath_id\")[\"u_in\"].transform(\"std\")\n",
    "    df[\"u_in_min\"] = df.groupby(\"breath_id\")[\"u_in\"].transform(\"min\")\n",
    "    df[\"u_in_max\"] = df.groupby(\"breath_id\")[\"u_in\"].transform(\"max\")\n",
    "    df[\"u_in_cumsum_reverse\"] = df[\"u_in_sum\"] - df[\"u_in_cumsum\"]\n",
    "    \n",
    "    df[\"u_in_first\"] = df.groupby(\"breath_id\")[\"u_in\"].transform(\"first\")\n",
    "    df[\"u_in_last\"] = df.groupby(\"breath_id\")[\"u_in\"].transform(\"last\")\n",
    "    \n",
    "    df[\"u_in_lag1\"] = df.groupby(\"breath_id\")[\"u_in\"].shift(1)\n",
    "    df[\"u_in_lead1\"] = df.groupby(\"breath_id\")[\"u_in\"].shift(-1)\n",
    "    df[\"u_in_lag1_diff\"] = df[\"u_in\"] - df[\"u_in_lag1\"]\n",
    "    df[\"u_in_lead1_diff\"] = df[\"u_in\"] - df[\"u_in_lead1\"]\n",
    "    \n",
    "    df['area'] = df['time_step'] * df['u_in']\n",
    "    \n",
    "    df[\"u_out_sum\"] = df.groupby(\"breath_id\")[\"u_out\"].transform(\"sum\")\n",
    "    \n",
    "    df[\"time_passed\"] = df.groupby(\"breath_id\")[\"time_step\"].diff()\n",
    "    \n",
    "    return df\n",
    "    \n",
    "df = engineer_features(df)"
   ]
  },
  {
   "cell_type": "code",
   "execution_count": 38,
   "id": "5285e468",
   "metadata": {
    "execution": {
     "iopub.execute_input": "2021-10-13T07:13:02.171202Z",
     "iopub.status.busy": "2021-10-13T07:13:02.170302Z",
     "iopub.status.idle": "2021-10-13T07:13:03.560967Z",
     "shell.execute_reply": "2021-10-13T07:13:03.561399Z",
     "shell.execute_reply.started": "2021-10-13T06:56:48.464766Z"
    },
    "papermill": {
     "duration": 1.402208,
     "end_time": "2021-10-13T07:13:03.561561",
     "exception": false,
     "start_time": "2021-10-13T07:13:02.159353",
     "status": "completed"
    },
    "tags": []
   },
   "outputs": [
    {
     "data": {
      "text/plain": [
       "(2290968, 23)"
      ]
     },
     "execution_count": 38,
     "metadata": {},
     "output_type": "execute_result"
    }
   ],
   "source": [
    "in_df = df[df[\"u_out\"] == 0].reset_index(drop=True)\n",
    "in_df.shape"
   ]
  },
  {
   "cell_type": "code",
   "execution_count": null,
   "id": "2bd58a5b",
   "metadata": {},
   "outputs": [],
   "source": []
  },
  {
   "cell_type": "code",
   "execution_count": null,
   "id": "b0c687b4",
   "metadata": {},
   "outputs": [],
   "source": []
  },
  {
   "cell_type": "code",
   "execution_count": 39,
   "id": "eea02cf0",
   "metadata": {
    "execution": {
     "iopub.execute_input": "2021-10-13T07:13:03.583959Z",
     "iopub.status.busy": "2021-10-13T07:13:03.583344Z",
     "iopub.status.idle": "2021-10-13T07:13:13.167978Z",
     "shell.execute_reply": "2021-10-13T07:13:13.168427Z",
     "shell.execute_reply.started": "2021-10-13T06:56:49.791041Z"
    },
    "papermill": {
     "duration": 9.598835,
     "end_time": "2021-10-13T07:13:13.168592",
     "exception": false,
     "start_time": "2021-10-13T07:13:03.569757",
     "status": "completed"
    },
    "tags": []
   },
   "outputs": [
    {
     "name": "stdout",
     "output_type": "stream",
     "text": [
      "Automatically grouped features by correlation:\n",
      "1 ['u_in_max', 'u_in_std', 'u_in_sum']\n"
     ]
    }
   ],
   "source": [
    "from lofo import Dataset, LOFOImportance, plot_importance\n",
    "from sklearn.model_selection import GroupKFold\n",
    "\n",
    "\n",
    "cv = list(GroupKFold(n_splits=4).split(in_df, in_df[\"pressure\"], groups=in_df[\"breath_id\"]))\n",
    "\n",
    "features = [\"time_step\", \"u_in\", \"R\", \"C\",\n",
    "            \"u_in_sum\", \"u_in_cumsum\", \"u_in_std\", \"u_in_min\", \"u_in_max\", \"u_in_cumsum_reverse\",\n",
    "            \"u_in_lead1\", \"u_in_lag1\", \"u_in_lag1_diff\", \"u_in_lead1_diff\",\n",
    "            \"u_out_sum\", \"time_passed\", \"u_in_first\", \"u_in_last\", \"area\"]\n",
    "\n",
    "ds = Dataset(in_df, target=\"pressure\", features=features,\n",
    "    feature_groups=None,\n",
    "    auto_group_threshold=0.9\n",
    ")"
   ]
  },
  {
   "cell_type": "code",
   "execution_count": 40,
   "id": "aecb5f0b",
   "metadata": {
    "execution": {
     "iopub.execute_input": "2021-10-13T07:13:13.193167Z",
     "iopub.status.busy": "2021-10-13T07:13:13.192562Z",
     "iopub.status.idle": "2021-10-13T07:28:09.569449Z",
     "shell.execute_reply": "2021-10-13T07:28:09.566765Z",
     "shell.execute_reply.started": "2021-10-13T06:57:00.034740Z"
    },
    "papermill": {
     "duration": 896.391808,
     "end_time": "2021-10-13T07:28:09.569586",
     "exception": false,
     "start_time": "2021-10-13T07:13:13.177778",
     "status": "completed"
    },
    "tags": []
   },
   "outputs": [
    {
     "data": {
      "application/vnd.jupyter.widget-view+json": {
       "model_id": "1dd1bfb18b5b4b8d855907999007e973",
       "version_major": 2,
       "version_minor": 0
      },
      "text/plain": [
       "  0%|          | 0/17 [00:00<?, ?it/s]"
      ]
     },
     "metadata": {},
     "output_type": "display_data"
    },
    {
     "data": {
      "text/html": [
       "<div>\n",
       "<style scoped>\n",
       "    .dataframe tbody tr th:only-of-type {\n",
       "        vertical-align: middle;\n",
       "    }\n",
       "\n",
       "    .dataframe tbody tr th {\n",
       "        vertical-align: top;\n",
       "    }\n",
       "\n",
       "    .dataframe thead th {\n",
       "        text-align: right;\n",
       "    }\n",
       "</style>\n",
       "<table border=\"1\" class=\"dataframe\">\n",
       "  <thead>\n",
       "    <tr style=\"text-align: right;\">\n",
       "      <th></th>\n",
       "      <th>feature</th>\n",
       "      <th>importance_mean</th>\n",
       "      <th>importance_std</th>\n",
       "      <th>val_imp_0</th>\n",
       "      <th>val_imp_1</th>\n",
       "      <th>val_imp_2</th>\n",
       "      <th>val_imp_3</th>\n",
       "    </tr>\n",
       "  </thead>\n",
       "  <tbody>\n",
       "    <tr>\n",
       "      <th>14</th>\n",
       "      <td>R</td>\n",
       "      <td>0.641489</td>\n",
       "      <td>0.008186</td>\n",
       "      <td>0.652663</td>\n",
       "      <td>0.635806</td>\n",
       "      <td>0.645665</td>\n",
       "      <td>0.631822</td>\n",
       "    </tr>\n",
       "    <tr>\n",
       "      <th>8</th>\n",
       "      <td>C</td>\n",
       "      <td>0.572881</td>\n",
       "      <td>0.006749</td>\n",
       "      <td>0.576133</td>\n",
       "      <td>0.561581</td>\n",
       "      <td>0.579311</td>\n",
       "      <td>0.574499</td>\n",
       "    </tr>\n",
       "    <tr>\n",
       "      <th>6</th>\n",
       "      <td>u_in_cumsum</td>\n",
       "      <td>0.122516</td>\n",
       "      <td>0.010427</td>\n",
       "      <td>0.114848</td>\n",
       "      <td>0.137843</td>\n",
       "      <td>0.111209</td>\n",
       "      <td>0.126164</td>\n",
       "    </tr>\n",
       "    <tr>\n",
       "      <th>10</th>\n",
       "      <td>u_in_last</td>\n",
       "      <td>0.066718</td>\n",
       "      <td>0.004675</td>\n",
       "      <td>0.062234</td>\n",
       "      <td>0.074565</td>\n",
       "      <td>0.064821</td>\n",
       "      <td>0.065251</td>\n",
       "    </tr>\n",
       "    <tr>\n",
       "      <th>16</th>\n",
       "      <td>u_in_max &amp; u_in_std &amp; u_in_sum</td>\n",
       "      <td>0.056736</td>\n",
       "      <td>0.005914</td>\n",
       "      <td>0.059245</td>\n",
       "      <td>0.062377</td>\n",
       "      <td>0.046806</td>\n",
       "      <td>0.058514</td>\n",
       "    </tr>\n",
       "    <tr>\n",
       "      <th>2</th>\n",
       "      <td>time_step</td>\n",
       "      <td>0.048022</td>\n",
       "      <td>0.006509</td>\n",
       "      <td>0.045694</td>\n",
       "      <td>0.054782</td>\n",
       "      <td>0.038440</td>\n",
       "      <td>0.053171</td>\n",
       "    </tr>\n",
       "    <tr>\n",
       "      <th>3</th>\n",
       "      <td>u_in_first</td>\n",
       "      <td>0.027926</td>\n",
       "      <td>0.004365</td>\n",
       "      <td>0.031292</td>\n",
       "      <td>0.028320</td>\n",
       "      <td>0.020676</td>\n",
       "      <td>0.031414</td>\n",
       "    </tr>\n",
       "    <tr>\n",
       "      <th>1</th>\n",
       "      <td>u_in_lead1</td>\n",
       "      <td>0.014366</td>\n",
       "      <td>0.006922</td>\n",
       "      <td>0.006301</td>\n",
       "      <td>0.021130</td>\n",
       "      <td>0.008691</td>\n",
       "      <td>0.021341</td>\n",
       "    </tr>\n",
       "    <tr>\n",
       "      <th>0</th>\n",
       "      <td>u_in_lag1</td>\n",
       "      <td>0.013966</td>\n",
       "      <td>0.003095</td>\n",
       "      <td>0.009187</td>\n",
       "      <td>0.017763</td>\n",
       "      <td>0.013916</td>\n",
       "      <td>0.014996</td>\n",
       "    </tr>\n",
       "    <tr>\n",
       "      <th>12</th>\n",
       "      <td>u_in_lead1_diff</td>\n",
       "      <td>0.009011</td>\n",
       "      <td>0.005595</td>\n",
       "      <td>0.013293</td>\n",
       "      <td>0.012232</td>\n",
       "      <td>0.011105</td>\n",
       "      <td>-0.000588</td>\n",
       "    </tr>\n",
       "    <tr>\n",
       "      <th>13</th>\n",
       "      <td>u_in</td>\n",
       "      <td>0.003509</td>\n",
       "      <td>0.007240</td>\n",
       "      <td>0.008126</td>\n",
       "      <td>0.003235</td>\n",
       "      <td>-0.008118</td>\n",
       "      <td>0.010793</td>\n",
       "    </tr>\n",
       "    <tr>\n",
       "      <th>4</th>\n",
       "      <td>u_in_lag1_diff</td>\n",
       "      <td>0.002699</td>\n",
       "      <td>0.007336</td>\n",
       "      <td>-0.003433</td>\n",
       "      <td>0.004009</td>\n",
       "      <td>-0.003955</td>\n",
       "      <td>0.014173</td>\n",
       "    </tr>\n",
       "    <tr>\n",
       "      <th>5</th>\n",
       "      <td>u_in_cumsum_reverse</td>\n",
       "      <td>0.002544</td>\n",
       "      <td>0.004783</td>\n",
       "      <td>0.002646</td>\n",
       "      <td>0.000901</td>\n",
       "      <td>-0.003305</td>\n",
       "      <td>0.009933</td>\n",
       "    </tr>\n",
       "    <tr>\n",
       "      <th>11</th>\n",
       "      <td>u_in_min</td>\n",
       "      <td>0.000082</td>\n",
       "      <td>0.003052</td>\n",
       "      <td>0.000000</td>\n",
       "      <td>-0.004644</td>\n",
       "      <td>0.003780</td>\n",
       "      <td>0.001192</td>\n",
       "    </tr>\n",
       "    <tr>\n",
       "      <th>7</th>\n",
       "      <td>area</td>\n",
       "      <td>-0.000156</td>\n",
       "      <td>0.003925</td>\n",
       "      <td>-0.000271</td>\n",
       "      <td>-0.003399</td>\n",
       "      <td>-0.003243</td>\n",
       "      <td>0.006289</td>\n",
       "    </tr>\n",
       "    <tr>\n",
       "      <th>9</th>\n",
       "      <td>u_out_sum</td>\n",
       "      <td>-0.004661</td>\n",
       "      <td>0.009045</td>\n",
       "      <td>0.004490</td>\n",
       "      <td>-0.009195</td>\n",
       "      <td>-0.017271</td>\n",
       "      <td>0.003334</td>\n",
       "    </tr>\n",
       "    <tr>\n",
       "      <th>15</th>\n",
       "      <td>time_passed</td>\n",
       "      <td>-0.006598</td>\n",
       "      <td>0.006578</td>\n",
       "      <td>-0.000365</td>\n",
       "      <td>-0.002235</td>\n",
       "      <td>-0.017330</td>\n",
       "      <td>-0.006463</td>\n",
       "    </tr>\n",
       "  </tbody>\n",
       "</table>\n",
       "</div>"
      ],
      "text/plain": [
       "                           feature  importance_mean  importance_std  \\\n",
       "14                               R         0.641489        0.008186   \n",
       "8                                C         0.572881        0.006749   \n",
       "6                      u_in_cumsum         0.122516        0.010427   \n",
       "10                       u_in_last         0.066718        0.004675   \n",
       "16  u_in_max & u_in_std & u_in_sum         0.056736        0.005914   \n",
       "2                        time_step         0.048022        0.006509   \n",
       "3                       u_in_first         0.027926        0.004365   \n",
       "1                       u_in_lead1         0.014366        0.006922   \n",
       "0                        u_in_lag1         0.013966        0.003095   \n",
       "12                 u_in_lead1_diff         0.009011        0.005595   \n",
       "13                            u_in         0.003509        0.007240   \n",
       "4                   u_in_lag1_diff         0.002699        0.007336   \n",
       "5              u_in_cumsum_reverse         0.002544        0.004783   \n",
       "11                        u_in_min         0.000082        0.003052   \n",
       "7                             area        -0.000156        0.003925   \n",
       "9                        u_out_sum        -0.004661        0.009045   \n",
       "15                     time_passed        -0.006598        0.006578   \n",
       "\n",
       "    val_imp_0  val_imp_1  val_imp_2  val_imp_3  \n",
       "14   0.652663   0.635806   0.645665   0.631822  \n",
       "8    0.576133   0.561581   0.579311   0.574499  \n",
       "6    0.114848   0.137843   0.111209   0.126164  \n",
       "10   0.062234   0.074565   0.064821   0.065251  \n",
       "16   0.059245   0.062377   0.046806   0.058514  \n",
       "2    0.045694   0.054782   0.038440   0.053171  \n",
       "3    0.031292   0.028320   0.020676   0.031414  \n",
       "1    0.006301   0.021130   0.008691   0.021341  \n",
       "0    0.009187   0.017763   0.013916   0.014996  \n",
       "12   0.013293   0.012232   0.011105  -0.000588  \n",
       "13   0.008126   0.003235  -0.008118   0.010793  \n",
       "4   -0.003433   0.004009  -0.003955   0.014173  \n",
       "5    0.002646   0.000901  -0.003305   0.009933  \n",
       "11   0.000000  -0.004644   0.003780   0.001192  \n",
       "7   -0.000271  -0.003399  -0.003243   0.006289  \n",
       "9    0.004490  -0.009195  -0.017271   0.003334  \n",
       "15  -0.000365  -0.002235  -0.017330  -0.006463  "
      ]
     },
     "execution_count": 40,
     "metadata": {},
     "output_type": "execute_result"
    }
   ],
   "source": [
    "lofo_imp = LOFOImportance(ds, cv=cv, scoring=\"neg_mean_absolute_error\")\n",
    "\n",
    "importance_df = lofo_imp.get_importance()\n",
    "importance_df"
   ]
  },
  {
   "cell_type": "code",
   "execution_count": 41,
   "id": "769e5e3a",
   "metadata": {
    "execution": {
     "iopub.execute_input": "2021-10-13T07:28:09.596855Z",
     "iopub.status.busy": "2021-10-13T07:28:09.596235Z",
     "iopub.status.idle": "2021-10-13T07:28:09.956399Z",
     "shell.execute_reply": "2021-10-13T07:28:09.956841Z",
     "shell.execute_reply.started": "2021-10-13T07:11:54.723517Z"
    },
    "papermill": {
     "duration": 0.376958,
     "end_time": "2021-10-13T07:28:09.957003",
     "exception": false,
     "start_time": "2021-10-13T07:28:09.580045",
     "status": "completed"
    },
    "tags": []
   },
   "outputs": [
    {
     "data": {
      "image/png": "[encoded data removed]",
      "text/plain": [
       "<Figure size 576x576 with 1 Axes>"
      ]
     },
     "metadata": {
      "needs_background": "light"
     },
     "output_type": "display_data"
    }
   ],
   "source": [
    "plot_importance(importance_df, figsize=(8, 8))"
   ]
  },
  {
   "cell_type": "code",
   "execution_count": null,
   "id": "d9bee2c1",
   "metadata": {
    "papermill": {
     "duration": 0.010109,
     "end_time": "2021-10-13T07:28:09.977719",
     "exception": false,
     "start_time": "2021-10-13T07:28:09.967610",
     "status": "completed"
    },
    "tags": []
   },
   "outputs": [],
   "source": []
  }
 ],
 "metadata": {
  "kernelspec": {
   "display_name": "Python 3",
   "language": "python",
   "name": "python3"
  },
  "language_info": {
   "codemirror_mode": {
    "name": "ipython",
    "version": 3
   },
   "file_extension": ".py",
   "mimetype": "text/x-python",
   "name": "python",
   "nbconvert_exporter": "python",
   "pygments_lexer": "ipython3",
   "version": "3.7.6"
  },
  "papermill": {
   "default_parameters": {},
   "duration": 948.013169,
   "end_time": "2021-10-13T07:28:11.761614",
   "environment_variables": {},
   "exception": null,
   "input_path": "__notebook__.ipynb",
   "output_path": "__notebook__.ipynb",
   "parameters": {},
   "start_time": "2021-10-13T07:12:23.748445",
   "version": "2.3.3"
  },
  "widgets": {
   "application/vnd.jupyter.widget-state+json": {
    "state": {
     "0b7b3eb7fe67477c92e361ab39994789": {
      "model_module": "@jupyter-widgets/controls",
      "model_module_version": "1.5.0",
      "model_name": "HTMLModel",
      "state": {
       "_dom_classes": [],
       "_model_module": "@jupyter-widgets/controls",
       "_model_module_version": "1.5.0",
       "_model_name": "HTMLModel",
       "_view_count": null,
       "_view_module": "@jupyter-widgets/controls",
       "_view_module_version": "1.5.0",
       "_view_name": "HTMLView",
       "description": "",
       "description_tooltip": null,
       "layout": "IPY_MODEL_d59dfc23919c41b4a02b2b66ea69d8aa",
       "placeholder": "​",
       "style": "IPY_MODEL_4411e8a2df174e9c8e94a3d8bc93738b",
       "value": "100%"
      }
     },
     "39107101f7a84b44aa024597569f9cf4": {
      "model_module": "@jupyter-widgets/controls",
      "model_module_version": "1.5.0",
      "model_name": "DescriptionStyleModel",
      "state": {
       "_model_module": "@jupyter-widgets/controls",
       "_model_module_version": "1.5.0",
       "_model_name": "DescriptionStyleModel",
       "_view_count": null,
       "_view_module": "@jupyter-widgets/base",
       "_view_module_version": "1.2.0",
       "_view_name": "StyleView",
       "description_width": ""
      }
     },
     "3eaf961d1f3647728a01f61baf08c4e2": {
      "model_module": "@jupyter-widgets/controls",
      "model_module_version": "1.5.0",
      "model_name": "HBoxModel",
      "state": {
       "_dom_classes": [],
       "_model_module": "@jupyter-widgets/controls",
       "_model_module_version": "1.5.0",
       "_model_name": "HBoxModel",
       "_view_count": null,
       "_view_module": "@jupyter-widgets/controls",
       "_view_module_version": "1.5.0",
       "_view_name": "HBoxView",
       "box_style": "",
       "children": [
        "IPY_MODEL_0b7b3eb7fe67477c92e361ab39994789",
        "IPY_MODEL_d72874d7e3bb4d9cb57efb6fed033617",
        "IPY_MODEL_9009847ff986400c82c818c074c2084e"
       ],
       "layout": "IPY_MODEL_898fc3f07ee14610850dfcb024f39a46"
      }
     },
     "4411e8a2df174e9c8e94a3d8bc93738b": {
      "model_module": "@jupyter-widgets/controls",
      "model_module_version": "1.5.0",
      "model_name": "DescriptionStyleModel",
      "state": {
       "_model_module": "@jupyter-widgets/controls",
       "_model_module_version": "1.5.0",
       "_model_name": "DescriptionStyleModel",
       "_view_count": null,
       "_view_module": "@jupyter-widgets/base",
       "_view_module_version": "1.2.0",
       "_view_name": "StyleView",
       "description_width": ""
      }
     },
     "898fc3f07ee14610850dfcb024f39a46": {
      "model_module": "@jupyter-widgets/base",
      "model_module_version": "1.2.0",
      "model_name": "LayoutModel",
      "state": {
       "_model_module": "@jupyter-widgets/base",
       "_model_module_version": "1.2.0",
       "_model_name": "LayoutModel",
       "_view_count": null,
       "_view_module": "@jupyter-widgets/base",
       "_view_module_version": "1.2.0",
       "_view_name": "LayoutView",
       "align_content": null,
       "align_items": null,
       "align_self": null,
       "border": null,
       "bottom": null,
       "display": null,
       "flex": null,
       "flex_flow": null,
       "grid_area": null,
       "grid_auto_columns": null,
       "grid_auto_flow": null,
       "grid_auto_rows": null,
       "grid_column": null,
       "grid_gap": null,
       "grid_row": null,
       "grid_template_areas": null,
       "grid_template_columns": null,
       "grid_template_rows": null,
       "height": null,
       "justify_content": null,
       "justify_items": null,
       "left": null,
       "margin": null,
       "max_height": null,
       "max_width": null,
       "min_height": null,
       "min_width": null,
       "object_fit": null,
       "object_position": null,
       "order": null,
       "overflow": null,
       "overflow_x": null,
       "overflow_y": null,
       "padding": null,
       "right": null,
       "top": null,
       "visibility": null,
       "width": null
      }
     },
     "9009847ff986400c82c818c074c2084e": {
      "model_module": "@jupyter-widgets/controls",
      "model_module_version": "1.5.0",
      "model_name": "HTMLModel",
      "state": {
       "_dom_classes": [],
       "_model_module": "@jupyter-widgets/controls",
       "_model_module_version": "1.5.0",
       "_model_name": "HTMLModel",
       "_view_count": null,
       "_view_module": "@jupyter-widgets/controls",
       "_view_module_version": "1.5.0",
       "_view_name": "HTMLView",
       "description": "",
       "description_tooltip": null,
       "layout": "IPY_MODEL_923554ed3019439d8e188e51e900f692",
       "placeholder": "​",
       "style": "IPY_MODEL_39107101f7a84b44aa024597569f9cf4",
       "value": " 16/16 [14:01&lt;00:00, 51.67s/it]"
      }
     },
     "923554ed3019439d8e188e51e900f692": {
      "model_module": "@jupyter-widgets/base",
      "model_module_version": "1.2.0",
      "model_name": "LayoutModel",
      "state": {
       "_model_module": "@jupyter-widgets/base",
       "_model_module_version": "1.2.0",
       "_model_name": "LayoutModel",
       "_view_count": null,
       "_view_module": "@jupyter-widgets/base",
       "_view_module_version": "1.2.0",
       "_view_name": "LayoutView",
       "align_content": null,
       "align_items": null,
       "align_self": null,
       "border": null,
       "bottom": null,
       "display": null,
       "flex": null,
       "flex_flow": null,
       "grid_area": null,
       "grid_auto_columns": null,
       "grid_auto_flow": null,
       "grid_auto_rows": null,
       "grid_column": null,
       "grid_gap": null,
       "grid_row": null,
       "grid_template_areas": null,
       "grid_template_columns": null,
       "grid_template_rows": null,
       "height": null,
       "justify_content": null,
       "justify_items": null,
       "left": null,
       "margin": null,
       "max_height": null,
       "max_width": null,
       "min_height": null,
       "min_width": null,
       "object_fit": null,
       "object_position": null,
       "order": null,
       "overflow": null,
       "overflow_x": null,
       "overflow_y": null,
       "padding": null,
       "right": null,
       "top": null,
       "visibility": null,
       "width": null
      }
     },
     "d59dfc23919c41b4a02b2b66ea69d8aa": {
      "model_module": "@jupyter-widgets/base",
      "model_module_version": "1.2.0",
      "model_name": "LayoutModel",
      "state": {
       "_model_module": "@jupyter-widgets/base",
       "_model_module_version": "1.2.0",
       "_model_name": "LayoutModel",
       "_view_count": null,
       "_view_module": "@jupyter-widgets/base",
       "_view_module_version": "1.2.0",
       "_view_name": "LayoutView",
       "align_content": null,
       "align_items": null,
       "align_self": null,
       "border": null,
       "bottom": null,
       "display": null,
       "flex": null,
       "flex_flow": null,
       "grid_area": null,
       "grid_auto_columns": null,
       "grid_auto_flow": null,
       "grid_auto_rows": null,
       "grid_column": null,
       "grid_gap": null,
       "grid_row": null,
       "grid_template_areas": null,
       "grid_template_columns": null,
       "grid_template_rows": null,
       "height": null,
       "justify_content": null,
       "justify_items": null,
       "left": null,
       "margin": null,
       "max_height": null,
       "max_width": null,
       "min_height": null,
       "min_width": null,
       "object_fit": null,
       "object_position": null,
       "order": null,
       "overflow": null,
       "overflow_x": null,
       "overflow_y": null,
       "padding": null,
       "right": null,
       "top": null,
       "visibility": null,
       "width": null
      }
     },
     "d72874d7e3bb4d9cb57efb6fed033617": {
      "model_module": "@jupyter-widgets/controls",
      "model_module_version": "1.5.0",
      "model_name": "FloatProgressModel",
      "state": {
       "_dom_classes": [],
       "_model_module": "@jupyter-widgets/controls",
       "_model_module_version": "1.5.0",
       "_model_name": "FloatProgressModel",
       "_view_count": null,
       "_view_module": "@jupyter-widgets/controls",
       "_view_module_version": "1.5.0",
       "_view_name": "ProgressView",
       "bar_style": "success",
       "description": "",
       "description_tooltip": null,
       "layout": "IPY_MODEL_fd5f5995e0e74461aaba0f2ea88e66eb",
       "max": 16,
       "min": 0,
       "orientation": "horizontal",
       "style": "IPY_MODEL_ff747f18b61445af96c0212e8e8e3a5c",
       "value": 16
      }
     },
     "fd5f5995e0e74461aaba0f2ea88e66eb": {
      "model_module": "@jupyter-widgets/base",
      "model_module_version": "1.2.0",
      "model_name": "LayoutModel",
      "state": {
       "_model_module": "@jupyter-widgets/base",
       "_model_module_version": "1.2.0",
       "_model_name": "LayoutModel",
       "_view_count": null,
       "_view_module": "@jupyter-widgets/base",
       "_view_module_version": "1.2.0",
       "_view_name": "LayoutView",
       "align_content": null,
       "align_items": null,
       "align_self": null,
       "border": null,
       "bottom": null,
       "display": null,
       "flex": null,
       "flex_flow": null,
       "grid_area": null,
       "grid_auto_columns": null,
       "grid_auto_flow": null,
       "grid_auto_rows": null,
       "grid_column": null,
       "grid_gap": null,
       "grid_row": null,
       "grid_template_areas": null,
       "grid_template_columns": null,
       "grid_template_rows": null,
       "height": null,
       "justify_content": null,
       "justify_items": null,
       "left": null,
       "margin": null,
       "max_height": null,
       "max_width": null,
       "min_height": null,
       "min_width": null,
       "object_fit": null,
       "object_position": null,
       "order": null,
       "overflow": null,
       "overflow_x": null,
       "overflow_y": null,
       "padding": null,
       "right": null,
       "top": null,
       "visibility": null,
       "width": null
      }
     },
     "ff747f18b61445af96c0212e8e8e3a5c": {
      "model_module": "@jupyter-widgets/controls",
      "model_module_version": "1.5.0",
      "model_name": "ProgressStyleModel",
      "state": {
       "_model_module": "@jupyter-widgets/controls",
       "_model_module_version": "1.5.0",
       "_model_name": "ProgressStyleModel",
       "_view_count": null,
       "_view_module": "@jupyter-widgets/base",
       "_view_module_version": "1.2.0",
       "_view_name": "StyleView",
       "bar_color": null,
       "description_width": ""
      }
     }
    },
    "version_major": 2,
    "version_minor": 0
   }
  }
 },
 "nbformat": 4,
 "nbformat_minor": 5
}
