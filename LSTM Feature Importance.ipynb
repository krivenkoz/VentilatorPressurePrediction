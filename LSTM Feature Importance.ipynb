{
 "cells": [
  {
   "cell_type": "code",
   "execution_count": 1,
   "id": "336bb477",
   "metadata": {
    "colab": {
     "base_uri": "https://localhost:8080/"
    },
    "executionInfo": {
     "elapsed": 11076,
     "status": "ok",
     "timestamp": 1634297535369,
     "user": {
      "displayName": "Sergey Krivenko",
      "photoUrl": "https://lh3.googleusercontent.com/a/default-user=s64",
      "userId": "07407861305259343531"
     },
     "user_tz": -180
    },
    "id": "336bb477",
    "outputId": "1e053b71-199e-4c7f-c835-3f96ff0cd148"
   },
   "outputs": [
    {
     "name": "stdout",
     "output_type": "stream",
     "text": [
      "Requirement already satisfied: optuna in /usr/local/lib/python3.7/dist-packages (2.10.0)\n",
      "Requirement already satisfied: packaging>=20.0 in /usr/local/lib/python3.7/dist-packages (from optuna) (21.0)\n",
      "Requirement already satisfied: cmaes>=0.8.2 in /usr/local/lib/python3.7/dist-packages (from optuna) (0.8.2)\n",
      "Requirement already satisfied: sqlalchemy>=1.1.0 in /usr/local/lib/python3.7/dist-packages (from optuna) (1.4.25)\n",
      "Requirement already satisfied: numpy in /usr/local/lib/python3.7/dist-packages (from optuna) (1.19.5)\n",
      "Requirement already satisfied: alembic in /usr/local/lib/python3.7/dist-packages (from optuna) (1.7.4)\n",
      "Requirement already satisfied: PyYAML in /usr/local/lib/python3.7/dist-packages (from optuna) (3.13)\n",
      "Requirement already satisfied: cliff in /usr/local/lib/python3.7/dist-packages (from optuna) (3.9.0)\n",
      "Requirement already satisfied: tqdm in /usr/local/lib/python3.7/dist-packages (from optuna) (4.62.3)\n",
      "Requirement already satisfied: colorlog in /usr/local/lib/python3.7/dist-packages (from optuna) (6.5.0)\n",
      "Requirement already satisfied: scipy!=1.4.0 in /usr/local/lib/python3.7/dist-packages (from optuna) (1.4.1)\n",
      "Requirement already satisfied: pyparsing>=2.0.2 in /usr/local/lib/python3.7/dist-packages (from packaging>=20.0->optuna) (2.4.7)\n",
      "Requirement already satisfied: greenlet!=0.4.17 in /usr/local/lib/python3.7/dist-packages (from sqlalchemy>=1.1.0->optuna) (1.1.2)\n",
      "Requirement already satisfied: importlib-metadata in /usr/local/lib/python3.7/dist-packages (from sqlalchemy>=1.1.0->optuna) (4.8.1)\n",
      "Requirement already satisfied: Mako in /usr/local/lib/python3.7/dist-packages (from alembic->optuna) (1.1.5)\n",
      "Requirement already satisfied: importlib-resources in /usr/local/lib/python3.7/dist-packages (from alembic->optuna) (5.2.2)\n",
      "Requirement already satisfied: cmd2>=1.0.0 in /usr/local/lib/python3.7/dist-packages (from cliff->optuna) (2.2.0)\n",
      "Requirement already satisfied: autopage>=0.4.0 in /usr/local/lib/python3.7/dist-packages (from cliff->optuna) (0.4.0)\n",
      "Requirement already satisfied: stevedore>=2.0.1 in /usr/local/lib/python3.7/dist-packages (from cliff->optuna) (3.4.0)\n",
      "Requirement already satisfied: PrettyTable>=0.7.2 in /usr/local/lib/python3.7/dist-packages (from cliff->optuna) (2.2.1)\n",
      "Requirement already satisfied: pbr!=2.1.0,>=2.0.0 in /usr/local/lib/python3.7/dist-packages (from cliff->optuna) (5.6.0)\n",
      "Requirement already satisfied: pyperclip>=1.6 in /usr/local/lib/python3.7/dist-packages (from cmd2>=1.0.0->cliff->optuna) (1.8.2)\n",
      "Requirement already satisfied: colorama>=0.3.7 in /usr/local/lib/python3.7/dist-packages (from cmd2>=1.0.0->cliff->optuna) (0.4.4)\n",
      "Requirement already satisfied: attrs>=16.3.0 in /usr/local/lib/python3.7/dist-packages (from cmd2>=1.0.0->cliff->optuna) (21.2.0)\n",
      "Requirement already satisfied: typing-extensions in /usr/local/lib/python3.7/dist-packages (from cmd2>=1.0.0->cliff->optuna) (3.7.4.3)\n",
      "Requirement already satisfied: wcwidth>=0.1.7 in /usr/local/lib/python3.7/dist-packages (from cmd2>=1.0.0->cliff->optuna) (0.2.5)\n",
      "Requirement already satisfied: zipp>=0.5 in /usr/local/lib/python3.7/dist-packages (from importlib-metadata->sqlalchemy>=1.1.0->optuna) (3.6.0)\n",
      "Requirement already satisfied: MarkupSafe>=0.9.2 in /usr/local/lib/python3.7/dist-packages (from Mako->alembic->optuna) (2.0.1)\n",
      "Requirement already satisfied: pandas in /usr/local/lib/python3.7/dist-packages (1.1.5)\n",
      "Requirement already satisfied: pytz>=2017.2 in /usr/local/lib/python3.7/dist-packages (from pandas) (2018.9)\n",
      "Requirement already satisfied: numpy>=1.15.4 in /usr/local/lib/python3.7/dist-packages (from pandas) (1.19.5)\n",
      "Requirement already satisfied: python-dateutil>=2.7.3 in /usr/local/lib/python3.7/dist-packages (from pandas) (2.8.2)\n",
      "Requirement already satisfied: six>=1.5 in /usr/local/lib/python3.7/dist-packages (from python-dateutil>=2.7.3->pandas) (1.15.0)\n",
      "Requirement already satisfied: tqdm in /usr/local/lib/python3.7/dist-packages (4.62.3)\n"
     ]
    }
   ],
   "source": [
    "!pip install optuna\n",
    "!pip install pandas\n",
    "!pip install tqdm\n"
   ]
  },
  {
   "cell_type": "code",
   "execution_count": 16,
   "id": "0627da23",
   "metadata": {
    "executionInfo": {
     "elapsed": 6758,
     "status": "ok",
     "timestamp": 1634297542115,
     "user": {
      "displayName": "Sergey Krivenko",
      "photoUrl": "https://lh3.googleusercontent.com/a/default-user=s64",
      "userId": "07407861305259343531"
     },
     "user_tz": -180
    },
    "id": "0627da23"
   },
   "outputs": [],
   "source": [
    "import numpy as np, os\n",
    "import pandas as pd\n",
    "\n",
    "import optuna\n",
    "import glob\n",
    "\n",
    "# https://www.kaggle.com/c/ventilator-pressure-prediction/discussion/274717 \n",
    "os.environ['TF_CPP_MIN_LOG_LEVEL'] = '3'\n",
    "import matplotlib.pyplot as plt\n",
    "from tqdm.notebook import tqdm\n",
    "\n",
    "import tensorflow as tf\n",
    "from tensorflow import keras\n",
    "from tensorflow.keras.utils import plot_model\n",
    "import tensorflow.keras.backend as K\n",
    "from tensorflow.keras.callbacks import EarlyStopping, ModelCheckpoint\n",
    "from tensorflow.keras.callbacks import LearningRateScheduler, ReduceLROnPlateau\n",
    "from tensorflow.keras.optimizers.schedules import ExponentialDecay\n",
    "\n",
    "from sklearn.metrics import mean_absolute_error as mae\n",
    "from sklearn.preprocessing import RobustScaler, normalize\n",
    "from sklearn.model_selection import train_test_split, GroupKFold, KFold\n",
    "\n",
    "from IPython.display import display"
   ]
  },
  {
   "cell_type": "code",
   "execution_count": 17,
   "id": "3cf50832",
   "metadata": {
    "executionInfo": {
     "elapsed": 20,
     "status": "ok",
     "timestamp": 1634297542119,
     "user": {
      "displayName": "Sergey Krivenko",
      "photoUrl": "https://lh3.googleusercontent.com/a/default-user=s64",
      "userId": "07407861305259343531"
     },
     "user_tz": -180
    },
    "id": "3cf50832"
   },
   "outputs": [],
   "source": [
    "gd_flag = False"
   ]
  },
  {
   "cell_type": "code",
   "execution_count": 4,
   "id": "7c53ca8a",
   "metadata": {
    "colab": {
     "base_uri": "https://localhost:8080/"
    },
    "executionInfo": {
     "elapsed": 20,
     "status": "ok",
     "timestamp": 1634297542120,
     "user": {
      "displayName": "Sergey Krivenko",
      "photoUrl": "https://lh3.googleusercontent.com/a/default-user=s64",
      "userId": "07407861305259343531"
     },
     "user_tz": -180
    },
    "id": "7c53ca8a",
    "outputId": "0d6de713-3eee-4edf-b6af-3b0a51c81510"
   },
   "outputs": [
    {
     "name": "stdout",
     "output_type": "stream",
     "text": [
      "Drive already mounted at /content/drive/; to attempt to forcibly remount, call drive.mount(\"/content/drive/\", force_remount=True).\n"
     ]
    }
   ],
   "source": [
    "from google.colab import drive\n",
    "drive.mount('/content/drive/')\n",
    "import sys\n",
    "sys.path.append('/content/drive/My Drive/GBrain_Ventilator')\n",
    "gd_flag = True"
   ]
  },
  {
   "cell_type": "code",
   "execution_count": 18,
   "id": "1f671ca1",
   "metadata": {
    "executionInfo": {
     "elapsed": 16,
     "status": "ok",
     "timestamp": 1634297542120,
     "user": {
      "displayName": "Sergey Krivenko",
      "photoUrl": "https://lh3.googleusercontent.com/a/default-user=s64",
      "userId": "07407861305259343531"
     },
     "user_tz": -180
    },
    "id": "1f671ca1"
   },
   "outputs": [],
   "source": [
    "if gd_flag:\n",
    "    path_to_data = '/content/drive/My Drive/GBrain_Ventilator/'    \n",
    "else:  \n",
    "    path_to_data = 'e:\\\\Krivenko\\\\Kaggle\\\\2021\\\\New20211005\\\\'"
   ]
  },
  {
   "cell_type": "code",
   "execution_count": 19,
   "id": "eb0011e6",
   "metadata": {
    "executionInfo": {
     "elapsed": 16,
     "status": "ok",
     "timestamp": 1634297542121,
     "user": {
      "displayName": "Sergey Krivenko",
      "photoUrl": "https://lh3.googleusercontent.com/a/default-user=s64",
      "userId": "07407861305259343531"
     },
     "user_tz": -180
    },
    "id": "eb0011e6"
   },
   "outputs": [],
   "source": [
    "DEBUG = True\n",
    "TRAIN_MODEL = False\n",
    "INFER_TEST = False\n",
    "ONE_FOLD_ONLY = True\n",
    "COMPUTE_LSTM_IMPORTANCE = True\n",
    "MODEL_SUMMARY = False\n",
    "OOF = False"
   ]
  },
  {
   "cell_type": "code",
   "execution_count": 20,
   "id": "SMPr1r4UjFDt",
   "metadata": {
    "colab": {
     "base_uri": "https://localhost:8080/"
    },
    "executionInfo": {
     "elapsed": 16,
     "status": "ok",
     "timestamp": 1634297542121,
     "user": {
      "displayName": "Sergey Krivenko",
      "photoUrl": "https://lh3.googleusercontent.com/a/default-user=s64",
      "userId": "07407861305259343531"
     },
     "user_tz": -180
    },
    "id": "SMPr1r4UjFDt",
    "outputId": "2d967a61-b149-4255-f215-77f9fc5e0f80"
   },
   "outputs": [
    {
     "name": "stdout",
     "output_type": "stream",
     "text": [
      "[]\n"
     ]
    }
   ],
   "source": [
    "print(glob.glob(\"/content/drive/MyDrive/GBrain_Ventilator/*\"))"
   ]
  },
  {
   "cell_type": "code",
   "execution_count": 21,
   "id": "7533ca0a",
   "metadata": {
    "executionInfo": {
     "elapsed": 17714,
     "status": "ok",
     "timestamp": 1634297559821,
     "user": {
      "displayName": "Sergey Krivenko",
      "photoUrl": "https://lh3.googleusercontent.com/a/default-user=s64",
      "userId": "07407861305259343531"
     },
     "user_tz": -180
    },
    "id": "7533ca0a"
   },
   "outputs": [],
   "source": [
    "train_name = 'train.csv'\n",
    "test_name = 'test.csv'\n",
    "train = pd.read_csv(path_to_data + train_name)\n",
    "test = pd.read_csv(path_to_data + test_name)\n",
    "\n",
    "pressure_values = np.sort( train.pressure.unique() )\n",
    "submission = pd.read_csv(path_to_data + 'sample_submission.csv')\n",
    "\n",
    "if DEBUG:\n",
    "    train = train[:80*1000]\n",
    "    test = test[:80*1000]"
   ]
  },
  {
   "cell_type": "code",
   "execution_count": 22,
   "id": "54d2a328",
   "metadata": {
    "colab": {
     "base_uri": "https://localhost:8080/",
     "height": 206
    },
    "executionInfo": {
     "elapsed": 16,
     "status": "ok",
     "timestamp": 1634297559825,
     "user": {
      "displayName": "Sergey Krivenko",
      "photoUrl": "https://lh3.googleusercontent.com/a/default-user=s64",
      "userId": "07407861305259343531"
     },
     "user_tz": -180
    },
    "id": "54d2a328",
    "outputId": "78ca9c14-bd38-400d-9d0e-e23c4b99d8c7"
   },
   "outputs": [
    {
     "data": {
      "text/html": [
       "<div>\n",
       "<style scoped>\n",
       "    .dataframe tbody tr th:only-of-type {\n",
       "        vertical-align: middle;\n",
       "    }\n",
       "\n",
       "    .dataframe tbody tr th {\n",
       "        vertical-align: top;\n",
       "    }\n",
       "\n",
       "    .dataframe thead th {\n",
       "        text-align: right;\n",
       "    }\n",
       "</style>\n",
       "<table border=\"1\" class=\"dataframe\">\n",
       "  <thead>\n",
       "    <tr style=\"text-align: right;\">\n",
       "      <th></th>\n",
       "      <th>id</th>\n",
       "      <th>breath_id</th>\n",
       "      <th>R</th>\n",
       "      <th>C</th>\n",
       "      <th>time_step</th>\n",
       "      <th>u_in</th>\n",
       "      <th>u_out</th>\n",
       "      <th>pressure</th>\n",
       "    </tr>\n",
       "  </thead>\n",
       "  <tbody>\n",
       "    <tr>\n",
       "      <th>0</th>\n",
       "      <td>1</td>\n",
       "      <td>1</td>\n",
       "      <td>20</td>\n",
       "      <td>50</td>\n",
       "      <td>0.000000</td>\n",
       "      <td>0.083334</td>\n",
       "      <td>0</td>\n",
       "      <td>5.837492</td>\n",
       "    </tr>\n",
       "    <tr>\n",
       "      <th>1</th>\n",
       "      <td>2</td>\n",
       "      <td>1</td>\n",
       "      <td>20</td>\n",
       "      <td>50</td>\n",
       "      <td>0.033652</td>\n",
       "      <td>18.383041</td>\n",
       "      <td>0</td>\n",
       "      <td>5.907794</td>\n",
       "    </tr>\n",
       "    <tr>\n",
       "      <th>2</th>\n",
       "      <td>3</td>\n",
       "      <td>1</td>\n",
       "      <td>20</td>\n",
       "      <td>50</td>\n",
       "      <td>0.067514</td>\n",
       "      <td>22.509278</td>\n",
       "      <td>0</td>\n",
       "      <td>7.876254</td>\n",
       "    </tr>\n",
       "    <tr>\n",
       "      <th>3</th>\n",
       "      <td>4</td>\n",
       "      <td>1</td>\n",
       "      <td>20</td>\n",
       "      <td>50</td>\n",
       "      <td>0.101542</td>\n",
       "      <td>22.808822</td>\n",
       "      <td>0</td>\n",
       "      <td>11.742872</td>\n",
       "    </tr>\n",
       "    <tr>\n",
       "      <th>4</th>\n",
       "      <td>5</td>\n",
       "      <td>1</td>\n",
       "      <td>20</td>\n",
       "      <td>50</td>\n",
       "      <td>0.135756</td>\n",
       "      <td>25.355850</td>\n",
       "      <td>0</td>\n",
       "      <td>12.234987</td>\n",
       "    </tr>\n",
       "  </tbody>\n",
       "</table>\n",
       "</div>"
      ],
      "text/plain": [
       "   id  breath_id   R   C  time_step       u_in  u_out   pressure\n",
       "0   1          1  20  50   0.000000   0.083334      0   5.837492\n",
       "1   2          1  20  50   0.033652  18.383041      0   5.907794\n",
       "2   3          1  20  50   0.067514  22.509278      0   7.876254\n",
       "3   4          1  20  50   0.101542  22.808822      0  11.742872\n",
       "4   5          1  20  50   0.135756  25.355850      0  12.234987"
      ]
     },
     "execution_count": 22,
     "metadata": {},
     "output_type": "execute_result"
    }
   ],
   "source": [
    "train.head()"
   ]
  },
  {
   "cell_type": "code",
   "execution_count": 23,
   "id": "466109ea",
   "metadata": {
    "colab": {
     "base_uri": "https://localhost:8080/",
     "height": 243
    },
    "executionInfo": {
     "elapsed": 37299,
     "status": "ok",
     "timestamp": 1634297597111,
     "user": {
      "displayName": "Sergey Krivenko",
      "photoUrl": "https://lh3.googleusercontent.com/a/default-user=s64",
      "userId": "07407861305259343531"
     },
     "user_tz": -180
    },
    "id": "466109ea",
    "outputId": "2cb60705-b372-4073-e752-33402d3df21a"
   },
   "outputs": [
    {
     "name": "stdout",
     "output_type": "stream",
     "text": [
      "Train dataframe shape (80000, 43)\n"
     ]
    },
    {
     "data": {
      "text/html": [
       "<div>\n",
       "<style scoped>\n",
       "    .dataframe tbody tr th:only-of-type {\n",
       "        vertical-align: middle;\n",
       "    }\n",
       "\n",
       "    .dataframe tbody tr th {\n",
       "        vertical-align: top;\n",
       "    }\n",
       "\n",
       "    .dataframe thead th {\n",
       "        text-align: right;\n",
       "    }\n",
       "</style>\n",
       "<table border=\"1\" class=\"dataframe\">\n",
       "  <thead>\n",
       "    <tr style=\"text-align: right;\">\n",
       "      <th></th>\n",
       "      <th>id</th>\n",
       "      <th>breath_id</th>\n",
       "      <th>time_step</th>\n",
       "      <th>u_in</th>\n",
       "      <th>u_out</th>\n",
       "      <th>pressure</th>\n",
       "      <th>area</th>\n",
       "      <th>u_in_cumsum</th>\n",
       "      <th>u_out_cumsum</th>\n",
       "      <th>u_in_lag1</th>\n",
       "      <th>...</th>\n",
       "      <th>C_50</th>\n",
       "      <th>R__C_20__10</th>\n",
       "      <th>R__C_20__20</th>\n",
       "      <th>R__C_20__50</th>\n",
       "      <th>R__C_50__10</th>\n",
       "      <th>R__C_50__20</th>\n",
       "      <th>R__C_50__50</th>\n",
       "      <th>R__C_5__10</th>\n",
       "      <th>R__C_5__20</th>\n",
       "      <th>R__C_5__50</th>\n",
       "    </tr>\n",
       "  </thead>\n",
       "  <tbody>\n",
       "    <tr>\n",
       "      <th>0</th>\n",
       "      <td>1</td>\n",
       "      <td>1</td>\n",
       "      <td>0.000000</td>\n",
       "      <td>0.083334</td>\n",
       "      <td>0</td>\n",
       "      <td>5.837492</td>\n",
       "      <td>0.000000</td>\n",
       "      <td>0.083334</td>\n",
       "      <td>0</td>\n",
       "      <td>0.000000</td>\n",
       "      <td>...</td>\n",
       "      <td>1</td>\n",
       "      <td>0</td>\n",
       "      <td>0</td>\n",
       "      <td>1</td>\n",
       "      <td>0</td>\n",
       "      <td>0</td>\n",
       "      <td>0</td>\n",
       "      <td>0</td>\n",
       "      <td>0</td>\n",
       "      <td>0</td>\n",
       "    </tr>\n",
       "    <tr>\n",
       "      <th>1</th>\n",
       "      <td>2</td>\n",
       "      <td>1</td>\n",
       "      <td>0.033652</td>\n",
       "      <td>18.383041</td>\n",
       "      <td>0</td>\n",
       "      <td>5.907794</td>\n",
       "      <td>0.618632</td>\n",
       "      <td>18.466375</td>\n",
       "      <td>0</td>\n",
       "      <td>0.083334</td>\n",
       "      <td>...</td>\n",
       "      <td>1</td>\n",
       "      <td>0</td>\n",
       "      <td>0</td>\n",
       "      <td>1</td>\n",
       "      <td>0</td>\n",
       "      <td>0</td>\n",
       "      <td>0</td>\n",
       "      <td>0</td>\n",
       "      <td>0</td>\n",
       "      <td>0</td>\n",
       "    </tr>\n",
       "    <tr>\n",
       "      <th>2</th>\n",
       "      <td>3</td>\n",
       "      <td>1</td>\n",
       "      <td>0.067514</td>\n",
       "      <td>22.509278</td>\n",
       "      <td>0</td>\n",
       "      <td>7.876254</td>\n",
       "      <td>2.138333</td>\n",
       "      <td>40.975653</td>\n",
       "      <td>0</td>\n",
       "      <td>18.383041</td>\n",
       "      <td>...</td>\n",
       "      <td>1</td>\n",
       "      <td>0</td>\n",
       "      <td>0</td>\n",
       "      <td>1</td>\n",
       "      <td>0</td>\n",
       "      <td>0</td>\n",
       "      <td>0</td>\n",
       "      <td>0</td>\n",
       "      <td>0</td>\n",
       "      <td>0</td>\n",
       "    </tr>\n",
       "    <tr>\n",
       "      <th>3</th>\n",
       "      <td>4</td>\n",
       "      <td>1</td>\n",
       "      <td>0.101542</td>\n",
       "      <td>22.808822</td>\n",
       "      <td>0</td>\n",
       "      <td>11.742872</td>\n",
       "      <td>4.454391</td>\n",
       "      <td>63.784476</td>\n",
       "      <td>0</td>\n",
       "      <td>22.509278</td>\n",
       "      <td>...</td>\n",
       "      <td>1</td>\n",
       "      <td>0</td>\n",
       "      <td>0</td>\n",
       "      <td>1</td>\n",
       "      <td>0</td>\n",
       "      <td>0</td>\n",
       "      <td>0</td>\n",
       "      <td>0</td>\n",
       "      <td>0</td>\n",
       "      <td>0</td>\n",
       "    </tr>\n",
       "    <tr>\n",
       "      <th>4</th>\n",
       "      <td>5</td>\n",
       "      <td>1</td>\n",
       "      <td>0.135756</td>\n",
       "      <td>25.355850</td>\n",
       "      <td>0</td>\n",
       "      <td>12.234987</td>\n",
       "      <td>7.896588</td>\n",
       "      <td>89.140326</td>\n",
       "      <td>0</td>\n",
       "      <td>22.808822</td>\n",
       "      <td>...</td>\n",
       "      <td>1</td>\n",
       "      <td>0</td>\n",
       "      <td>0</td>\n",
       "      <td>1</td>\n",
       "      <td>0</td>\n",
       "      <td>0</td>\n",
       "      <td>0</td>\n",
       "      <td>0</td>\n",
       "      <td>0</td>\n",
       "      <td>0</td>\n",
       "    </tr>\n",
       "  </tbody>\n",
       "</table>\n",
       "<p>5 rows × 43 columns</p>\n",
       "</div>"
      ],
      "text/plain": [
       "   id  breath_id  time_step       u_in  u_out   pressure      area  \\\n",
       "0   1          1   0.000000   0.083334      0   5.837492  0.000000   \n",
       "1   2          1   0.033652  18.383041      0   5.907794  0.618632   \n",
       "2   3          1   0.067514  22.509278      0   7.876254  2.138333   \n",
       "3   4          1   0.101542  22.808822      0  11.742872  4.454391   \n",
       "4   5          1   0.135756  25.355850      0  12.234987  7.896588   \n",
       "\n",
       "   u_in_cumsum  u_out_cumsum  u_in_lag1  ...  C_50  R__C_20__10  R__C_20__20  \\\n",
       "0     0.083334             0   0.000000  ...     1            0            0   \n",
       "1    18.466375             0   0.083334  ...     1            0            0   \n",
       "2    40.975653             0  18.383041  ...     1            0            0   \n",
       "3    63.784476             0  22.509278  ...     1            0            0   \n",
       "4    89.140326             0  22.808822  ...     1            0            0   \n",
       "\n",
       "   R__C_20__50  R__C_50__10  R__C_50__20  R__C_50__50  R__C_5__10  R__C_5__20  \\\n",
       "0            1            0            0            0           0           0   \n",
       "1            1            0            0            0           0           0   \n",
       "2            1            0            0            0           0           0   \n",
       "3            1            0            0            0           0           0   \n",
       "4            1            0            0            0           0           0   \n",
       "\n",
       "   R__C_5__50  \n",
       "0           0  \n",
       "1           0  \n",
       "2           0  \n",
       "3           0  \n",
       "4           0  \n",
       "\n",
       "[5 rows x 43 columns]"
      ]
     },
     "execution_count": 23,
     "metadata": {},
     "output_type": "execute_result"
    }
   ],
   "source": [
    "def add_features(df):\n",
    "    df['area'] = df['time_step'] * df['u_in']\n",
    "    df['area'] = df.groupby('breath_id')['area'].cumsum()\n",
    "    \n",
    "    df['u_in_cumsum'] = (df['u_in']).groupby(df['breath_id']).cumsum()\n",
    "    df['u_out_cumsum'] = (df['u_out']).groupby(df['breath_id']).cumsum()\n",
    "    \n",
    "    df['u_in_lag1'] = df.groupby('breath_id')['u_in'].shift(1)\n",
    "    df['u_out_lag1'] = df.groupby('breath_id')['u_out'].shift(1)\n",
    "    df['u_in_lag_back1'] = df.groupby('breath_id')['u_in'].shift(-1)\n",
    "    df['u_out_lag_back1'] = df.groupby('breath_id')['u_out'].shift(-1)\n",
    "    df['u_in_lag2'] = df.groupby('breath_id')['u_in'].shift(2)\n",
    "    df['u_out_lag2'] = df.groupby('breath_id')['u_out'].shift(2)\n",
    "    df['u_in_lag_back2'] = df.groupby('breath_id')['u_in'].shift(-2)\n",
    "    df['u_out_lag_back2'] = df.groupby('breath_id')['u_out'].shift(-2)\n",
    "\n",
    "    df = df.fillna(0)\n",
    "    \n",
    "    df['breath_id__u_in__max'] = df.groupby(['breath_id'])['u_in'].transform('max')\n",
    "    df['breath_id__u_out__max'] = df.groupby(['breath_id'])['u_out'].transform('max')\n",
    "    \n",
    "    df['u_in_diff1'] = df['u_in'] - df['u_in_lag1']\n",
    "    df['u_out_diff1'] = df['u_out'] - df['u_out_lag1']\n",
    "    df['u_in_diff2'] = df['u_in'] - df['u_in_lag2']\n",
    "    df['u_out_diff2'] = df['u_out'] - df['u_out_lag2']\n",
    "    \n",
    "    df['breath_id__u_in__diffmax'] = df.groupby(['breath_id'])['u_in'].transform('max') - df['u_in']\n",
    "    df['breath_id__u_in__diffmean'] = df.groupby(['breath_id'])['u_in'].transform('mean') - df['u_in']\n",
    "    \n",
    "    df['breath_id__u_in__diffmax'] = df.groupby(['breath_id'])['u_in'].transform('max') - df['u_in']\n",
    "    df['breath_id__u_in__diffmean'] = df.groupby(['breath_id'])['u_in'].transform('mean') - df['u_in']\n",
    "    \n",
    "    df['u_out_u_in'] = df['u_out'] - df['u_in']\n",
    "    df['cross']= df['u_in']*df['u_out']\n",
    "    df['cross2']= df['time_step']*df['u_out']\n",
    "    \n",
    "    df['R'] = df['R'].astype(str)\n",
    "    df['C'] = df['C'].astype(str)\n",
    "    df['R__C'] = df[\"R\"].astype(str) + '__' + df[\"C\"].astype(str)\n",
    "    df = pd.get_dummies(df)\n",
    "    return df\n",
    "\n",
    "train = add_features(train)\n",
    "test = add_features(test)\n",
    "\n",
    "print('Train dataframe shape',train.shape)\n",
    "train.head()"
   ]
  },
  {
   "cell_type": "code",
   "execution_count": 24,
   "id": "c2e57a62",
   "metadata": {
    "executionInfo": {
     "elapsed": 785,
     "status": "ok",
     "timestamp": 1634297597884,
     "user": {
      "displayName": "Sergey Krivenko",
      "photoUrl": "https://lh3.googleusercontent.com/a/default-user=s64",
      "userId": "07407861305259343531"
     },
     "user_tz": -180
    },
    "id": "c2e57a62"
   },
   "outputs": [],
   "source": [
    "aa = train[['pressure']].to_numpy().reshape(-1, 80)"
   ]
  },
  {
   "cell_type": "code",
   "execution_count": 25,
   "id": "a7c66415",
   "metadata": {
    "colab": {
     "base_uri": "https://localhost:8080/"
    },
    "executionInfo": {
     "elapsed": 10,
     "status": "ok",
     "timestamp": 1634297597886,
     "user": {
      "displayName": "Sergey Krivenko",
      "photoUrl": "https://lh3.googleusercontent.com/a/default-user=s64",
      "userId": "07407861305259343531"
     },
     "user_tz": -180
    },
    "id": "a7c66415",
    "outputId": "bfba6a5e-b86b-4421-dae0-0ae86341a1fe"
   },
   "outputs": [
    {
     "data": {
      "text/plain": [
       "(1000, 80)"
      ]
     },
     "execution_count": 25,
     "metadata": {},
     "output_type": "execute_result"
    }
   ],
   "source": [
    "aa.shape"
   ]
  },
  {
   "cell_type": "code",
   "execution_count": 26,
   "id": "6fc1a21b",
   "metadata": {
    "colab": {
     "base_uri": "https://localhost:8080/"
    },
    "executionInfo": {
     "elapsed": 12173,
     "status": "ok",
     "timestamp": 1634297610054,
     "user": {
      "displayName": "Sergey Krivenko",
      "photoUrl": "https://lh3.googleusercontent.com/a/default-user=s64",
      "userId": "07407861305259343531"
     },
     "user_tz": -180
    },
    "id": "6fc1a21b",
    "outputId": "e05fb39d-785e-40e6-dcea-f381e9b4bbb0"
   },
   "outputs": [
    {
     "name": "stdout",
     "output_type": "stream",
     "text": [
      "Number of feature columns = 40\n"
     ]
    }
   ],
   "source": [
    "targets = train[['pressure']].to_numpy().reshape(-1, 80)\n",
    "train.drop(['pressure', 'id', 'breath_id'], axis=1, inplace=True)\n",
    "test = test.drop(['id', 'breath_id'], axis=1)\n",
    "\n",
    "COLS = list(train.columns)\n",
    "print('Number of feature columns =', len(COLS) )\n",
    "\n",
    "RS = RobustScaler()\n",
    "train = RS.fit_transform(train)\n",
    "test = RS.transform(test)\n",
    "\n",
    "train = train.reshape(-1, 80, train.shape[-1])\n",
    "test = test.reshape(-1, 80, train.shape[-1])"
   ]
  },
  {
   "cell_type": "code",
   "execution_count": 27,
   "id": "cb9976a6",
   "metadata": {
    "colab": {
     "base_uri": "https://localhost:8080/"
    },
    "executionInfo": {
     "elapsed": 21,
     "status": "ok",
     "timestamp": 1634297610059,
     "user": {
      "displayName": "Sergey Krivenko",
      "photoUrl": "https://lh3.googleusercontent.com/a/default-user=s64",
      "userId": "07407861305259343531"
     },
     "user_tz": -180
    },
    "id": "cb9976a6",
    "outputId": "32008b2b-efbf-4f8a-9325-bd1701fee47b"
   },
   "outputs": [
    {
     "data": {
      "text/plain": [
       "(1000, 80, 40)"
      ]
     },
     "execution_count": 27,
     "metadata": {},
     "output_type": "execute_result"
    }
   ],
   "source": [
    "train.shape"
   ]
  },
  {
   "cell_type": "code",
   "execution_count": 28,
   "id": "3e5fe137",
   "metadata": {},
   "outputs": [],
   "source": [
    "aa = train[0]"
   ]
  },
  {
   "cell_type": "code",
   "execution_count": 29,
   "id": "795e98f2",
   "metadata": {},
   "outputs": [
    {
     "data": {
      "text/plain": [
       "(1000, 80)"
      ]
     },
     "execution_count": 29,
     "metadata": {},
     "output_type": "execute_result"
    }
   ],
   "source": [
    "targets.shape"
   ]
  },
  {
   "cell_type": "code",
   "execution_count": 30,
   "id": "18c4ff5b",
   "metadata": {
    "colab": {
     "base_uri": "https://localhost:8080/"
    },
    "id": "18c4ff5b",
    "outputId": "7601a98c-8ce6-4d22-cfa7-03b095a17364"
   },
   "outputs": [
    {
     "name": "stdout",
     "output_type": "stream",
     "text": [
      "--------------- > Fold 1 < ---------------\n",
      "8/8 [==============================] - 132s 15s/step - loss: 6.4208 - val_loss: 4.2825\n",
      "\n",
      "Epoch 00001: val_loss improved from inf to 4.28249, saving model to e:\\Krivenko\\Kaggle\\2021\\New20211005\\folds0.hdf5\n",
      " Predicting test data...\n",
      " Computing LSTM feature importance...\n"
     ]
    },
    {
     "data": {
      "application/vnd.jupyter.widget-view+json": {
       "model_id": "5824d1480df34aed829271d5b4886fe2",
       "version_major": 2,
       "version_minor": 0
      },
      "text/plain": [
       "  0%|          | 0/40 [00:00<?, ?it/s]"
      ]
     },
     "metadata": {},
     "output_type": "display_data"
    },
    {
     "name": "stdout",
     "output_type": "stream",
     "text": [
      "\n"
     ]
    },
    {
     "data": {
      "image/png": "[encoded data removed]",
      "text/plain": [
       "<Figure size 720x1440 with 1 Axes>"
      ]
     },
     "metadata": {
      "needs_background": "light"
     },
     "output_type": "display_data"
    }
   ],
   "source": [
    "EPOCH = 1\n",
    "BATCH_SIZE = 128\n",
    "NUM_FOLDS = 10\n",
    "\n",
    "# detect and init the TPU\n",
    "#tpu = tf.distribute.cluster_resolver.TPUClusterResolver.connect()\n",
    "\n",
    "# instantiate a distribution strategy\n",
    "#tpu_strategy = tf.distribute.experimental.TPUStrategy(tpu)\n",
    "\n",
    "# GET GPU STRATEGY\n",
    "gpu_strategy = tf.distribute.get_strategy()\n",
    "\n",
    "with gpu_strategy.scope():\n",
    "    kf = KFold(n_splits=NUM_FOLDS, shuffle=True, random_state=2021)\n",
    "    test_preds = []\n",
    "    oof_preds = []\n",
    "    for fold, (train_idx, test_idx) in enumerate(kf.split(train, targets)):\n",
    "        K.clear_session()\n",
    "        \n",
    "        print('-'*15, '>', f'Fold {fold+1}', '<', '-'*15)\n",
    "        X_train, X_valid = train[train_idx], train[test_idx]\n",
    "        y_train, y_valid = targets[train_idx], targets[test_idx]\n",
    "        \n",
    "        checkpoint_filepath = path_to_data + f\"folds{fold}.hdf5\"\n",
    "        if TRAIN_MODEL:\n",
    "            model = keras.models.Sequential([\n",
    "                keras.layers.Input(shape=train.shape[-2:]),\n",
    "                keras.layers.Bidirectional(keras.layers.LSTM(1024, return_sequences=True)),\n",
    "                keras.layers.Bidirectional(keras.layers.LSTM(512, return_sequences=True)),\n",
    "                keras.layers.Bidirectional(keras.layers.LSTM(256, return_sequences=True)),\n",
    "                keras.layers.Bidirectional(keras.layers.LSTM(128, return_sequences=True)),\n",
    "                keras.layers.Dense(128, activation='selu'),\n",
    "                keras.layers.Dense(1),\n",
    "            ])\n",
    "            model.compile(optimizer=\"adam\", loss=\"mae\")\n",
    "\n",
    "            lr = ReduceLROnPlateau(monitor=\"val_loss\", factor=0.5, patience=10, verbose=1)\n",
    "            es = EarlyStopping(monitor=\"val_loss\", patience=60, verbose=1, mode=\"min\", restore_best_weights=True)\n",
    "            sv = keras.callbacks.ModelCheckpoint(\n",
    "                checkpoint_filepath, monitor='val_loss', verbose=1, save_best_only=True,\n",
    "                save_weights_only=False, mode='auto', save_freq='epoch',\n",
    "                options=None\n",
    "            )\n",
    "            model.fit(X_train, y_train, validation_data=(X_valid, y_valid), epochs=EPOCH, batch_size=BATCH_SIZE, callbacks=[lr, es, sv])\n",
    "            \n",
    "        else:            \n",
    "            model = keras.models.load_model(checkpoint_filepath)\n",
    "        \n",
    "        if MODEL_SUMMARY:\n",
    "            model.summary()\n",
    "            plot_model(model, to_file='Google_Brain_Keras_Model.png', show_shapes=True, show_layer_names=True)\n",
    "    \n",
    "        if OOF:\n",
    "            oof = model.predict(X_valid, verbose=0).squeeze() \n",
    "            baseline_mae = np.mean(np.abs( oof-y_valid ))\n",
    "            oof_preds.append(baseline_mae)\n",
    "            print('OOF MAE = {0}'.format(baseline_mae))\n",
    "            \n",
    "        if INFER_TEST:\n",
    "            print(' Predicting test data...')\n",
    "            test_preds.append(model.predict(test,verbose=0).squeeze().reshape(-1, 1).squeeze())\n",
    "                    \n",
    "        if COMPUTE_LSTM_IMPORTANCE:\n",
    "            results = []\n",
    "            print(' Computing LSTM feature importance...')\n",
    "            \n",
    "            # COMPUTE BASELINE (NO SHUFFLE)\n",
    "            oof_preds = model.predict(X_valid, verbose=0).squeeze() \n",
    "            baseline_mae = np.mean(np.abs( oof_preds-y_valid ))\n",
    "            results.append({'feature':'BASELINE','mae':baseline_mae})           \n",
    "\n",
    "            for k in tqdm(range(len(COLS))):\n",
    "                \n",
    "                # SHUFFLE FEATURE K\n",
    "                save_col = X_valid[:,:,k].copy()\n",
    "                np.random.shuffle(X_valid[:,:,k])\n",
    "                        \n",
    "                # COMPUTE OOF MAE WITH FEATURE K SHUFFLED\n",
    "                oof_preds = model.predict(X_valid, verbose=0).squeeze() \n",
    "                mae = np.mean(np.abs( oof_preds-y_valid ))\n",
    "                results.append({'feature':COLS[k],'mae':mae})\n",
    "                X_valid[:,:,k] = save_col\n",
    "         \n",
    "            # DISPLAY LSTM FEATURE IMPORTANCE\n",
    "            print()\n",
    "            df = pd.DataFrame(results)\n",
    "            df = df.sort_values('mae')\n",
    "            plt.figure(figsize=(10,20))\n",
    "            plt.barh(np.arange(len(COLS)+1),df.mae)\n",
    "            plt.yticks(np.arange(len(COLS)+1),df.feature.values)\n",
    "            plt.title('LSTM Feature Importance',size=16)\n",
    "            plt.ylim((-1,len(COLS)+1))\n",
    "            plt.plot([baseline_mae,baseline_mae],[-1,len(COLS)+1], '--', color='orange',\n",
    "                     label=f'Baseline OOF\\nMAE={baseline_mae:.3f}')\n",
    "            plt.xlabel(f'Fold {fold+1} OOF MAE with feature permuted',size=14)\n",
    "            plt.ylabel('Feature',size=14)\n",
    "            plt.legend()\n",
    "            plt.show()\n",
    "                               \n",
    "            # SAVE LSTM FEATURE IMPORTANCE\n",
    "            df = df.sort_values('mae',ascending=False)\n",
    "            df.to_csv(f'lstm_feature_importance_fold_{fold+1}.csv',index=False)\n",
    "                               \n",
    "        # ONLY DO ONE FOLD\n",
    "        if ONE_FOLD_ONLY: break"
   ]
  },
  {
   "cell_type": "code",
   "execution_count": 15,
   "id": "67b6751e",
   "metadata": {
    "id": "67b6751e"
   },
   "outputs": [
    {
     "name": "stdout",
     "output_type": "stream",
     "text": [
      "__submission_fold_1.csv head\n"
     ]
    },
    {
     "data": {
      "text/html": [
       "<div>\n",
       "<style scoped>\n",
       "    .dataframe tbody tr th:only-of-type {\n",
       "        vertical-align: middle;\n",
       "    }\n",
       "\n",
       "    .dataframe tbody tr th {\n",
       "        vertical-align: top;\n",
       "    }\n",
       "\n",
       "    .dataframe thead th {\n",
       "        text-align: right;\n",
       "    }\n",
       "</style>\n",
       "<table border=\"1\" class=\"dataframe\">\n",
       "  <thead>\n",
       "    <tr style=\"text-align: right;\">\n",
       "      <th></th>\n",
       "      <th>id</th>\n",
       "      <th>pressure</th>\n",
       "    </tr>\n",
       "  </thead>\n",
       "  <tbody>\n",
       "    <tr>\n",
       "      <th>0</th>\n",
       "      <td>1</td>\n",
       "      <td>6.329606</td>\n",
       "    </tr>\n",
       "    <tr>\n",
       "      <th>1</th>\n",
       "      <td>2</td>\n",
       "      <td>5.978096</td>\n",
       "    </tr>\n",
       "    <tr>\n",
       "      <th>2</th>\n",
       "      <td>3</td>\n",
       "      <td>7.173232</td>\n",
       "    </tr>\n",
       "    <tr>\n",
       "      <th>3</th>\n",
       "      <td>4</td>\n",
       "      <td>7.595045</td>\n",
       "    </tr>\n",
       "    <tr>\n",
       "      <th>4</th>\n",
       "      <td>5</td>\n",
       "      <td>9.141692</td>\n",
       "    </tr>\n",
       "  </tbody>\n",
       "</table>\n",
       "</div>"
      ],
      "text/plain": [
       "   id  pressure\n",
       "0   1  6.329606\n",
       "1   2  5.978096\n",
       "2   3  7.173232\n",
       "3   4  7.595045\n",
       "4   5  9.141692"
      ]
     },
     "metadata": {},
     "output_type": "display_data"
    }
   ],
   "source": [
    "if INFER_TEST:\n",
    "    PRESSURE_MIN = pressure_values[0]\n",
    "    PRESSURE_MAX = pressure_values[-1]\n",
    "    PRESSURE_STEP = pressure_values[1] - pressure_values[0]\n",
    "\n",
    "    # NAME POSTFIX\n",
    "    postfix = ''\n",
    "    if ONE_FOLD_ONLY: \n",
    "        NUM_FOLDS = 1\n",
    "        postfix = '_fold_1'\n",
    "        \n",
    "    # ENSEMBLE FOLDS WITH MEAN\n",
    "    submission[\"pressure\"] = sum(test_preds)/NUM_FOLDS\n",
    "    submission.to_csv(path_to_data + f'submission_mean{postfix}.csv', index=False)\n",
    "\n",
    "    # ENSEMBLE FOLDS WITH MEDIAN\n",
    "    submission[\"pressure\"] = np.median(np.vstack(test_preds),axis=0)\n",
    "    submission.to_csv(path_to_data + f'submission_median{postfix}.csv', index=False)\n",
    "\n",
    "    # ENSEMBLE FOLDS WITH MEDIAN AND ROUND PREDICTIONS\n",
    "    submission[\"pressure\"] =\\\n",
    "        np.round( (submission.pressure - PRESSURE_MIN)/PRESSURE_STEP ) * PRESSURE_STEP + PRESSURE_MIN\n",
    "    submission.pressure = np.clip(submission.pressure, PRESSURE_MIN, PRESSURE_MAX)\n",
    "    submission.to_csv(path_to_data + f'submission_median_round{postfix}.csv', index=False)\n",
    "    \n",
    "    # DISPLAY SUBMISSION.CSV\n",
    "    print(f'__submission{postfix}.csv head')\n",
    "    display( submission.head() )"
   ]
  },
  {
   "cell_type": "code",
   "execution_count": null,
   "id": "fcc411f6-2073-4c8c-aad4-a70ced71a5b2",
   "metadata": {},
   "outputs": [],
   "source": []
  }
 ],
 "metadata": {
  "accelerator": "GPU",
  "colab": {
   "collapsed_sections": [],
   "name": "LSTM Feature Importance.ipynb",
   "provenance": [
    {
     "file_id": "1O5G4lWXlohO6lxA-ylRg6hVyuubJ9B2W",
     "timestamp": 1634297134021
    }
   ]
  },
  "kernelspec": {
   "display_name": "Python 3 (ipykernel)",
   "language": "python",
   "name": "python3"
  },
  "language_info": {
   "codemirror_mode": {
    "name": "ipython",
    "version": 3
   },
   "file_extension": ".py",
   "mimetype": "text/x-python",
   "name": "python",
   "nbconvert_exporter": "python",
   "pygments_lexer": "ipython3",
   "version": "3.7.6"
  }
 },
 "nbformat": 4,
 "nbformat_minor": 5
}
