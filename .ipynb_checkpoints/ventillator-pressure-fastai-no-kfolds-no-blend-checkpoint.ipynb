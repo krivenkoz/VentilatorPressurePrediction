{
 "cells": [
  {
   "cell_type": "markdown",
   "id": "6612ff10",
   "metadata": {
    "papermill": {
     "duration": 0.017953,
     "end_time": "2021-10-21T20:05:09.955108",
     "exception": false,
     "start_time": "2021-10-21T20:05:09.937155",
     "status": "completed"
    },
    "tags": []
   },
   "source": [
    "### Introduction\n",
    "\n",
    "In this notebook, I'm trying to integrate the public notebook for Ventillator Pressure Competition written in Pytorch to Fastai. The reason is to leverage high level API of fastai to avoid repetitive pattern ( for example fititing with a scheduler learning rate, adding some callback  like ReduceLROnPlateau )\n"
   ]
  },
  {
   "cell_type": "code",
   "execution_count": 1,
   "id": "e7826e8e",
   "metadata": {
    "execution": {
     "iopub.execute_input": "2021-10-21T20:05:10.067388Z",
     "iopub.status.busy": "2021-10-21T20:05:10.066649Z",
     "iopub.status.idle": "2021-10-21T20:05:19.602642Z",
     "shell.execute_reply": "2021-10-21T20:05:19.602049Z",
     "shell.execute_reply.started": "2021-10-21T19:56:12.515680Z"
    },
    "papermill": {
     "duration": 9.630546,
     "end_time": "2021-10-21T20:05:19.602788",
     "exception": false,
     "start_time": "2021-10-21T20:05:09.972242",
     "status": "completed"
    },
    "tags": []
   },
   "outputs": [],
   "source": [
    "!pip install -Uqq fastai"
   ]
  },
  {
   "cell_type": "code",
   "execution_count": 1,
   "id": "26c8804f",
   "metadata": {
    "_cell_guid": "b1076dfc-b9ad-4769-8c92-a6c4dae69d19",
    "_uuid": "8f2839f25d086af736a60e9eeb907d3b93b6e0e5",
    "papermill": {
     "duration": 5.443733,
     "end_time": "2021-10-21T20:05:25.063090",
     "exception": false,
     "start_time": "2021-10-21T20:05:19.619357",
     "status": "completed"
    },
    "tags": []
   },
   "outputs": [],
   "source": [
    "import numpy as np # linear algebra\n",
    "import pandas as pd # data processing, CSV file I/O (e.g. pd.read_csv)\n",
    "from torch.utils.data import Dataset\n",
    "import torch\n",
    "from torch.utils.data import DataLoader\n",
    "import torch.nn as nn\n",
    "from fastai.data.core import DataLoaders\n",
    "from fastai.learner import Learner\n",
    "from fastai.callback.progress import ProgressCallback\n",
    "from fastai.optimizer import OptimWrapper\n",
    "from torch import optim\n",
    "from fastai.losses import MSELossFlat, L1LossFlat\n",
    "from fastai.callback.schedule import Learner\n",
    "from fastai.callback.tracker import EarlyStoppingCallback, ReduceLROnPlateau\n",
    "from fastai.data.transforms import IndexSplitter\n",
    "from sklearn.preprocessing import RobustScaler, normalize\n",
    "from sklearn.model_selection import KFold\n",
    "# Input data files are available in the read-only \"../input/\" directory\n",
    "# For example, running this (by clicking run or pressing Shift+Enter) will list all files under the input directory\n",
    "import random\n",
    "\n",
    "import os\n",
    "\n",
    "\n",
    "# You can write up to 20GB to the current directory (/kaggle/working/) that gets preserved as output when you create a version using \"Save & Run All\" \n",
    "# You can also write temporary files to /kaggle/temp/, but they won't be saved outside of the current session"
   ]
  },
  {
   "cell_type": "code",
   "execution_count": 2,
   "id": "c964147e",
   "metadata": {
    "papermill": {
     "duration": 12.109703,
     "end_time": "2021-10-21T20:05:37.190277",
     "exception": false,
     "start_time": "2021-10-21T20:05:25.080574",
     "status": "completed"
    },
    "tags": []
   },
   "outputs": [],
   "source": [
    "path_to_data = 'e:\\\\Krivenko\\\\Kaggle\\\\2021\\\\New20211005\\\\'\n",
    "train_name = 'train.csv'\n",
    "test_name = 'test.csv'\n",
    "train = pd.read_csv(path_to_data + train_name)\n",
    "test = pd.read_csv(path_to_data + test_name)\n",
    "\n",
    "pressure_values = np.sort( train.pressure.unique() )\n",
    "submission = pd.read_csv(path_to_data + 'sample_submission.csv')\n",
    "\n",
    "DEBUG = True\n",
    "if DEBUG:\n",
    "    train = train[:80*1000]\n",
    "    test = test[:80*1000]"
   ]
  },
  {
   "cell_type": "code",
   "execution_count": 4,
   "id": "a4cb6f83",
   "metadata": {
    "execution": {
     "iopub.execute_input": "2021-10-21T20:05:37.230517Z",
     "iopub.status.busy": "2021-10-21T20:05:37.229732Z",
     "iopub.status.idle": "2021-10-21T20:05:37.231702Z",
     "shell.execute_reply": "2021-10-21T20:05:37.232104Z",
     "shell.execute_reply.started": "2021-10-21T19:56:38.297906Z"
    },
    "papermill": {
     "duration": 0.024362,
     "end_time": "2021-10-21T20:05:37.232232",
     "exception": false,
     "start_time": "2021-10-21T20:05:37.207870",
     "status": "completed"
    },
    "tags": []
   },
   "outputs": [],
   "source": [
    "# max_size = 100"
   ]
  },
  {
   "cell_type": "code",
   "execution_count": 5,
   "id": "7b8fa461",
   "metadata": {
    "execution": {
     "iopub.execute_input": "2021-10-21T20:05:37.270964Z",
     "iopub.status.busy": "2021-10-21T20:05:37.269512Z",
     "iopub.status.idle": "2021-10-21T20:05:37.271595Z",
     "shell.execute_reply": "2021-10-21T20:05:37.271990Z",
     "shell.execute_reply.started": "2021-10-21T19:56:38.307424Z"
    },
    "papermill": {
     "duration": 0.022136,
     "end_time": "2021-10-21T20:05:37.272129",
     "exception": false,
     "start_time": "2021-10-21T20:05:37.249993",
     "status": "completed"
    },
    "tags": []
   },
   "outputs": [],
   "source": [
    "# df = df[df.breath_id < max_size]"
   ]
  },
  {
   "cell_type": "code",
   "execution_count": 3,
   "id": "89ea29c4",
   "metadata": {
    "papermill": {
     "duration": 32.546296,
     "end_time": "2021-10-21T20:06:09.834820",
     "exception": false,
     "start_time": "2021-10-21T20:05:37.288524",
     "status": "completed"
    },
    "tags": []
   },
   "outputs": [],
   "source": [
    "def add_features(df):\n",
    "    df['area'] = df['time_step'] * df['u_in']\n",
    "    df['area'] = df.groupby('breath_id')['area'].cumsum()\n",
    "    df['cross']= df['u_in']*df['u_out']\n",
    "    df['cross2']= df['time_step']*df['u_out']\n",
    "    \n",
    "    df['u_in_cumsum'] = (df['u_in']).groupby(df['breath_id']).cumsum()\n",
    "    df['one'] = 1\n",
    "    df['count'] = (df['one']).groupby(df['breath_id']).cumsum()\n",
    "    df['u_in_cummean'] =df['u_in_cumsum'] /df['count']\n",
    "    df['breath_id_lag']=df['breath_id'].shift(1).fillna(0)\n",
    "    df['breath_id_lag2']=df['breath_id'].shift(2).fillna(0)\n",
    "    df['breath_id_lagsame']=np.select([df['breath_id_lag']==df['breath_id']],[1],0)\n",
    "    df['breath_id_lag2same']=np.select([df['breath_id_lag2']==df['breath_id']],[1],0)\n",
    "    df['u_in_lag'] = df['u_in'].shift(1).fillna(0)\n",
    "    df['u_in_lag'] = df['u_in_lag']*df['breath_id_lagsame']\n",
    "    df['u_in_lag2'] = df['u_in'].shift(2).fillna(0)\n",
    "    df['u_in_lag2'] = df['u_in_lag2']*df['breath_id_lag2same']\n",
    "    df['u_out_lag2'] = df['u_out'].shift(2).fillna(0)\n",
    "    df['u_out_lag2'] = df['u_out_lag2']*df['breath_id_lag2same']\n",
    "    #df['u_in_lag'] = df['u_in'].shift(2).fillna(0)\n",
    "    \n",
    "    df['R'] = df['R'].astype(str)\n",
    "    df['C'] = df['C'].astype(str)\n",
    "    df['RC'] = df['R']+df['C']\n",
    "    df = pd.get_dummies(df)\n",
    "    return df\n",
    "\n",
    "\n",
    "train = add_features(train)\n",
    "test = add_features(test)"
   ]
  },
  {
   "cell_type": "code",
   "execution_count": 4,
   "id": "0c6ae8ca",
   "metadata": {
    "papermill": {
     "duration": 1.772672,
     "end_time": "2021-10-21T20:06:11.624430",
     "exception": false,
     "start_time": "2021-10-21T20:06:09.851758",
     "status": "completed"
    },
    "tags": []
   },
   "outputs": [],
   "source": [
    "targets = train[['pressure']].to_numpy().reshape(-1, 80)\n",
    "train.drop(['pressure','id', 'breath_id','one','count','breath_id_lag','breath_id_lag2','breath_id_lagsame','breath_id_lag2same','u_out_lag2'], axis=1, inplace=True)\n",
    "test = test.drop(['id', 'breath_id','one','count','breath_id_lag','breath_id_lag2','breath_id_lagsame','breath_id_lag2same','u_out_lag2'], axis=1)"
   ]
  },
  {
   "cell_type": "code",
   "execution_count": 5,
   "id": "b358bc3f",
   "metadata": {
    "papermill": {
     "duration": 4.166335,
     "end_time": "2021-10-21T20:06:15.808121",
     "exception": false,
     "start_time": "2021-10-21T20:06:11.641786",
     "status": "completed"
    },
    "tags": []
   },
   "outputs": [],
   "source": [
    "RS = RobustScaler()\n",
    "train = RS.fit_transform(train)\n",
    "test = RS.transform(test)"
   ]
  },
  {
   "cell_type": "code",
   "execution_count": 6,
   "id": "30162074",
   "metadata": {
    "papermill": {
     "duration": 0.024003,
     "end_time": "2021-10-21T20:06:15.849870",
     "exception": false,
     "start_time": "2021-10-21T20:06:15.825867",
     "status": "completed"
    },
    "tags": []
   },
   "outputs": [],
   "source": [
    "train = train.reshape(-1, 80, train.shape[-1])\n",
    "test = test.reshape(-1, 80, train.shape[-1])"
   ]
  },
  {
   "cell_type": "code",
   "execution_count": 7,
   "id": "9ffedcdf",
   "metadata": {
    "papermill": {
     "duration": 0.025707,
     "end_time": "2021-10-21T20:06:15.892127",
     "exception": false,
     "start_time": "2021-10-21T20:06:15.866420",
     "status": "completed"
    },
    "tags": []
   },
   "outputs": [],
   "source": [
    "idx = list(range(len(train)))"
   ]
  },
  {
   "cell_type": "code",
   "execution_count": 8,
   "id": "b2bf04ec",
   "metadata": {
    "papermill": {
     "duration": 0.021936,
     "end_time": "2021-10-21T20:06:15.930551",
     "exception": false,
     "start_time": "2021-10-21T20:06:15.908615",
     "status": "completed"
    },
    "tags": []
   },
   "outputs": [],
   "source": [
    "# train_input, valid_input = train[:3000], train[3000:4000]\n",
    "# train_targets, valid_targets = targets[:3000], targets[3000:4000]"
   ]
  },
  {
   "cell_type": "code",
   "execution_count": 9,
   "id": "d63f3e95",
   "metadata": {
    "papermill": {
     "duration": 0.026494,
     "end_time": "2021-10-21T20:06:15.973467",
     "exception": false,
     "start_time": "2021-10-21T20:06:15.946973",
     "status": "completed"
    },
    "tags": []
   },
   "outputs": [
    {
     "data": {
      "text/plain": [
       "(80, 25)"
      ]
     },
     "execution_count": 9,
     "metadata": {},
     "output_type": "execute_result"
    }
   ],
   "source": [
    "train.shape[-2:]"
   ]
  },
  {
   "cell_type": "code",
   "execution_count": 10,
   "id": "cdb2f7cd",
   "metadata": {
    "papermill": {
     "duration": 0.025366,
     "end_time": "2021-10-21T20:06:16.015571",
     "exception": false,
     "start_time": "2021-10-21T20:06:15.990205",
     "status": "completed"
    },
    "tags": []
   },
   "outputs": [],
   "source": [
    "class VentilatorDataset(Dataset):\n",
    "    def __init__(self, data, target):\n",
    "        self.data = torch.from_numpy(data).float()\n",
    "        if target is not None:\n",
    "            self.targets = torch.from_numpy(target).float()\n",
    "                \n",
    "    def __len__(self):\n",
    "        return len(self.data)\n",
    "\n",
    "    def __getitem__(self, idx):\n",
    "        if hasattr(self, 'targets'): return self.data[idx], self.targets[idx]\n",
    "        else: return self.data[idx]"
   ]
  },
  {
   "cell_type": "code",
   "execution_count": 11,
   "id": "620fa5ad",
   "metadata": {
    "papermill": {
     "duration": 0.032996,
     "end_time": "2021-10-21T20:06:16.065359",
     "exception": false,
     "start_time": "2021-10-21T20:06:16.032363",
     "status": "completed"
    },
    "tags": []
   },
   "outputs": [],
   "source": [
    "class RNNModel(nn.Module):\n",
    "    def __init__(self, input_size=25):\n",
    "        hidden = [400, 300, 200, 100]\n",
    "        super().__init__()\n",
    "        self.lstm1 = nn.LSTM(input_size, hidden[0],\n",
    "                             batch_first=True, bidirectional=True)\n",
    "        self.lstm2 = nn.LSTM(2 * hidden[0], hidden[1],\n",
    "                             batch_first=True, bidirectional=True)\n",
    "        self.lstm3 = nn.LSTM(2 * hidden[1], hidden[2],\n",
    "                             batch_first=True, bidirectional=True)\n",
    "        self.lstm4 = nn.LSTM(2 * hidden[2], hidden[3],\n",
    "                             batch_first=True, bidirectional=True)\n",
    "        self.fc1 = nn.Linear(2 * hidden[3], 50)\n",
    "        self.selu = nn.SELU()\n",
    "        self.fc2 = nn.Linear(50, 1)\n",
    "        self._reinitialize()\n",
    "\n",
    "    def _reinitialize(self):\n",
    "        \"\"\"\n",
    "        Tensorflow/Keras-like initialization\n",
    "        \"\"\"\n",
    "        for name, p in self.named_parameters():\n",
    "            if 'lstm' in name:\n",
    "                if 'weight_ih' in name:\n",
    "                    nn.init.xavier_uniform_(p.data)\n",
    "                elif 'weight_hh' in name:\n",
    "                    nn.init.orthogonal_(p.data)\n",
    "                elif 'bias_ih' in name:\n",
    "                    p.data.fill_(0)\n",
    "                    # Set forget-gate bias to 1\n",
    "                    n = p.size(0)\n",
    "                    p.data[(n // 4):(n // 2)].fill_(1)\n",
    "                elif 'bias_hh' in name:\n",
    "                    p.data.fill_(0)\n",
    "            elif 'fc' in name:\n",
    "                if 'weight' in name:\n",
    "                    nn.init.xavier_uniform_(p.data)\n",
    "                elif 'bias' in name:\n",
    "                    p.data.fill_(0)\n",
    "\n",
    "    def forward(self, x):\n",
    "        x, _ = self.lstm1(x)\n",
    "        x, _ = self.lstm2(x)\n",
    "        x, _ = self.lstm3(x)\n",
    "        x, _ = self.lstm4(x)\n",
    "        x = self.fc1(x)\n",
    "        x = self.selu(x)\n",
    "        x = self.fc2(x)\n",
    "\n",
    "        return x"
   ]
  },
  {
   "cell_type": "code",
   "execution_count": 15,
   "id": "5871306c",
   "metadata": {
    "execution": {
     "iopub.execute_input": "2021-10-21T20:06:16.106934Z",
     "iopub.status.busy": "2021-10-21T20:06:16.106163Z",
     "iopub.status.idle": "2021-10-21T20:06:16.109036Z",
     "shell.execute_reply": "2021-10-21T20:06:16.108515Z",
     "shell.execute_reply.started": "2021-10-21T20:04:37.957153Z"
    },
    "papermill": {
     "duration": 0.025867,
     "end_time": "2021-10-21T20:06:16.109150",
     "exception": false,
     "start_time": "2021-10-21T20:06:16.083283",
     "status": "completed"
    },
    "tags": []
   },
   "outputs": [],
   "source": [
    "# next(model.parameters())"
   ]
  },
  {
   "cell_type": "code",
   "execution_count": 12,
   "id": "de319c2f",
   "metadata": {
    "papermill": {
     "duration": 1.189445,
     "end_time": "2021-10-21T20:06:17.317725",
     "exception": false,
     "start_time": "2021-10-21T20:06:16.128280",
     "status": "completed"
    },
    "tags": []
   },
   "outputs": [],
   "source": [
    "batch_size = 128\n",
    "test_dataset = VentilatorDataset(test, None)\n",
    "test_loader = DataLoader(test_dataset, batch_size = batch_size, shuffle=False)"
   ]
  },
  {
   "cell_type": "code",
   "execution_count": 13,
   "id": "3de19867",
   "metadata": {
    "papermill": {
     "duration": 0.022691,
     "end_time": "2021-10-21T20:06:17.357628",
     "exception": false,
     "start_time": "2021-10-21T20:06:17.334937",
     "status": "completed"
    },
    "tags": []
   },
   "outputs": [],
   "source": [
    "########################## Experimenting with one fold"
   ]
  },
  {
   "cell_type": "code",
   "execution_count": 23,
   "id": "1833ec78",
   "metadata": {
    "papermill": {
     "duration": 2.405824,
     "end_time": "2021-10-21T20:06:19.780438",
     "exception": false,
     "start_time": "2021-10-21T20:06:17.374614",
     "status": "completed"
    },
    "tags": []
   },
   "outputs": [],
   "source": [
    "train_index=list(range(int((6/7)*len(train)))) ## Change to have reasonable train/valid dataset\n",
    "valid_index=list(range(int((1/7)*len(train)), len(train)))\n",
    "\n",
    "train_input, valid_input = train[train_index], train[valid_index]\n",
    "train_targets, valid_targets = targets[train_index], targets[valid_index]\n",
    "\n",
    "train_dataset = VentilatorDataset(train_input, train_targets)\n",
    "valid_dataset = VentilatorDataset(valid_input, valid_targets)\n",
    "\n",
    "train_loader = DataLoader(train_dataset, batch_size = batch_size, shuffle=True)\n",
    "valid_loader = DataLoader(valid_dataset, batch_size = batch_size, shuffle=False)\n",
    "\n",
    "dls = DataLoaders(train_loader, valid_loader)\n",
    "model = RNNModel()\n"
   ]
  },
  {
   "cell_type": "code",
   "execution_count": 24,
   "id": "62cc1462",
   "metadata": {
    "papermill": {
     "duration": 30.61703,
     "end_time": "2021-10-21T20:06:50.414636",
     "exception": false,
     "start_time": "2021-10-21T20:06:19.797606",
     "status": "completed"
    },
    "tags": []
   },
   "outputs": [
    {
     "data": {
      "text/html": [],
      "text/plain": [
       "<IPython.core.display.HTML object>"
      ]
     },
     "metadata": {},
     "output_type": "display_data"
    },
    {
     "data": {
      "text/plain": [
       "SuggestedLRs(valley=0.0008317637839354575)"
      ]
     },
     "execution_count": 24,
     "metadata": {},
     "output_type": "execute_result"
    },
    {
     "data": {
      "image/png": "[encoded data removed]",
      "text/plain": [
       "<Figure size 432x288 with 1 Axes>"
      ]
     },
     "metadata": {
      "needs_background": "light"
     },
     "output_type": "display_data"
    }
   ],
   "source": [
    "learn = Learner(dls, model, loss_func=L1LossFlat())\n",
    "learn.lr_find()"
   ]
  },
  {
   "cell_type": "code",
   "execution_count": 29,
   "id": "d863baaa",
   "metadata": {
    "papermill": {
     "duration": 10856.499071,
     "end_time": "2021-10-21T23:07:46.932579",
     "exception": false,
     "start_time": "2021-10-21T20:06:50.433508",
     "status": "completed"
    },
    "tags": []
   },
   "outputs": [
    {
     "data": {
      "text/html": [
       "<table border=\"1\" class=\"dataframe\">\n",
       "  <thead>\n",
       "    <tr style=\"text-align: left;\">\n",
       "      <th>epoch</th>\n",
       "      <th>train_loss</th>\n",
       "      <th>valid_loss</th>\n",
       "      <th>time</th>\n",
       "    </tr>\n",
       "  </thead>\n",
       "  <tbody>\n",
       "    <tr>\n",
       "      <td>0</td>\n",
       "      <td>3.074826</td>\n",
       "      <td>2.860907</td>\n",
       "      <td>00:03</td>\n",
       "    </tr>\n",
       "  </tbody>\n",
       "</table>"
      ],
      "text/plain": [
       "<IPython.core.display.HTML object>"
      ]
     },
     "metadata": {},
     "output_type": "display_data"
    },
    {
     "name": "stdout",
     "output_type": "stream",
     "text": [
      "torch.Size([8320])\n"
     ]
    }
   ],
   "source": [
    "learn.fit_one_cycle(1, lr_max=2e-3, cbs=ReduceLROnPlateau(monitor='valid_loss', min_delta=0.5, patience=10))\n",
    "preds = []\n",
    "with torch.no_grad():\n",
    "    for data in test_loader:\n",
    "        pred = model(data.to('cuda')).squeeze(-1).flatten()\n",
    "        #aa = model(data.to('cuda')).squeeze(-1)\n",
    "        aa = pred.detach().cpu().numpy()\n",
    "        preds.extend(pred.detach().cpu().numpy())\n",
    "# preds_fold.append(preds)\n",
    "print(aa.shape)\n",
    "#df_test = pd.read_csv(path_to_data + test_name)\n",
    "#df_test = df_test[:80*1000]\n",
    "#df_test['pressure'] = preds\n",
    "#df_test[['id', 'pressure']].to_csv('submission.csv', index=False)"
   ]
  },
  {
   "cell_type": "code",
   "execution_count": 21,
   "id": "0f388a86",
   "metadata": {
    "execution": {
     "iopub.execute_input": "2021-10-21T23:07:46.990217Z",
     "iopub.status.busy": "2021-10-21T23:07:46.989380Z",
     "iopub.status.idle": "2021-10-21T23:07:46.991749Z",
     "shell.execute_reply": "2021-10-21T23:07:46.991344Z",
     "shell.execute_reply.started": "2021-10-21T19:58:58.800108Z"
    },
    "papermill": {
     "duration": 0.032829,
     "end_time": "2021-10-21T23:07:46.991871",
     "exception": false,
     "start_time": "2021-10-21T23:07:46.959042",
     "status": "completed"
    },
    "tags": []
   },
   "outputs": [],
   "source": [
    "########################################################################## Uncomment code below KFold Prediction"
   ]
  },
  {
   "cell_type": "code",
   "execution_count": 22,
   "id": "fdf54363",
   "metadata": {
    "execution": {
     "iopub.execute_input": "2021-10-21T23:07:47.047941Z",
     "iopub.status.busy": "2021-10-21T23:07:47.047240Z",
     "iopub.status.idle": "2021-10-21T23:07:47.049783Z",
     "shell.execute_reply": "2021-10-21T23:07:47.049364Z",
     "shell.execute_reply.started": "2021-10-21T19:58:58.806725Z"
    },
    "papermill": {
     "duration": 0.032326,
     "end_time": "2021-10-21T23:07:47.049891",
     "exception": false,
     "start_time": "2021-10-21T23:07:47.017565",
     "status": "completed"
    },
    "tags": []
   },
   "outputs": [],
   "source": [
    "# kf = KFold(n_splits=5, shuffle=True)\n",
    "# preds_fold = []\n",
    "        \n",
    "# for fold, (train_index, valid_index) in enumerate(kf.split(idx)):\n",
    "#     preds = []\n",
    "#     model = RNNModel().to('cuda')\n",
    "#     print(\"FOLD:\", fold)\n",
    "#     print(train_index)\n",
    "#     print(valid_index)\n",
    "\n",
    "#     train_input, valid_input = train[train_index], train[valid_index]\n",
    "#     train_targets, valid_targets = targets[train_index], targets[valid_index]\n",
    "\n",
    "#     train_dataset = VentilatorDataset(train_input, train_targets)\n",
    "#     valid_dataset = VentilatorDataset(valid_input, valid_targets)\n",
    "    \n",
    "#     train_loader = DataLoader(train_dataset, batch_size = batch_size, shuffle=True)\n",
    "#     valid_loader = DataLoader(valid_dataset, batch_size = batch_size, shuffle=False)\n",
    "    \n",
    "#     dls = DataLoaders(train_loader, valid_loader)\n",
    "#     learn = Learner(dls, model, loss_func=MSELossFlat())\n",
    "#     learn.fit_one_cycle(1, lr_max=2e-3)\n",
    "    \n",
    "#     with torch.no_grad():\n",
    "#         for data in test_loader:\n",
    "#             pred = model(data.to('cuda')).squeeze(-1).flatten()\n",
    "#             preds.extend(pred.detach().cpu().numpy())\n",
    "#     preds_fold.append(preds)"
   ]
  },
  {
   "cell_type": "code",
   "execution_count": 23,
   "id": "68ac2d3e",
   "metadata": {
    "execution": {
     "iopub.execute_input": "2021-10-21T23:07:47.104916Z",
     "iopub.status.busy": "2021-10-21T23:07:47.104185Z",
     "iopub.status.idle": "2021-10-21T23:07:47.106114Z",
     "shell.execute_reply": "2021-10-21T23:07:47.106521Z",
     "shell.execute_reply.started": "2021-10-21T19:58:58.815710Z"
    },
    "papermill": {
     "duration": 0.031009,
     "end_time": "2021-10-21T23:07:47.106650",
     "exception": false,
     "start_time": "2021-10-21T23:07:47.075641",
     "status": "completed"
    },
    "tags": []
   },
   "outputs": [],
   "source": [
    "# preds_fold = np.array(preds_fold)\n",
    "# df_test['pressure'] = np.median(preds_fold, axis=0)\n",
    "# df_test[['id', 'pressure']].to_csv('submission.csv', index=False)"
   ]
  }
 ],
 "metadata": {
  "kernelspec": {
   "display_name": "Python 3 (ipykernel)",
   "language": "python",
   "name": "python3"
  },
  "language_info": {
   "codemirror_mode": {
    "name": "ipython",
    "version": 3
   },
   "file_extension": ".py",
   "mimetype": "text/x-python",
   "name": "python",
   "nbconvert_exporter": "python",
   "pygments_lexer": "ipython3",
   "version": "3.7.6"
  },
  "papermill": {
   "default_parameters": {},
   "duration": 10967.286772,
   "end_time": "2021-10-21T23:07:50.755812",
   "environment_variables": {},
   "exception": null,
   "input_path": "__notebook__.ipynb",
   "output_path": "__notebook__.ipynb",
   "parameters": {},
   "start_time": "2021-10-21T20:05:03.469040",
   "version": "2.3.3"
  }
 },
 "nbformat": 4,
 "nbformat_minor": 5
}
