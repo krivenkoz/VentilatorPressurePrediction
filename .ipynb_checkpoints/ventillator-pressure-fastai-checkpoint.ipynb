{
 "cells": [
  {
   "cell_type": "code",
   "execution_count": 1,
   "id": "73152bd9",
   "metadata": {
    "execution": {
     "iopub.execute_input": "2021-10-19T14:52:37.460227Z",
     "iopub.status.busy": "2021-10-19T14:52:37.457871Z",
     "iopub.status.idle": "2021-10-19T14:52:48.998466Z",
     "shell.execute_reply": "2021-10-19T14:52:48.997379Z",
     "shell.execute_reply.started": "2021-10-19T14:45:46.744315Z"
    },
    "papermill": {
     "duration": 11.570007,
     "end_time": "2021-10-19T14:52:48.998635",
     "exception": false,
     "start_time": "2021-10-19T14:52:37.428628",
     "status": "completed"
    },
    "tags": []
   },
   "outputs": [
    {
     "name": "stdout",
     "output_type": "stream",
     "text": [
      "Requirement already satisfied: fastai in /opt/conda/lib/python3.7/site-packages (2.2.7)\n",
      "Collecting fastai\n",
      "  Downloading fastai-2.5.2-py3-none-any.whl (186 kB)\n",
      "\u001b[K     |████████████████████████████████| 186 kB 627 kB/s \n",
      "\u001b[?25hRequirement already satisfied: pyyaml in /opt/conda/lib/python3.7/site-packages (from fastai) (5.4.1)\n",
      "Requirement already satisfied: fastcore<1.4,>=1.3.8 in /opt/conda/lib/python3.7/site-packages (from fastai) (1.3.26)\n",
      "Requirement already satisfied: fastprogress>=0.2.4 in /opt/conda/lib/python3.7/site-packages (from fastai) (1.0.0)\n",
      "Requirement already satisfied: scikit-learn in /opt/conda/lib/python3.7/site-packages (from fastai) (0.23.2)\n",
      "Requirement already satisfied: pandas in /opt/conda/lib/python3.7/site-packages (from fastai) (1.2.5)\n",
      "Collecting fastdownload<2,>=0.0.5\n",
      "  Downloading fastdownload-0.0.5-py3-none-any.whl (13 kB)\n",
      "Requirement already satisfied: matplotlib in /opt/conda/lib/python3.7/site-packages (from fastai) (3.4.3)\n",
      "Requirement already satisfied: torch<1.10,>=1.7.0 in /opt/conda/lib/python3.7/site-packages (from fastai) (1.7.1+cu110)\n",
      "Requirement already satisfied: spacy<4 in /opt/conda/lib/python3.7/site-packages (from fastai) (2.3.7)\n",
      "Requirement already satisfied: requests in /opt/conda/lib/python3.7/site-packages (from fastai) (2.25.1)\n",
      "Requirement already satisfied: pillow>6.0.0 in /opt/conda/lib/python3.7/site-packages (from fastai) (8.2.0)\n",
      "Requirement already satisfied: pip in /opt/conda/lib/python3.7/site-packages (from fastai) (21.2.4)\n",
      "Requirement already satisfied: packaging in /opt/conda/lib/python3.7/site-packages (from fastai) (21.0)\n",
      "Requirement already satisfied: scipy in /opt/conda/lib/python3.7/site-packages (from fastai) (1.7.1)\n",
      "Requirement already satisfied: torchvision>=0.8.2 in /opt/conda/lib/python3.7/site-packages (from fastai) (0.8.2+cu110)\n",
      "Requirement already satisfied: numpy in /opt/conda/lib/python3.7/site-packages (from fastprogress>=0.2.4->fastai) (1.19.5)\n",
      "Requirement already satisfied: plac<1.2.0,>=0.9.6 in /opt/conda/lib/python3.7/site-packages (from spacy<4->fastai) (1.1.3)\n",
      "Requirement already satisfied: setuptools in /opt/conda/lib/python3.7/site-packages (from spacy<4->fastai) (57.4.0)\n",
      "Requirement already satisfied: srsly<1.1.0,>=1.0.2 in /opt/conda/lib/python3.7/site-packages (from spacy<4->fastai) (1.0.5)\n",
      "Requirement already satisfied: wasabi<1.1.0,>=0.4.0 in /opt/conda/lib/python3.7/site-packages (from spacy<4->fastai) (0.8.2)\n",
      "Requirement already satisfied: thinc<7.5.0,>=7.4.1 in /opt/conda/lib/python3.7/site-packages (from spacy<4->fastai) (7.4.5)\n",
      "Requirement already satisfied: cymem<2.1.0,>=2.0.2 in /opt/conda/lib/python3.7/site-packages (from spacy<4->fastai) (2.0.5)\n",
      "Requirement already satisfied: blis<0.8.0,>=0.4.0 in /opt/conda/lib/python3.7/site-packages (from spacy<4->fastai) (0.7.4)\n",
      "Requirement already satisfied: preshed<3.1.0,>=3.0.2 in /opt/conda/lib/python3.7/site-packages (from spacy<4->fastai) (3.0.5)\n",
      "Requirement already satisfied: catalogue<1.1.0,>=0.0.7 in /opt/conda/lib/python3.7/site-packages (from spacy<4->fastai) (1.0.0)\n",
      "Requirement already satisfied: murmurhash<1.1.0,>=0.28.0 in /opt/conda/lib/python3.7/site-packages (from spacy<4->fastai) (1.0.5)\n",
      "Requirement already satisfied: tqdm<5.0.0,>=4.38.0 in /opt/conda/lib/python3.7/site-packages (from spacy<4->fastai) (4.62.1)\n",
      "Requirement already satisfied: importlib-metadata>=0.20 in /opt/conda/lib/python3.7/site-packages (from catalogue<1.1.0,>=0.0.7->spacy<4->fastai) (3.4.0)\n",
      "Requirement already satisfied: typing-extensions>=3.6.4 in /opt/conda/lib/python3.7/site-packages (from importlib-metadata>=0.20->catalogue<1.1.0,>=0.0.7->spacy<4->fastai) (3.7.4.3)\n",
      "Requirement already satisfied: zipp>=0.5 in /opt/conda/lib/python3.7/site-packages (from importlib-metadata>=0.20->catalogue<1.1.0,>=0.0.7->spacy<4->fastai) (3.5.0)\n",
      "Requirement already satisfied: urllib3<1.27,>=1.21.1 in /opt/conda/lib/python3.7/site-packages (from requests->fastai) (1.26.6)\n",
      "Requirement already satisfied: idna<3,>=2.5 in /opt/conda/lib/python3.7/site-packages (from requests->fastai) (2.10)\n",
      "Requirement already satisfied: chardet<5,>=3.0.2 in /opt/conda/lib/python3.7/site-packages (from requests->fastai) (4.0.0)\n",
      "Requirement already satisfied: certifi>=2017.4.17 in /opt/conda/lib/python3.7/site-packages (from requests->fastai) (2021.5.30)\n",
      "Requirement already satisfied: python-dateutil>=2.7 in /opt/conda/lib/python3.7/site-packages (from matplotlib->fastai) (2.8.0)\n",
      "Requirement already satisfied: cycler>=0.10 in /opt/conda/lib/python3.7/site-packages (from matplotlib->fastai) (0.10.0)\n",
      "Requirement already satisfied: kiwisolver>=1.0.1 in /opt/conda/lib/python3.7/site-packages (from matplotlib->fastai) (1.3.1)\n",
      "Requirement already satisfied: pyparsing>=2.2.1 in /opt/conda/lib/python3.7/site-packages (from matplotlib->fastai) (2.4.7)\n",
      "Requirement already satisfied: six in /opt/conda/lib/python3.7/site-packages (from cycler>=0.10->matplotlib->fastai) (1.15.0)\n",
      "Requirement already satisfied: pytz>=2017.3 in /opt/conda/lib/python3.7/site-packages (from pandas->fastai) (2021.1)\n",
      "Requirement already satisfied: joblib>=0.11 in /opt/conda/lib/python3.7/site-packages (from scikit-learn->fastai) (1.0.1)\n",
      "Requirement already satisfied: threadpoolctl>=2.0.0 in /opt/conda/lib/python3.7/site-packages (from scikit-learn->fastai) (2.2.0)\n",
      "Installing collected packages: fastdownload, fastai\n",
      "  Attempting uninstall: fastai\n",
      "    Found existing installation: fastai 2.2.7\n",
      "    Uninstalling fastai-2.2.7:\n",
      "      Successfully uninstalled fastai-2.2.7\n",
      "Successfully installed fastai-2.5.2 fastdownload-0.0.5\n",
      "\u001b[33mWARNING: Running pip as the 'root' user can result in broken permissions and conflicting behaviour with the system package manager. It is recommended to use a virtual environment instead: https://pip.pypa.io/warnings/venv\u001b[0m\n"
     ]
    }
   ],
   "source": [
    "!pip install --upgrade fastai"
   ]
  },
  {
   "cell_type": "code",
   "execution_count": 1,
   "id": "8d66a2fe",
   "metadata": {
    "_cell_guid": "b1076dfc-b9ad-4769-8c92-a6c4dae69d19",
    "_uuid": "8f2839f25d086af736a60e9eeb907d3b93b6e0e5",
    "papermill": {
     "duration": 5.685989,
     "end_time": "2021-10-19T14:52:54.713492",
     "exception": false,
     "start_time": "2021-10-19T14:52:49.027503",
     "status": "completed"
    },
    "tags": []
   },
   "outputs": [],
   "source": [
    "# This Python 3 environment comes with many helpful analytics libraries installed\n",
    "# It is defined by the kaggle/python Docker image: https://github.com/kaggle/docker-python\n",
    "# For example, here's several helpful packages to load\n",
    "\n",
    "import numpy as np # linear algebra\n",
    "import pandas as pd # data processing, CSV file I/O (e.g. pd.read_csv)\n",
    "from torch.utils.data import Dataset\n",
    "import torch\n",
    "from torch.utils.data import DataLoader\n",
    "import torch.nn as nn\n",
    "from fastai.data.core import DataLoaders\n",
    "from fastai.learner import Learner\n",
    "from fastai.callback.progress import ProgressCallback\n",
    "# from fastai.callback.data import CudaCallback\n",
    "from fastai.optimizer import OptimWrapper\n",
    "from torch import optim\n",
    "from fastai.losses import MSELossFlat\n",
    "from fastai.callback.schedule import Learner\n",
    "from fastai.callback.tracker import EarlyStoppingCallback\n",
    "from fastai.data.transforms import IndexSplitter\n",
    "from sklearn.preprocessing import RobustScaler, normalize\n",
    "from sklearn.model_selection import KFold\n",
    "\n",
    "from torchviz import make_dot\n",
    "# Input data files are available in the read-only \"../input/\" directory\n",
    "# For example, running this (by clicking run or pressing Shift+Enter) will list all files under the input directory\n",
    "import random\n",
    "\n",
    "import os\n",
    "#for dirname, _, filenames in os.walk('/kaggle/input'):\n",
    "#    for filename in filenames:\n",
    "#        print(os.path.join(dirname, filename))\n",
    "\n",
    "# You can write up to 20GB to the current directory (/kaggle/working/) that gets preserved as output when you create a version using \"Save & Run All\" \n",
    "# You can also write temporary files to /kaggle/temp/, but they won't be saved outside of the current session"
   ]
  },
  {
   "cell_type": "code",
   "execution_count": 2,
   "id": "c582cf81-aa6c-4d99-a0f6-7e05963d1af4",
   "metadata": {},
   "outputs": [],
   "source": [
    "gd_flag = False"
   ]
  },
  {
   "cell_type": "code",
   "execution_count": 3,
   "id": "726e5410",
   "metadata": {
    "papermill": {
     "duration": 13.248852,
     "end_time": "2021-10-19T14:53:07.991224",
     "exception": false,
     "start_time": "2021-10-19T14:52:54.742372",
     "status": "completed"
    },
    "tags": []
   },
   "outputs": [],
   "source": [
    "\n",
    "if gd_flag:\n",
    "    path_to_data = '/content/drive/My Drive/GBrain_Ventilator/'    \n",
    "else:  \n",
    "    path_to_data = 'e:\\\\Krivenko\\\\Kaggle\\\\2021\\\\New20211005\\\\'"
   ]
  },
  {
   "cell_type": "code",
   "execution_count": 4,
   "id": "cf379929-0ca8-4452-9f5c-1dfac1332cfe",
   "metadata": {},
   "outputs": [],
   "source": [
    "DEBUG = True\n",
    "TRAIN_MODEL = False\n",
    "INFER_TEST = True\n",
    "ONE_FOLD_ONLY = True\n",
    "COMPUTE_LSTM_IMPORTANCE = False\n",
    "MODEL_SUMMARY = True\n",
    "OOF = True"
   ]
  },
  {
   "cell_type": "code",
   "execution_count": 5,
   "id": "4f322de2-c470-41e5-a124-8ca7108f684b",
   "metadata": {},
   "outputs": [],
   "source": [
    "train_name = 'train.csv'\n",
    "test_name = 'test.csv'\n",
    "train = pd.read_csv(path_to_data + train_name)\n",
    "test = pd.read_csv(path_to_data + test_name)\n",
    "\n",
    "pressure_values = np.sort( train.pressure.unique() )\n",
    "submission = pd.read_csv(path_to_data + 'sample_submission.csv')\n",
    "\n",
    "if DEBUG:\n",
    "    df = train[:80*1000]\n",
    "    df_test = test[:80*1000]\n",
    "else:\n",
    "    df = train\n",
    "    df_test = test"
   ]
  },
  {
   "cell_type": "code",
   "execution_count": null,
   "id": "2ac01272",
   "metadata": {
    "papermill": {
     "duration": 0.050898,
     "end_time": "2021-10-19T14:53:08.072802",
     "exception": false,
     "start_time": "2021-10-19T14:53:08.021904",
     "status": "completed"
    },
    "tags": []
   },
   "outputs": [],
   "source": []
  },
  {
   "cell_type": "code",
   "execution_count": 6,
   "id": "c13faffa",
   "metadata": {
    "papermill": {
     "duration": 0.038102,
     "end_time": "2021-10-19T14:53:08.142740",
     "exception": false,
     "start_time": "2021-10-19T14:53:08.104638",
     "status": "completed"
    },
    "tags": []
   },
   "outputs": [],
   "source": [
    "# df = df[df.breath_id < max_size]"
   ]
  },
  {
   "cell_type": "code",
   "execution_count": 7,
   "id": "72d1c1e9",
   "metadata": {
    "papermill": {
     "duration": 36.825173,
     "end_time": "2021-10-19T14:53:44.998045",
     "exception": false,
     "start_time": "2021-10-19T14:53:08.172872",
     "status": "completed"
    },
    "tags": []
   },
   "outputs": [
    {
     "name": "stderr",
     "output_type": "stream",
     "text": [
      "C:\\Pythons\\p376\\lib\\site-packages\\ipykernel_launcher.py:2: SettingWithCopyWarning: \n",
      "A value is trying to be set on a copy of a slice from a DataFrame.\n",
      "Try using .loc[row_indexer,col_indexer] = value instead\n",
      "\n",
      "See the caveats in the documentation: https://pandas.pydata.org/pandas-docs/stable/user_guide/indexing.html#returning-a-view-versus-a-copy\n",
      "  \n",
      "C:\\Pythons\\p376\\lib\\site-packages\\ipykernel_launcher.py:3: SettingWithCopyWarning: \n",
      "A value is trying to be set on a copy of a slice from a DataFrame.\n",
      "Try using .loc[row_indexer,col_indexer] = value instead\n",
      "\n",
      "See the caveats in the documentation: https://pandas.pydata.org/pandas-docs/stable/user_guide/indexing.html#returning-a-view-versus-a-copy\n",
      "  This is separate from the ipykernel package so we can avoid doing imports until\n",
      "C:\\Pythons\\p376\\lib\\site-packages\\ipykernel_launcher.py:4: SettingWithCopyWarning: \n",
      "A value is trying to be set on a copy of a slice from a DataFrame.\n",
      "Try using .loc[row_indexer,col_indexer] = value instead\n",
      "\n",
      "See the caveats in the documentation: https://pandas.pydata.org/pandas-docs/stable/user_guide/indexing.html#returning-a-view-versus-a-copy\n",
      "  after removing the cwd from sys.path.\n",
      "C:\\Pythons\\p376\\lib\\site-packages\\ipykernel_launcher.py:5: SettingWithCopyWarning: \n",
      "A value is trying to be set on a copy of a slice from a DataFrame.\n",
      "Try using .loc[row_indexer,col_indexer] = value instead\n",
      "\n",
      "See the caveats in the documentation: https://pandas.pydata.org/pandas-docs/stable/user_guide/indexing.html#returning-a-view-versus-a-copy\n",
      "  \"\"\"\n",
      "C:\\Pythons\\p376\\lib\\site-packages\\ipykernel_launcher.py:8: SettingWithCopyWarning: \n",
      "A value is trying to be set on a copy of a slice from a DataFrame.\n",
      "Try using .loc[row_indexer,col_indexer] = value instead\n",
      "\n",
      "See the caveats in the documentation: https://pandas.pydata.org/pandas-docs/stable/user_guide/indexing.html#returning-a-view-versus-a-copy\n",
      "  \n",
      "C:\\Pythons\\p376\\lib\\site-packages\\ipykernel_launcher.py:9: SettingWithCopyWarning: \n",
      "A value is trying to be set on a copy of a slice from a DataFrame.\n",
      "Try using .loc[row_indexer,col_indexer] = value instead\n",
      "\n",
      "See the caveats in the documentation: https://pandas.pydata.org/pandas-docs/stable/user_guide/indexing.html#returning-a-view-versus-a-copy\n",
      "  if __name__ == '__main__':\n",
      "C:\\Pythons\\p376\\lib\\site-packages\\ipykernel_launcher.py:10: SettingWithCopyWarning: \n",
      "A value is trying to be set on a copy of a slice from a DataFrame.\n",
      "Try using .loc[row_indexer,col_indexer] = value instead\n",
      "\n",
      "See the caveats in the documentation: https://pandas.pydata.org/pandas-docs/stable/user_guide/indexing.html#returning-a-view-versus-a-copy\n",
      "  # Remove the CWD from sys.path while we load stuff.\n",
      "C:\\Pythons\\p376\\lib\\site-packages\\ipykernel_launcher.py:11: SettingWithCopyWarning: \n",
      "A value is trying to be set on a copy of a slice from a DataFrame.\n",
      "Try using .loc[row_indexer,col_indexer] = value instead\n",
      "\n",
      "See the caveats in the documentation: https://pandas.pydata.org/pandas-docs/stable/user_guide/indexing.html#returning-a-view-versus-a-copy\n",
      "  # This is added back by InteractiveShellApp.init_path()\n",
      "C:\\Pythons\\p376\\lib\\site-packages\\ipykernel_launcher.py:27: SettingWithCopyWarning: \n",
      "A value is trying to be set on a copy of a slice from a DataFrame.\n",
      "Try using .loc[row_indexer,col_indexer] = value instead\n",
      "\n",
      "See the caveats in the documentation: https://pandas.pydata.org/pandas-docs/stable/user_guide/indexing.html#returning-a-view-versus-a-copy\n",
      "C:\\Pythons\\p376\\lib\\site-packages\\ipykernel_launcher.py:28: SettingWithCopyWarning: \n",
      "A value is trying to be set on a copy of a slice from a DataFrame.\n",
      "Try using .loc[row_indexer,col_indexer] = value instead\n",
      "\n",
      "See the caveats in the documentation: https://pandas.pydata.org/pandas-docs/stable/user_guide/indexing.html#returning-a-view-versus-a-copy\n",
      "C:\\Pythons\\p376\\lib\\site-packages\\ipykernel_launcher.py:29: SettingWithCopyWarning: \n",
      "A value is trying to be set on a copy of a slice from a DataFrame.\n",
      "Try using .loc[row_indexer,col_indexer] = value instead\n",
      "\n",
      "See the caveats in the documentation: https://pandas.pydata.org/pandas-docs/stable/user_guide/indexing.html#returning-a-view-versus-a-copy\n",
      "C:\\Pythons\\p376\\lib\\site-packages\\ipykernel_launcher.py:30: SettingWithCopyWarning: \n",
      "A value is trying to be set on a copy of a slice from a DataFrame.\n",
      "Try using .loc[row_indexer,col_indexer] = value instead\n",
      "\n",
      "See the caveats in the documentation: https://pandas.pydata.org/pandas-docs/stable/user_guide/indexing.html#returning-a-view-versus-a-copy\n",
      "C:\\Pythons\\p376\\lib\\site-packages\\ipykernel_launcher.py:31: SettingWithCopyWarning: \n",
      "A value is trying to be set on a copy of a slice from a DataFrame.\n",
      "Try using .loc[row_indexer,col_indexer] = value instead\n",
      "\n",
      "See the caveats in the documentation: https://pandas.pydata.org/pandas-docs/stable/user_guide/indexing.html#returning-a-view-versus-a-copy\n",
      "C:\\Pythons\\p376\\lib\\site-packages\\ipykernel_launcher.py:32: SettingWithCopyWarning: \n",
      "A value is trying to be set on a copy of a slice from a DataFrame.\n",
      "Try using .loc[row_indexer,col_indexer] = value instead\n",
      "\n",
      "See the caveats in the documentation: https://pandas.pydata.org/pandas-docs/stable/user_guide/indexing.html#returning-a-view-versus-a-copy\n",
      "C:\\Pythons\\p376\\lib\\site-packages\\ipykernel_launcher.py:33: SettingWithCopyWarning: \n",
      "A value is trying to be set on a copy of a slice from a DataFrame.\n",
      "Try using .loc[row_indexer,col_indexer] = value instead\n",
      "\n",
      "See the caveats in the documentation: https://pandas.pydata.org/pandas-docs/stable/user_guide/indexing.html#returning-a-view-versus-a-copy\n",
      "C:\\Pythons\\p376\\lib\\site-packages\\ipykernel_launcher.py:34: SettingWithCopyWarning: \n",
      "A value is trying to be set on a copy of a slice from a DataFrame.\n",
      "Try using .loc[row_indexer,col_indexer] = value instead\n",
      "\n",
      "See the caveats in the documentation: https://pandas.pydata.org/pandas-docs/stable/user_guide/indexing.html#returning-a-view-versus-a-copy\n",
      "C:\\Pythons\\p376\\lib\\site-packages\\ipykernel_launcher.py:35: SettingWithCopyWarning: \n",
      "A value is trying to be set on a copy of a slice from a DataFrame.\n",
      "Try using .loc[row_indexer,col_indexer] = value instead\n",
      "\n",
      "See the caveats in the documentation: https://pandas.pydata.org/pandas-docs/stable/user_guide/indexing.html#returning-a-view-versus-a-copy\n",
      "C:\\Pythons\\p376\\lib\\site-packages\\ipykernel_launcher.py:36: SettingWithCopyWarning: \n",
      "A value is trying to be set on a copy of a slice from a DataFrame.\n",
      "Try using .loc[row_indexer,col_indexer] = value instead\n",
      "\n",
      "See the caveats in the documentation: https://pandas.pydata.org/pandas-docs/stable/user_guide/indexing.html#returning-a-view-versus-a-copy\n",
      "C:\\Pythons\\p376\\lib\\site-packages\\ipykernel_launcher.py:39: SettingWithCopyWarning: \n",
      "A value is trying to be set on a copy of a slice from a DataFrame.\n",
      "Try using .loc[row_indexer,col_indexer] = value instead\n",
      "\n",
      "See the caveats in the documentation: https://pandas.pydata.org/pandas-docs/stable/user_guide/indexing.html#returning-a-view-versus-a-copy\n",
      "C:\\Pythons\\p376\\lib\\site-packages\\ipykernel_launcher.py:40: SettingWithCopyWarning: \n",
      "A value is trying to be set on a copy of a slice from a DataFrame.\n",
      "Try using .loc[row_indexer,col_indexer] = value instead\n",
      "\n",
      "See the caveats in the documentation: https://pandas.pydata.org/pandas-docs/stable/user_guide/indexing.html#returning-a-view-versus-a-copy\n",
      "C:\\Pythons\\p376\\lib\\site-packages\\ipykernel_launcher.py:41: SettingWithCopyWarning: \n",
      "A value is trying to be set on a copy of a slice from a DataFrame.\n",
      "Try using .loc[row_indexer,col_indexer] = value instead\n",
      "\n",
      "See the caveats in the documentation: https://pandas.pydata.org/pandas-docs/stable/user_guide/indexing.html#returning-a-view-versus-a-copy\n"
     ]
    }
   ],
   "source": [
    "def add_features(df):\n",
    "    df['area'] = df['time_step'] * df['u_in']\n",
    "    df['area'] = df.groupby('breath_id')['area'].cumsum()\n",
    "    df['cross']= df['u_in']*df['u_out']\n",
    "    df['cross2']= df['time_step']*df['u_out']\n",
    "    \n",
    "    \n",
    "    df['u_in_cumsum'] = (df['u_in']).groupby(df['breath_id']).cumsum()\n",
    "    df['one'] = 1\n",
    "    df['count'] = (df['one']).groupby(df['breath_id']).cumsum()\n",
    "    df['u_in_cummean'] =df['u_in_cumsum'] /df['count']\n",
    "    \n",
    "    #df['u_in_lag']=0\n",
    "    #df['u_in_lag2']=0\n",
    "    #for i in range(df.shape[0]):\n",
    "        #if df['breath_id'][i]==df['breath_id'][i+1]:\n",
    "        #    df['u_in_lag'][i+1]=df['u_in'][i]\n",
    "        #else:\n",
    "        #    df['u_in_lag'][i+1]=0\n",
    "        #if df['breath_id'][i]==df['breath_id'][i+2]:\n",
    "        #    df['u_in_lag'][i+2]=df['u_in'][i]\n",
    "        #else:\n",
    "        #    df['u_in_lag'][i+2]=0\n",
    "        #if i/10000==round(i/10000):\n",
    "        #    print(i)\n",
    "    \n",
    "    df['breath_id_lag']=df['breath_id'].shift(1).fillna(0)\n",
    "    df['breath_id_lag2']=df['breath_id'].shift(2).fillna(0)\n",
    "    df['breath_id_lagsame']=np.select([df['breath_id_lag']==df['breath_id']],[1],0)\n",
    "    df['breath_id_lag2same']=np.select([df['breath_id_lag2']==df['breath_id']],[1],0)\n",
    "    df['u_in_lag'] = df['u_in'].shift(1).fillna(0)\n",
    "    df['u_in_lag'] = df['u_in_lag']*df['breath_id_lagsame']\n",
    "    df['u_in_lag2'] = df['u_in'].shift(2).fillna(0)\n",
    "    df['u_in_lag2'] = df['u_in_lag2']*df['breath_id_lag2same']\n",
    "    df['u_out_lag2'] = df['u_out'].shift(2).fillna(0)\n",
    "    df['u_out_lag2'] = df['u_out_lag2']*df['breath_id_lag2same']\n",
    "    #df['u_in_lag'] = df['u_in'].shift(2).fillna(0)\n",
    "    \n",
    "    df['R'] = df['R'].astype(str)\n",
    "    df['C'] = df['C'].astype(str)\n",
    "    df['RC'] = df['R']+df['C']\n",
    "    df = pd.get_dummies(df)\n",
    "    return df\n",
    "\n",
    "train = add_features(df)\n",
    "test = add_features(df_test)"
   ]
  },
  {
   "cell_type": "code",
   "execution_count": 8,
   "id": "b34c871f",
   "metadata": {
    "papermill": {
     "duration": 2.546823,
     "end_time": "2021-10-19T14:53:47.575345",
     "exception": false,
     "start_time": "2021-10-19T14:53:45.028522",
     "status": "completed"
    },
    "tags": []
   },
   "outputs": [],
   "source": [
    "targets = train[['pressure']].to_numpy().reshape(-1, 80)\n",
    "train.drop(['pressure','id', 'breath_id','one','count','breath_id_lag','breath_id_lag2','breath_id_lagsame','breath_id_lag2same','u_out_lag2'], axis=1, inplace=True)\n",
    "test = test.drop(['id', 'breath_id','one','count','breath_id_lag','breath_id_lag2','breath_id_lagsame','breath_id_lag2same','u_out_lag2'], axis=1)"
   ]
  },
  {
   "cell_type": "code",
   "execution_count": 9,
   "id": "9fdcbd1a",
   "metadata": {
    "papermill": {
     "duration": 4.79374,
     "end_time": "2021-10-19T14:53:52.398047",
     "exception": false,
     "start_time": "2021-10-19T14:53:47.604307",
     "status": "completed"
    },
    "tags": []
   },
   "outputs": [],
   "source": [
    "RS = RobustScaler()\n",
    "train = RS.fit_transform(train)\n",
    "test = RS.transform(test)"
   ]
  },
  {
   "cell_type": "code",
   "execution_count": 10,
   "id": "b44ff043",
   "metadata": {
    "papermill": {
     "duration": 0.037148,
     "end_time": "2021-10-19T14:53:52.463178",
     "exception": false,
     "start_time": "2021-10-19T14:53:52.426030",
     "status": "completed"
    },
    "tags": []
   },
   "outputs": [],
   "source": [
    "train = train.reshape(-1, 80, train.shape[-1])\n",
    "test = test.reshape(-1, 80, train.shape[-1])"
   ]
  },
  {
   "cell_type": "code",
   "execution_count": 11,
   "id": "f0bdf5ac",
   "metadata": {
    "papermill": {
     "duration": 0.037957,
     "end_time": "2021-10-19T14:53:52.529557",
     "exception": false,
     "start_time": "2021-10-19T14:53:52.491600",
     "status": "completed"
    },
    "tags": []
   },
   "outputs": [],
   "source": [
    "idx = list(range(len(train)))"
   ]
  },
  {
   "cell_type": "code",
   "execution_count": 12,
   "id": "a08413cc",
   "metadata": {
    "papermill": {
     "duration": 0.034914,
     "end_time": "2021-10-19T14:53:52.591809",
     "exception": false,
     "start_time": "2021-10-19T14:53:52.556895",
     "status": "completed"
    },
    "tags": []
   },
   "outputs": [],
   "source": [
    "# train_input, valid_input = train[:3000], train[3000:4000]\n",
    "# train_targets, valid_targets = targets[:3000], targets[3000:4000]"
   ]
  },
  {
   "cell_type": "code",
   "execution_count": 13,
   "id": "3d2655b9",
   "metadata": {
    "papermill": {
     "duration": 0.041466,
     "end_time": "2021-10-19T14:53:52.659989",
     "exception": false,
     "start_time": "2021-10-19T14:53:52.618523",
     "status": "completed"
    },
    "tags": []
   },
   "outputs": [
    {
     "data": {
      "text/plain": [
       "(80, 25)"
      ]
     },
     "execution_count": 13,
     "metadata": {},
     "output_type": "execute_result"
    }
   ],
   "source": [
    "train.shape[-2:]"
   ]
  },
  {
   "cell_type": "code",
   "execution_count": 14,
   "id": "81ecdb72",
   "metadata": {
    "papermill": {
     "duration": 0.042071,
     "end_time": "2021-10-19T14:53:52.731094",
     "exception": false,
     "start_time": "2021-10-19T14:53:52.689023",
     "status": "completed"
    },
    "tags": []
   },
   "outputs": [],
   "source": [
    "class VentilatorDataset(Dataset):\n",
    "    def __init__(self, data, target):\n",
    "        self.data = torch.from_numpy(data).float().to('cuda')\n",
    "        if target is not None:\n",
    "            self.targets = torch.from_numpy(target).float().to('cuda')\n",
    "                \n",
    "    def __len__(self):\n",
    "        return len(self.data)\n",
    "\n",
    "    def __getitem__(self, idx):\n",
    "        if hasattr(self, 'targets'): return self.data[idx], self.targets[idx]\n",
    "        else: return self.data[idx]"
   ]
  },
  {
   "cell_type": "code",
   "execution_count": 15,
   "id": "3ffd16e2",
   "metadata": {
    "papermill": {
     "duration": 0.043713,
     "end_time": "2021-10-19T14:53:52.804106",
     "exception": false,
     "start_time": "2021-10-19T14:53:52.760393",
     "status": "completed"
    },
    "tags": []
   },
   "outputs": [],
   "source": [
    "class RNNModel(nn.Module):\n",
    "    def __init__(\n",
    "        self,\n",
    "        input_dim=25,\n",
    "        hidden_dim=512,\n",
    "    ):\n",
    "        super().__init__()\n",
    "        self.hidden_dim = hidden_dim\n",
    "        self.seq_emb = nn.Sequential(\n",
    "            nn.Linear(25, self.hidden_dim//2),\n",
    "            nn.SELU(),\n",
    "            nn.Dropout(0,1),\n",
    "            nn.Linear(self.hidden_dim//2, self.hidden_dim),\n",
    "            nn.SELU(),\n",
    "            nn.Dropout(0.1)\n",
    "        )\n",
    "        \n",
    "        self.lstm1 = nn.LSTM(self.hidden_dim,self.hidden_dim//2, batch_first=True, bidirectional=True)\n",
    "        self.lstm2 = nn.LSTM(self.hidden_dim//2 * 2, self.hidden_dim//4, batch_first=True, bidirectional=True)\n",
    "        self.lstm3 = nn.LSTM(self.hidden_dim//4 * 2, self.hidden_dim//8, batch_first=True, bidirectional=True)\n",
    "#         self.lstm4 = nn.LSTM(150, 50, batch_first=True, bidirectional=True, dropout=0.1)\n",
    "        \n",
    "        self.head = nn.Sequential(\n",
    "            nn.Linear(self.hidden_dim//8 * 2, self.hidden_dim//8 * 2),\n",
    "            nn.SELU(),\n",
    "            nn.Dropout(0.1),\n",
    "            nn.Linear(self.hidden_dim//8 * 2, 1))\n",
    "\n",
    "    def forward(self, x):\n",
    "        x = self.seq_emb(x)\n",
    "        x = self.lstm3(self.lstm2(self.lstm1(x)[0])[0])[0]\n",
    "        pred = self.head(x)\n",
    "        return pred"
   ]
  },
  {
   "cell_type": "code",
   "execution_count": 19,
   "id": "5948ac2d",
   "metadata": {
    "papermill": {
     "duration": 0.039166,
     "end_time": "2021-10-19T14:53:52.872684",
     "exception": false,
     "start_time": "2021-10-19T14:53:52.833518",
     "status": "completed"
    },
    "tags": []
   },
   "outputs": [
    {
     "data": {
      "text/plain": [
       "Parameter containing:\n",
       "tensor([[ 0.1213, -0.0595,  0.0796,  ...,  0.1720, -0.0431,  0.1933],\n",
       "        [-0.0173,  0.0642,  0.1780,  ..., -0.1224, -0.1829,  0.0717],\n",
       "        [-0.0444, -0.0131, -0.0335,  ...,  0.1418,  0.1140, -0.1803],\n",
       "        ...,\n",
       "        [ 0.0280,  0.1952,  0.1531,  ...,  0.0059,  0.1166, -0.1041],\n",
       "        [-0.1314, -0.0456,  0.0951,  ..., -0.0558,  0.0153,  0.1026],\n",
       "        [ 0.0269,  0.0703,  0.1073,  ...,  0.0048, -0.0274, -0.1306]],\n",
       "       device='cuda:0', requires_grad=True)"
      ]
     },
     "execution_count": 19,
     "metadata": {},
     "output_type": "execute_result"
    }
   ],
   "source": [
    "#next(model.parameters())"
   ]
  },
  {
   "cell_type": "code",
   "execution_count": null,
   "id": "c56c34ca-03b4-4c9d-b39d-bf843ba7e03b",
   "metadata": {},
   "outputs": [],
   "source": [
    "# make_dot(model).render(\"RNN\", format=\"png\")"
   ]
  },
  {
   "cell_type": "code",
   "execution_count": 17,
   "id": "f17e7892",
   "metadata": {
    "papermill": {
     "duration": 7.63997,
     "end_time": "2021-10-19T14:54:00.543076",
     "exception": false,
     "start_time": "2021-10-19T14:53:52.903106",
     "status": "completed"
    },
    "tags": []
   },
   "outputs": [],
   "source": [
    "batch_size = 256\n",
    "submission = pd.read_csv(path_to_data + 'sample_submission.csv')\n",
    "test_dataset = VentilatorDataset(test, None)\n",
    "test_loader = DataLoader(test_dataset, batch_size = batch_size, shuffle=False)"
   ]
  },
  {
   "cell_type": "code",
   "execution_count": null,
   "id": "db82483c",
   "metadata": {
    "papermill": {
     "duration": 25093.809519,
     "end_time": "2021-10-19T21:52:14.380095",
     "exception": false,
     "start_time": "2021-10-19T14:54:00.570576",
     "status": "completed"
    },
    "tags": []
   },
   "outputs": [
    {
     "ename": "AttributeError",
     "evalue": "'RNNModel' object has no attribute 'size'",
     "output_type": "error",
     "traceback": [
      "\u001b[1;31m---------------------------------------------------------------------------\u001b[0m",
      "\u001b[1;31mAttributeError\u001b[0m                            Traceback (most recent call last)",
      "\u001b[1;32mC:\\Users\\SERGEY~1\\AppData\\Local\\Temp/ipykernel_8896/2893359084.py\u001b[0m in \u001b[0;36m<module>\u001b[1;34m\u001b[0m\n\u001b[0;32m      5\u001b[0m     \u001b[0mpreds\u001b[0m \u001b[1;33m=\u001b[0m \u001b[1;33m[\u001b[0m\u001b[1;33m]\u001b[0m\u001b[1;33m\u001b[0m\u001b[1;33m\u001b[0m\u001b[0m\n\u001b[0;32m      6\u001b[0m     \u001b[0mmodel\u001b[0m \u001b[1;33m=\u001b[0m \u001b[0mRNNModel\u001b[0m\u001b[1;33m(\u001b[0m\u001b[1;33m)\u001b[0m\u001b[1;33m.\u001b[0m\u001b[0mto\u001b[0m\u001b[1;33m(\u001b[0m\u001b[1;34m'cuda'\u001b[0m\u001b[1;33m)\u001b[0m\u001b[1;33m\u001b[0m\u001b[1;33m\u001b[0m\u001b[0m\n\u001b[1;32m----> 7\u001b[1;33m     \u001b[0mmake_dot\u001b[0m\u001b[1;33m(\u001b[0m\u001b[0mmodel\u001b[0m\u001b[1;33m)\u001b[0m\u001b[1;33m.\u001b[0m\u001b[0mrender\u001b[0m\u001b[1;33m(\u001b[0m\u001b[1;34m\"RNN\"\u001b[0m\u001b[1;33m,\u001b[0m \u001b[0mformat\u001b[0m\u001b[1;33m=\u001b[0m\u001b[1;34m\"png\"\u001b[0m\u001b[1;33m)\u001b[0m\u001b[1;33m\u001b[0m\u001b[1;33m\u001b[0m\u001b[0m\n\u001b[0m\u001b[0;32m      8\u001b[0m     \u001b[0mprint\u001b[0m\u001b[1;33m(\u001b[0m\u001b[1;34m\"FOLD:\"\u001b[0m\u001b[1;33m,\u001b[0m \u001b[0mfold\u001b[0m\u001b[1;33m)\u001b[0m\u001b[1;33m\u001b[0m\u001b[1;33m\u001b[0m\u001b[0m\n\u001b[0;32m      9\u001b[0m     \u001b[0mprint\u001b[0m\u001b[1;33m(\u001b[0m\u001b[0mtrain_index\u001b[0m\u001b[1;33m)\u001b[0m\u001b[1;33m\u001b[0m\u001b[1;33m\u001b[0m\u001b[0m\n",
      "\u001b[1;32mC:\\Pythons\\p376\\lib\\site-packages\\torchviz\\dot.py\u001b[0m in \u001b[0;36mmake_dot\u001b[1;34m(var, params, show_attrs, show_saved, max_attr_chars)\u001b[0m\n\u001b[0;32m    161\u001b[0m             \u001b[0madd_base_tensor\u001b[0m\u001b[1;33m(\u001b[0m\u001b[0mv\u001b[0m\u001b[1;33m)\u001b[0m\u001b[1;33m\u001b[0m\u001b[1;33m\u001b[0m\u001b[0m\n\u001b[0;32m    162\u001b[0m     \u001b[1;32melse\u001b[0m\u001b[1;33m:\u001b[0m\u001b[1;33m\u001b[0m\u001b[1;33m\u001b[0m\u001b[0m\n\u001b[1;32m--> 163\u001b[1;33m         \u001b[0madd_base_tensor\u001b[0m\u001b[1;33m(\u001b[0m\u001b[0mvar\u001b[0m\u001b[1;33m)\u001b[0m\u001b[1;33m\u001b[0m\u001b[1;33m\u001b[0m\u001b[0m\n\u001b[0m\u001b[0;32m    164\u001b[0m \u001b[1;33m\u001b[0m\u001b[0m\n\u001b[0;32m    165\u001b[0m     \u001b[0mresize_graph\u001b[0m\u001b[1;33m(\u001b[0m\u001b[0mdot\u001b[0m\u001b[1;33m)\u001b[0m\u001b[1;33m\u001b[0m\u001b[1;33m\u001b[0m\u001b[0m\n",
      "\u001b[1;32mC:\\Pythons\\p376\\lib\\site-packages\\torchviz\\dot.py\u001b[0m in \u001b[0;36madd_base_tensor\u001b[1;34m(var, color)\u001b[0m\n\u001b[0;32m    147\u001b[0m             \u001b[1;32mreturn\u001b[0m\u001b[1;33m\u001b[0m\u001b[1;33m\u001b[0m\u001b[0m\n\u001b[0;32m    148\u001b[0m         \u001b[0mseen\u001b[0m\u001b[1;33m.\u001b[0m\u001b[0madd\u001b[0m\u001b[1;33m(\u001b[0m\u001b[0mvar\u001b[0m\u001b[1;33m)\u001b[0m\u001b[1;33m\u001b[0m\u001b[1;33m\u001b[0m\u001b[0m\n\u001b[1;32m--> 149\u001b[1;33m         \u001b[0mdot\u001b[0m\u001b[1;33m.\u001b[0m\u001b[0mnode\u001b[0m\u001b[1;33m(\u001b[0m\u001b[0mstr\u001b[0m\u001b[1;33m(\u001b[0m\u001b[0mid\u001b[0m\u001b[1;33m(\u001b[0m\u001b[0mvar\u001b[0m\u001b[1;33m)\u001b[0m\u001b[1;33m)\u001b[0m\u001b[1;33m,\u001b[0m \u001b[0mget_var_name\u001b[0m\u001b[1;33m(\u001b[0m\u001b[0mvar\u001b[0m\u001b[1;33m)\u001b[0m\u001b[1;33m,\u001b[0m \u001b[0mfillcolor\u001b[0m\u001b[1;33m=\u001b[0m\u001b[0mcolor\u001b[0m\u001b[1;33m)\u001b[0m\u001b[1;33m\u001b[0m\u001b[1;33m\u001b[0m\u001b[0m\n\u001b[0m\u001b[0;32m    150\u001b[0m         \u001b[1;32mif\u001b[0m \u001b[1;33m(\u001b[0m\u001b[0mvar\u001b[0m\u001b[1;33m.\u001b[0m\u001b[0mgrad_fn\u001b[0m\u001b[1;33m)\u001b[0m\u001b[1;33m:\u001b[0m\u001b[1;33m\u001b[0m\u001b[1;33m\u001b[0m\u001b[0m\n\u001b[0;32m    151\u001b[0m             \u001b[0madd_nodes\u001b[0m\u001b[1;33m(\u001b[0m\u001b[0mvar\u001b[0m\u001b[1;33m.\u001b[0m\u001b[0mgrad_fn\u001b[0m\u001b[1;33m)\u001b[0m\u001b[1;33m\u001b[0m\u001b[1;33m\u001b[0m\u001b[0m\n",
      "\u001b[1;32mC:\\Pythons\\p376\\lib\\site-packages\\torchviz\\dot.py\u001b[0m in \u001b[0;36mget_var_name\u001b[1;34m(var, name)\u001b[0m\n\u001b[0;32m     92\u001b[0m         \u001b[1;32mif\u001b[0m \u001b[1;32mnot\u001b[0m \u001b[0mname\u001b[0m\u001b[1;33m:\u001b[0m\u001b[1;33m\u001b[0m\u001b[1;33m\u001b[0m\u001b[0m\n\u001b[0;32m     93\u001b[0m             \u001b[0mname\u001b[0m \u001b[1;33m=\u001b[0m \u001b[0mparam_map\u001b[0m\u001b[1;33m[\u001b[0m\u001b[0mid\u001b[0m\u001b[1;33m(\u001b[0m\u001b[0mvar\u001b[0m\u001b[1;33m)\u001b[0m\u001b[1;33m]\u001b[0m \u001b[1;32mif\u001b[0m \u001b[0mid\u001b[0m\u001b[1;33m(\u001b[0m\u001b[0mvar\u001b[0m\u001b[1;33m)\u001b[0m \u001b[1;32min\u001b[0m \u001b[0mparam_map\u001b[0m \u001b[1;32melse\u001b[0m \u001b[1;34m''\u001b[0m\u001b[1;33m\u001b[0m\u001b[1;33m\u001b[0m\u001b[0m\n\u001b[1;32m---> 94\u001b[1;33m         \u001b[1;32mreturn\u001b[0m \u001b[1;34m'%s\\n %s'\u001b[0m \u001b[1;33m%\u001b[0m \u001b[1;33m(\u001b[0m\u001b[0mname\u001b[0m\u001b[1;33m,\u001b[0m \u001b[0msize_to_str\u001b[0m\u001b[1;33m(\u001b[0m\u001b[0mvar\u001b[0m\u001b[1;33m.\u001b[0m\u001b[0msize\u001b[0m\u001b[1;33m(\u001b[0m\u001b[1;33m)\u001b[0m\u001b[1;33m)\u001b[0m\u001b[1;33m)\u001b[0m\u001b[1;33m\u001b[0m\u001b[1;33m\u001b[0m\u001b[0m\n\u001b[0m\u001b[0;32m     95\u001b[0m \u001b[1;33m\u001b[0m\u001b[0m\n\u001b[0;32m     96\u001b[0m     \u001b[1;32mdef\u001b[0m \u001b[0madd_nodes\u001b[0m\u001b[1;33m(\u001b[0m\u001b[0mfn\u001b[0m\u001b[1;33m)\u001b[0m\u001b[1;33m:\u001b[0m\u001b[1;33m\u001b[0m\u001b[1;33m\u001b[0m\u001b[0m\n",
      "\u001b[1;32mC:\\Pythons\\p376\\lib\\site-packages\\torch\\nn\\modules\\module.py\u001b[0m in \u001b[0;36m__getattr__\u001b[1;34m(self, name)\u001b[0m\n\u001b[0;32m   1129\u001b[0m                 \u001b[1;32mreturn\u001b[0m \u001b[0mmodules\u001b[0m\u001b[1;33m[\u001b[0m\u001b[0mname\u001b[0m\u001b[1;33m]\u001b[0m\u001b[1;33m\u001b[0m\u001b[1;33m\u001b[0m\u001b[0m\n\u001b[0;32m   1130\u001b[0m         raise AttributeError(\"'{}' object has no attribute '{}'\".format(\n\u001b[1;32m-> 1131\u001b[1;33m             type(self).__name__, name))\n\u001b[0m\u001b[0;32m   1132\u001b[0m \u001b[1;33m\u001b[0m\u001b[0m\n\u001b[0;32m   1133\u001b[0m     \u001b[1;32mdef\u001b[0m \u001b[0m__setattr__\u001b[0m\u001b[1;33m(\u001b[0m\u001b[0mself\u001b[0m\u001b[1;33m,\u001b[0m \u001b[0mname\u001b[0m\u001b[1;33m:\u001b[0m \u001b[0mstr\u001b[0m\u001b[1;33m,\u001b[0m \u001b[0mvalue\u001b[0m\u001b[1;33m:\u001b[0m \u001b[0mUnion\u001b[0m\u001b[1;33m[\u001b[0m\u001b[0mTensor\u001b[0m\u001b[1;33m,\u001b[0m \u001b[1;34m'Module'\u001b[0m\u001b[1;33m]\u001b[0m\u001b[1;33m)\u001b[0m \u001b[1;33m->\u001b[0m \u001b[1;32mNone\u001b[0m\u001b[1;33m:\u001b[0m\u001b[1;33m\u001b[0m\u001b[1;33m\u001b[0m\u001b[0m\n",
      "\u001b[1;31mAttributeError\u001b[0m: 'RNNModel' object has no attribute 'size'"
     ]
    }
   ],
   "source": [
    "kf = KFold(n_splits=5, shuffle=True)\n",
    "preds_fold = []\n",
    "        \n",
    "for fold, (train_index, valid_index) in enumerate(kf.split(idx)):\n",
    "    preds = []\n",
    "    model = RNNModel().to('cuda')    \n",
    "    print(\"FOLD:\", fold)\n",
    "    print(train_index)\n",
    "    print(valid_index)\n",
    "\n",
    "    train_input, valid_input = train[train_index], train[valid_index]\n",
    "    train_targets, valid_targets = targets[train_index], targets[valid_index]\n",
    "\n",
    "    train_dataset = VentilatorDataset(train_input, train_targets)\n",
    "    valid_dataset = VentilatorDataset(valid_input, valid_targets)\n",
    "    \n",
    "    train_loader = DataLoader(train_dataset, batch_size = batch_size, shuffle=True)\n",
    "    valid_loader = DataLoader(valid_dataset, batch_size = batch_size, shuffle=False)\n",
    "    \n",
    "    dls = DataLoaders(train_loader, valid_loader)\n",
    "    learn = Learner(dls, model, loss_func=MSELossFlat())\n",
    "    learn.fit_one_cycle(260, lr_max=3e-3)\n",
    "#     learn.fit_one_cycle(3, lr_max=3e-3)\n",
    "    \n",
    "    with torch.no_grad():\n",
    "        for data in test_loader:\n",
    "            pred = model(data.to('cuda')).squeeze(-1).flatten()\n",
    "            preds.extend(pred.detach().cpu().numpy())\n",
    "    preds_fold.append(preds)"
   ]
  },
  {
   "cell_type": "code",
   "execution_count": 18,
   "id": "c97ddd72",
   "metadata": {
    "execution": {
     "iopub.execute_input": "2021-10-19T21:52:19.221682Z",
     "iopub.status.busy": "2021-10-19T21:52:19.220446Z",
     "iopub.status.idle": "2021-10-19T21:52:19.223943Z",
     "shell.execute_reply": "2021-10-19T21:52:19.223069Z",
     "shell.execute_reply.started": "2021-10-19T14:48:55.360414Z"
    },
    "papermill": {
     "duration": 4.804599,
     "end_time": "2021-10-19T21:52:19.224114",
     "exception": false,
     "start_time": "2021-10-19T21:52:14.419515",
     "status": "completed"
    },
    "tags": []
   },
   "outputs": [],
   "source": [
    "preds_fold = np.array(preds_fold)"
   ]
  },
  {
   "cell_type": "code",
   "execution_count": 19,
   "id": "cd7965ee",
   "metadata": {
    "execution": {
     "iopub.execute_input": "2021-10-19T21:52:19.312438Z",
     "iopub.status.busy": "2021-10-19T21:52:19.311693Z",
     "iopub.status.idle": "2021-10-19T21:52:19.314725Z",
     "shell.execute_reply": "2021-10-19T21:52:19.315325Z",
     "shell.execute_reply.started": "2021-10-19T14:48:55.362963Z"
    },
    "papermill": {
     "duration": 0.04965,
     "end_time": "2021-10-19T21:52:19.315447",
     "exception": false,
     "start_time": "2021-10-19T21:52:19.265797",
     "status": "completed"
    },
    "tags": []
   },
   "outputs": [
    {
     "data": {
      "text/plain": [
       "(5, 4024000)"
      ]
     },
     "execution_count": 19,
     "metadata": {},
     "output_type": "execute_result"
    }
   ],
   "source": [
    "preds_fold.shape"
   ]
  },
  {
   "cell_type": "code",
   "execution_count": 20,
   "id": "40b0a4a5",
   "metadata": {
    "execution": {
     "iopub.execute_input": "2021-10-19T21:52:19.402460Z",
     "iopub.status.busy": "2021-10-19T21:52:19.401203Z",
     "iopub.status.idle": "2021-10-19T21:52:19.424731Z",
     "shell.execute_reply": "2021-10-19T21:52:19.425422Z",
     "shell.execute_reply.started": "2021-10-19T14:48:55.365335Z"
    },
    "papermill": {
     "duration": 0.06905,
     "end_time": "2021-10-19T21:52:19.425645",
     "exception": false,
     "start_time": "2021-10-19T21:52:19.356595",
     "status": "completed"
    },
    "tags": []
   },
   "outputs": [
    {
     "data": {
      "text/plain": [
       "array([6.3127975, 6.025794 , 7.1715837, ..., 6.242808 , 6.2144346,\n",
       "       6.322222 ], dtype=float32)"
      ]
     },
     "execution_count": 20,
     "metadata": {},
     "output_type": "execute_result"
    }
   ],
   "source": [
    "preds_fold.mean(axis=0)"
   ]
  },
  {
   "cell_type": "code",
   "execution_count": 21,
   "id": "5c6af68c",
   "metadata": {
    "execution": {
     "iopub.execute_input": "2021-10-19T21:52:19.513731Z",
     "iopub.status.busy": "2021-10-19T21:52:19.512438Z",
     "iopub.status.idle": "2021-10-19T21:52:19.537635Z",
     "shell.execute_reply": "2021-10-19T21:52:19.537039Z",
     "shell.execute_reply.started": "2021-10-19T14:48:55.368361Z"
    },
    "papermill": {
     "duration": 0.071933,
     "end_time": "2021-10-19T21:52:19.537770",
     "exception": false,
     "start_time": "2021-10-19T21:52:19.465837",
     "status": "completed"
    },
    "tags": []
   },
   "outputs": [],
   "source": [
    "df_test['pressure'] = preds_fold.mean(axis=0)"
   ]
  },
  {
   "cell_type": "code",
   "execution_count": 22,
   "id": "709cd619",
   "metadata": {
    "execution": {
     "iopub.execute_input": "2021-10-19T21:52:19.623762Z",
     "iopub.status.busy": "2021-10-19T21:52:19.617359Z",
     "iopub.status.idle": "2021-10-19T21:52:19.626591Z",
     "shell.execute_reply": "2021-10-19T21:52:19.627027Z",
     "shell.execute_reply.started": "2021-10-19T14:48:55.371157Z"
    },
    "papermill": {
     "duration": 0.048672,
     "end_time": "2021-10-19T21:52:19.627149",
     "exception": false,
     "start_time": "2021-10-19T21:52:19.578477",
     "status": "completed"
    },
    "tags": []
   },
   "outputs": [
    {
     "data": {
      "text/plain": [
       "0          6.312798\n",
       "1          6.025794\n",
       "2          7.171584\n",
       "3          7.668033\n",
       "4          9.024434\n",
       "             ...   \n",
       "4023995    6.221732\n",
       "4023996    6.280381\n",
       "4023997    6.242808\n",
       "4023998    6.214435\n",
       "4023999    6.322222\n",
       "Name: pressure, Length: 4024000, dtype: float32"
      ]
     },
     "execution_count": 22,
     "metadata": {},
     "output_type": "execute_result"
    }
   ],
   "source": [
    "df_test['pressure']"
   ]
  },
  {
   "cell_type": "code",
   "execution_count": 23,
   "id": "bfb8c1ae",
   "metadata": {
    "execution": {
     "iopub.execute_input": "2021-10-19T21:52:19.724763Z",
     "iopub.status.busy": "2021-10-19T21:52:19.723938Z",
     "iopub.status.idle": "2021-10-19T21:52:30.830045Z",
     "shell.execute_reply": "2021-10-19T21:52:30.829043Z",
     "shell.execute_reply.started": "2021-10-19T14:12:28.724205Z"
    },
    "papermill": {
     "duration": 11.165521,
     "end_time": "2021-10-19T21:52:30.830176",
     "exception": false,
     "start_time": "2021-10-19T21:52:19.664655",
     "status": "completed"
    },
    "tags": []
   },
   "outputs": [],
   "source": [
    "df_test[['id', 'pressure']].to_csv('submission.csv', index=False)"
   ]
  },
  {
   "cell_type": "code",
   "execution_count": null,
   "id": "e0cfd3ef",
   "metadata": {
    "papermill": {
     "duration": 0.041184,
     "end_time": "2021-10-19T21:52:30.914464",
     "exception": false,
     "start_time": "2021-10-19T21:52:30.873280",
     "status": "completed"
    },
    "tags": []
   },
   "outputs": [],
   "source": []
  },
  {
   "cell_type": "code",
   "execution_count": null,
   "id": "d911c36f",
   "metadata": {
    "papermill": {
     "duration": 0.043152,
     "end_time": "2021-10-19T21:52:31.000332",
     "exception": false,
     "start_time": "2021-10-19T21:52:30.957180",
     "status": "completed"
    },
    "tags": []
   },
   "outputs": [],
   "source": []
  }
 ],
 "metadata": {
  "kernelspec": {
   "display_name": "Python 3 (ipykernel)",
   "language": "python",
   "name": "python3"
  },
  "language_info": {
   "codemirror_mode": {
    "name": "ipython",
    "version": 3
   },
   "file_extension": ".py",
   "mimetype": "text/x-python",
   "name": "python",
   "nbconvert_exporter": "python",
   "pygments_lexer": "ipython3",
   "version": "3.7.6"
  },
  "papermill": {
   "default_parameters": {},
   "duration": 25204.649026,
   "end_time": "2021-10-19T21:52:34.523737",
   "environment_variables": {},
   "exception": null,
   "input_path": "__notebook__.ipynb",
   "output_path": "__notebook__.ipynb",
   "parameters": {},
   "start_time": "2021-10-19T14:52:29.874711",
   "version": "2.3.3"
  }
 },
 "nbformat": 4,
 "nbformat_minor": 5
}
